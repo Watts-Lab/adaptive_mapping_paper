{
  "nbformat": 4,
  "nbformat_minor": 5,
  "metadata": {
    "colab": {
      "name": "Fig2_Adaptive_sampling.ipynb",
      "provenance": [],
      "collapsed_sections": []
    },
    "kernelspec": {
      "display_name": "Python 3",
      "language": "python",
      "name": "python3"
    },
    "language_info": {
      "codemirror_mode": {
        "name": "ipython",
        "version": 3
      },
      "file_extension": ".py",
      "mimetype": "text/x-python",
      "name": "python",
      "nbconvert_exporter": "python",
      "pygments_lexer": "ipython3",
      "version": "3.7.6"
    }
  },
  "cells": [
    {
      "cell_type": "markdown",
      "metadata": {
        "id": "experimental-solid"
      },
      "source": [
        "# Difference-in-means model\n",
        "\n",
        "This notebook accompanies [The range of middle theories: Adaptively mapping the experimental design space](). This notebook continues with the motivating question found in the first paragraph of the paper “Do teams perform better than individuals on the same tasks?” Our goal is to measure the difference-in-means between two treatment conditions across the experiment design space. \n",
        "\n",
        "This notebook contains the code used to generate Fig. 2 of the paper, and demonstrates how the adaptive sampling techniques described in the second section of the paper may be implemented.\n",
        "\n",
        "In the previous analysis, we had experimental data from a finite population of micro-experiments. In this notebook, we are going to be choosing which micro-experiment to sample from next, but we will still consider a finite population of possible microexperiments. This reflects a world in which parameters either cannot be continuously adjusted, or in which there is a cost to constructing new micro-experiments.\n"
      ],
      "id": "experimental-solid"
    },
    {
      "cell_type": "code",
      "metadata": {
        "colab": {
          "base_uri": "https://localhost:8080/"
        },
        "id": "BJCJ2lJknZ2o",
        "outputId": "ed37c9f7-d0e6-48d2-d098-502486667975"
      },
      "source": [
        "# install dependencies\n",
        "# we specify particular versions for reproducibility\n",
        "! pip install numpy==1.19.5\n",
        "! pip install pandas==1.1.2\n",
        "! pip install matplotlib==3.5.0\n",
        "! pip install theano-pymc==1.1.2\n",
        "! pip install pymc3==3.11.4"
      ],
      "id": "BJCJ2lJknZ2o",
      "execution_count": null,
      "outputs": [
        {
          "name": "stdout",
          "output_type": "stream",
          "text": [
            "Requirement already satisfied: numpy==1.19.5 in /usr/local/lib/python3.7/dist-packages (1.19.5)\n",
            "Requirement already satisfied: pandas==1.1.2 in /usr/local/lib/python3.7/dist-packages (1.1.2)\n",
            "Requirement already satisfied: python-dateutil>=2.7.3 in /usr/local/lib/python3.7/dist-packages (from pandas==1.1.2) (2.8.2)\n",
            "Requirement already satisfied: pytz>=2017.2 in /usr/local/lib/python3.7/dist-packages (from pandas==1.1.2) (2018.9)\n",
            "Requirement already satisfied: numpy>=1.15.4 in /usr/local/lib/python3.7/dist-packages (from pandas==1.1.2) (1.19.5)\n",
            "Requirement already satisfied: six>=1.5 in /usr/local/lib/python3.7/dist-packages (from python-dateutil>=2.7.3->pandas==1.1.2) (1.15.0)\n",
            "Requirement already satisfied: matplotlib==3.5.0 in /usr/local/lib/python3.7/dist-packages (3.5.0)\n",
            "Requirement already satisfied: packaging>=20.0 in /usr/local/lib/python3.7/dist-packages (from matplotlib==3.5.0) (21.3)\n",
            "Requirement already satisfied: pillow>=6.2.0 in /usr/local/lib/python3.7/dist-packages (from matplotlib==3.5.0) (7.1.2)\n",
            "Requirement already satisfied: pyparsing>=2.2.1 in /usr/local/lib/python3.7/dist-packages (from matplotlib==3.5.0) (3.0.6)\n",
            "Requirement already satisfied: kiwisolver>=1.0.1 in /usr/local/lib/python3.7/dist-packages (from matplotlib==3.5.0) (1.3.2)\n",
            "Requirement already satisfied: numpy>=1.17 in /usr/local/lib/python3.7/dist-packages (from matplotlib==3.5.0) (1.19.5)\n",
            "Requirement already satisfied: python-dateutil>=2.7 in /usr/local/lib/python3.7/dist-packages (from matplotlib==3.5.0) (2.8.2)\n",
            "Requirement already satisfied: cycler>=0.10 in /usr/local/lib/python3.7/dist-packages (from matplotlib==3.5.0) (0.11.0)\n",
            "Requirement already satisfied: fonttools>=4.22.0 in /usr/local/lib/python3.7/dist-packages (from matplotlib==3.5.0) (4.28.2)\n",
            "Requirement already satisfied: setuptools-scm>=4 in /usr/local/lib/python3.7/dist-packages (from matplotlib==3.5.0) (6.3.2)\n",
            "Requirement already satisfied: six>=1.5 in /usr/local/lib/python3.7/dist-packages (from python-dateutil>=2.7->matplotlib==3.5.0) (1.15.0)\n",
            "Requirement already satisfied: setuptools in /usr/local/lib/python3.7/dist-packages (from setuptools-scm>=4->matplotlib==3.5.0) (57.4.0)\n",
            "Requirement already satisfied: tomli>=1.0.0 in /usr/local/lib/python3.7/dist-packages (from setuptools-scm>=4->matplotlib==3.5.0) (1.2.2)\n",
            "Requirement already satisfied: theano-pymc==1.1.2 in /usr/local/lib/python3.7/dist-packages (1.1.2)\n",
            "Requirement already satisfied: scipy>=0.14 in /usr/local/lib/python3.7/dist-packages (from theano-pymc==1.1.2) (1.4.1)\n",
            "Requirement already satisfied: filelock in /usr/local/lib/python3.7/dist-packages (from theano-pymc==1.1.2) (3.4.0)\n",
            "Requirement already satisfied: numpy>=1.9.1 in /usr/local/lib/python3.7/dist-packages (from theano-pymc==1.1.2) (1.19.5)\n",
            "Requirement already satisfied: pymc3==3.11.4 in /usr/local/lib/python3.7/dist-packages (3.11.4)\n",
            "Requirement already satisfied: cachetools>=4.2.1 in /usr/local/lib/python3.7/dist-packages (from pymc3==3.11.4) (4.2.4)\n",
            "Requirement already satisfied: dill in /usr/local/lib/python3.7/dist-packages (from pymc3==3.11.4) (0.3.4)\n",
            "Requirement already satisfied: semver>=2.13.0 in /usr/local/lib/python3.7/dist-packages (from pymc3==3.11.4) (2.13.0)\n",
            "Requirement already satisfied: fastprogress>=0.2.0 in /usr/local/lib/python3.7/dist-packages (from pymc3==3.11.4) (1.0.0)\n",
            "Requirement already satisfied: scipy>=1.2.0 in /usr/local/lib/python3.7/dist-packages (from pymc3==3.11.4) (1.4.1)\n",
            "Requirement already satisfied: patsy>=0.5.1 in /usr/local/lib/python3.7/dist-packages (from pymc3==3.11.4) (0.5.2)\n",
            "Requirement already satisfied: numpy>=1.15.0 in /usr/local/lib/python3.7/dist-packages (from pymc3==3.11.4) (1.19.5)\n",
            "Requirement already satisfied: typing-extensions>=3.7.4 in /usr/local/lib/python3.7/dist-packages (from pymc3==3.11.4) (3.10.0.2)\n",
            "Requirement already satisfied: theano-pymc==1.1.2 in /usr/local/lib/python3.7/dist-packages (from pymc3==3.11.4) (1.1.2)\n",
            "Requirement already satisfied: arviz>=0.11.0 in /usr/local/lib/python3.7/dist-packages (from pymc3==3.11.4) (0.11.4)\n",
            "Requirement already satisfied: pandas>=0.24.0 in /usr/local/lib/python3.7/dist-packages (from pymc3==3.11.4) (1.1.2)\n",
            "Requirement already satisfied: filelock in /usr/local/lib/python3.7/dist-packages (from theano-pymc==1.1.2->pymc3==3.11.4) (3.4.0)\n",
            "Requirement already satisfied: xarray>=0.16.1 in /usr/local/lib/python3.7/dist-packages (from arviz>=0.11.0->pymc3==3.11.4) (0.18.2)\n",
            "Requirement already satisfied: matplotlib>=3.0 in /usr/local/lib/python3.7/dist-packages (from arviz>=0.11.0->pymc3==3.11.4) (3.5.0)\n",
            "Requirement already satisfied: netcdf4 in /usr/local/lib/python3.7/dist-packages (from arviz>=0.11.0->pymc3==3.11.4) (1.5.8)\n",
            "Requirement already satisfied: packaging in /usr/local/lib/python3.7/dist-packages (from arviz>=0.11.0->pymc3==3.11.4) (21.3)\n",
            "Requirement already satisfied: setuptools>=38.4 in /usr/local/lib/python3.7/dist-packages (from arviz>=0.11.0->pymc3==3.11.4) (57.4.0)\n",
            "Requirement already satisfied: fonttools>=4.22.0 in /usr/local/lib/python3.7/dist-packages (from matplotlib>=3.0->arviz>=0.11.0->pymc3==3.11.4) (4.28.2)\n",
            "Requirement already satisfied: python-dateutil>=2.7 in /usr/local/lib/python3.7/dist-packages (from matplotlib>=3.0->arviz>=0.11.0->pymc3==3.11.4) (2.8.2)\n",
            "Requirement already satisfied: setuptools-scm>=4 in /usr/local/lib/python3.7/dist-packages (from matplotlib>=3.0->arviz>=0.11.0->pymc3==3.11.4) (6.3.2)\n",
            "Requirement already satisfied: pyparsing>=2.2.1 in /usr/local/lib/python3.7/dist-packages (from matplotlib>=3.0->arviz>=0.11.0->pymc3==3.11.4) (3.0.6)\n",
            "Requirement already satisfied: pillow>=6.2.0 in /usr/local/lib/python3.7/dist-packages (from matplotlib>=3.0->arviz>=0.11.0->pymc3==3.11.4) (7.1.2)\n",
            "Requirement already satisfied: kiwisolver>=1.0.1 in /usr/local/lib/python3.7/dist-packages (from matplotlib>=3.0->arviz>=0.11.0->pymc3==3.11.4) (1.3.2)\n",
            "Requirement already satisfied: cycler>=0.10 in /usr/local/lib/python3.7/dist-packages (from matplotlib>=3.0->arviz>=0.11.0->pymc3==3.11.4) (0.11.0)\n",
            "Requirement already satisfied: pytz>=2017.2 in /usr/local/lib/python3.7/dist-packages (from pandas>=0.24.0->pymc3==3.11.4) (2018.9)\n",
            "Requirement already satisfied: six in /usr/local/lib/python3.7/dist-packages (from patsy>=0.5.1->pymc3==3.11.4) (1.15.0)\n",
            "Requirement already satisfied: tomli>=1.0.0 in /usr/local/lib/python3.7/dist-packages (from setuptools-scm>=4->matplotlib>=3.0->arviz>=0.11.0->pymc3==3.11.4) (1.2.2)\n",
            "Requirement already satisfied: cftime in /usr/local/lib/python3.7/dist-packages (from netcdf4->arviz>=0.11.0->pymc3==3.11.4) (1.5.1.1)\n"
          ]
        }
      ]
    },
    {
      "cell_type": "code",
      "metadata": {
        "colab": {
          "base_uri": "https://localhost:8080/"
        },
        "id": "inclusive-consistency",
        "outputId": "7f4a4b46-9427-41f0-98ac-75f559d470d3"
      },
      "source": [
        "%pylab inline\n",
        "import numpy as np\n",
        "import pandas as pd\n",
        "import itertools\n",
        "import scipy.spatial\n",
        "\n",
        "import theano\n",
        "import theano.tensor as tt\n",
        "import pymc3 as pm\n",
        "from pymc3.gp.util import plot_gp_dist\n",
        "from scipy.interpolate import interpn\n",
        "theano.config.gcc.cxxflags = \"-Wno-c++11-narrowing\"  # ignore some compiler errors"
      ],
      "id": "inclusive-consistency",
      "execution_count": null,
      "outputs": [
        {
          "name": "stdout",
          "output_type": "stream",
          "text": [
            "Populating the interactive namespace from numpy and matplotlib\n"
          ]
        }
      ]
    },
    {
      "cell_type": "markdown",
      "metadata": {
        "id": "acoustic-firmware"
      },
      "source": [
        "## Generate sample data\n",
        "This notebook uses the same artificial data generator used for figure 1, with the same random seed."
      ],
      "id": "acoustic-firmware"
    },
    {
      "cell_type": "code",
      "metadata": {
        "id": "guilty-russian"
      },
      "source": [
        "rng = np.random.default_rng(1369)  # initialize a random number generator with a fixed seed\n",
        "\n",
        "def ground_truth(n_facets, n_levels, n_conditions):\n",
        "    \"\"\"\n",
        "    Parameters\n",
        "    ----------\n",
        "    n_facets: int >= 1\n",
        "        number of dimensions in the experiment design space `D`\n",
        "        \n",
        "    n_levels: int >= 2\n",
        "        number of levels to be defined along each dimension\n",
        "    \n",
        "    n_conditions: int >= 1\n",
        "        number of different treatment conditions to be assessed at each point\n",
        "        \n",
        "    Returns\n",
        "    -------\n",
        "    d_exhaustive: np.array(n_levels^n_facets, n_facets)\n",
        "        Points in the design space\n",
        "        - each row is a different point in the space that has a defined ground truth\n",
        "        - each column is a coordinate along a different dimension in the design space\n",
        "        \n",
        "    μ_true: np.array(n_levels^n_facets, n_conditions)\n",
        "        Outcome values\n",
        "        - one row for each point in the design space\n",
        "        - one column for each treatment condition\n",
        "    \"\"\"\n",
        "    \n",
        "    # Define the design space:\n",
        "    levels = np.linspace(0, 1, n_levels)\n",
        "    d_exhaustive = np.array(list(itertools.product(levels, repeat=n_facets)))\n",
        "    \n",
        "    # define the rate of change of effects across the design space\n",
        "    def exponentiated_quadratic(xa, xb, σ):\n",
        "        \"\"\"\n",
        "        Exponentiated quadratic covariance function\n",
        "        covariance of xa with xb\n",
        "        according to distance parameter σ\n",
        "\n",
        "        \"\"\"\n",
        "        return np.exp(-1/(2*σ**3) * scipy.spatial.distance.cdist(xa, xb, 'sqeuclidean'))\n",
        "    \n",
        "    Σ_true = exponentiated_quadratic(d_exhaustive, d_exhaustive, σ=.6)  # covariance matrix \n",
        "\n",
        "    \n",
        "    # define a ground-truth for each comparison\n",
        "    μ_true = rng.multivariate_normal(\n",
        "        mean=np.zeros(len(d_exhaustive)), cov=.1*Σ_true, \n",
        "        size=n_conditions)\n",
        "\n",
        "    \n",
        "    return d_exhaustive, μ_true,\n",
        "    \n",
        "n_facets = 1\n",
        "n_levels = 20\n",
        "n_conditions = 2\n",
        "d_exhaustive, μ_true = ground_truth(n_facets, n_levels, n_conditions)\n"
      ],
      "id": "guilty-russian",
      "execution_count": null,
      "outputs": []
    },
    {
      "cell_type": "code",
      "metadata": {
        "id": "suited-hepatitis"
      },
      "source": [
        "def choose_js(d_exhaustive, μ_true, J):\n",
        "    \"\"\"\n",
        "    Choose a set of microexperiments to conduct.\n",
        "    Each microexperiment will have a particular mean that is sampled with noise around μ_true\n",
        "    this mean varies from the mean of all microexperiments that could have been conducted at that location.\n",
        "    \n",
        "    \n",
        "    Parameters\n",
        "    ----------\n",
        "    d_exhaustive: np.array(n_levels^n_facets, n_facets)\n",
        "        All possible points in the design space that the micro-experiments could be chosen from\n",
        "        - each row is a different point in the space that has a defined ground truth\n",
        "        - each column is a coordinate along a different dimension in the design space\n",
        "        \n",
        "    μ_true: np.array(n_levels^n_facets, n_conditions)\n",
        "        Expected value for each treatment condition across all microexperiments that could have been\n",
        "        conducted at each point in d_exhaustive\n",
        "        - one row for each point in the design space\n",
        "        - one column for each treatment condition\n",
        "    \n",
        "    J: integer >=1 \n",
        "        number of microexperiments to conduct\n",
        "        \n",
        "        \n",
        "    Returns\n",
        "    -------\n",
        "    d_j: np.array(J, n_facets)\n",
        "        Locations of each micro-experiment `j` in design space `D`\n",
        "        \n",
        "    μ_j: np.array(J, n_conditions)\n",
        "        Expected value of each condition for each realized micro-experiment\n",
        "        These are sampled from μ_true with noise\n",
        "        \n",
        "    σ_j: np.array(J)\n",
        "        Noise realized in sampling each micro-experiment\n",
        "        \n",
        "    ds: np.array(number of unique locations sampled)\n",
        "        Unique locations containing one or more micro-experiments\n",
        "        \n",
        "    d_index: np.array(J)\n",
        "        index of each microexperiment in `ds`\n",
        "    \"\"\"\n",
        " \n",
        "    n_conditions = μ_true.shape[0]\n",
        "    indices = rng.integers(len(d_exhaustive), size=J)\n",
        "    d_j = np.array([d_exhaustive[index,:] for index in indices])\n",
        "\n",
        "    σμ = .08  # std between multiple microexperiments run at the same point in the design space\n",
        "    σσ = .08  # average scale of noise of each microexperiment\n",
        "    \n",
        "    μ_j = np.array([μ_true[:,index] + rng.normal(scale=σμ, size=n_conditions) for index in indices]) \n",
        "    σ_j = rng.gamma(shape=2, scale=σσ, size=J)\n",
        "\n",
        "    ds = np.unique(d_j, axis=0)  # list of different locations in D-space where we have micro-experiments\n",
        "    d_index = np.array([np.argwhere(np.all(ds==d, axis=1))[0,0] for d in d_j])  # index of jth microexperiment in ds\n",
        "    \n",
        "    assert (all(d_j == ds[d_index]))  # check that we got the arrays right\n",
        "    return d_j, μ_j, σ_j, ds, d_index\n",
        "\n",
        "\n",
        "J=30\n",
        "d_j, μ_j, σ_j, ds, d_index = choose_js(d_exhaustive, μ_true, J)\n"
      ],
      "id": "suited-hepatitis",
      "execution_count": null,
      "outputs": []
    },
    {
      "cell_type": "code",
      "metadata": {
        "id": "passing-oracle"
      },
      "source": [
        "def generate_random_sample_points(J, d_j, n_conditions, n):\n",
        "    \"\"\"\n",
        "    Choose some random points and conditions\n",
        "    \n",
        "    Parameters\n",
        "    ----------\n",
        "    J: integer >=1 \n",
        "        number of microexperiments available\n",
        "        \n",
        "    d_j: np.array(J, n_facets)\n",
        "        Design-space locations of each micro-experiment available\n",
        "        \n",
        "    n_conditions: int >= 1\n",
        "        number of different treatment conditions available\n",
        "        \n",
        "    n: int >= 1\n",
        "        number of sample points to generate\n",
        "        \n",
        "    Returns\n",
        "    -------\n",
        "    j: np.array(n)\n",
        "        indices of the microexperiments from which each sample is taken\n",
        "        \n",
        "    d: np.array(n, n_facets)\n",
        "        design space locations of each sample\n",
        "        \n",
        "    X: np.array(n)\n",
        "        indices of treatment conditions for each sample\n",
        "    \n",
        "    \"\"\"\n",
        "    j = rng.integers(J, size=n)  # group of the ith sample\n",
        "    d = d_j[j]  # design space location of the ith sample\n",
        "    X = rng.integers(n_conditions, size=n)\n",
        "    return j, d, X\n",
        "\n",
        "n=1\n",
        "j, d, X = generate_random_sample_points(J, d_j, n_conditions, n)"
      ],
      "id": "passing-oracle",
      "execution_count": null,
      "outputs": []
    },
    {
      "cell_type": "code",
      "metadata": {
        "id": "elementary-magazine"
      },
      "source": [
        "def make_sampler(μ_j, σ_j):\n",
        "    \"\"\"\n",
        "    Create a function returning samples from micro-experiments\n",
        "    \n",
        "    Parameters\n",
        "    ----------\n",
        "    μ_j: np.array(J, n_conditions)\n",
        "        Expected value of each condition for each micro-experiment\n",
        "        These are sampled from μ_true with noise\n",
        "        \n",
        "    σ_j: np.array(J)\n",
        "        Noise with which each micro-experiment is sampled\n",
        "    \n",
        "    Returns\n",
        "    -------\n",
        "    sample(j, X): function\n",
        "    \n",
        "    \"\"\"\n",
        "    def sample(j, X):\n",
        "        \"\"\"\n",
        "        Take a sample from the 'real world'\n",
        "        \n",
        "        Parameters\n",
        "        ----------\n",
        "        j: np.array(n)\n",
        "            indices of the microexperiments from which each sample is taken\n",
        "            \n",
        "        X: np.array(n)\n",
        "            indices of treatment conditions for each sample\n",
        "        \n",
        "        \"\"\"\n",
        "        y = [μ_j[ji][Xi] + rng.normal(scale=σ_j[ji]) for ji, Xi in zip(j, X)]\n",
        "        return  y\n",
        "    return sample\n",
        "        \n",
        "take_samples = make_sampler(μ_j, σ_j)\n",
        "    \n",
        "y = take_samples(j, X)"
      ],
      "id": "elementary-magazine",
      "execution_count": null,
      "outputs": []
    },
    {
      "cell_type": "markdown",
      "metadata": {
        "id": "detected-authentication"
      },
      "source": [
        "# Adaptive Sampling\n",
        "\n",
        "The adaptive sampling strategy has its roots in Bayesian Optimization and Active Learning techniques in machine learning. The figure below describes the general adaptive sampling cycle. \n",
        "\n",
        "Given any existing data (or appropriate priors) we can (1) fit a generative statistical model to act as a “surrogate” for the true system, across the design space. We can then (2) use this model to predict the outcomes of experiment samples we have yet to collect, given our current understanding of the system. From these predictions, we can (3) calculate the gain in knowledge that we should expect for each candidate sample, and then (4) choose a set of samples to collect based upon the reward, respecting any constraints or design limitations. After we (5) perform an experiment to collect these samples, we then (1) re-fit the surrogate model to all of the data we have collected so far, and repeat the process.\n",
        "\n",
        "\n",
        "<img src=\"https://raw.githubusercontent.com/Watts-Lab/adaptive_mapping_paper/407aa5c3047a7a69041bb6a4a0c48ceb2f5f8b4c/ax_loop.png\" width=\"350\"/>\n",
        "\n",
        "## Step 1: Fit a \"Surrogate\" Model\n",
        "As the surrogate model in our adaptive sampling loop, we'll use the functional partial pooling model we developed [in the previous notebook]().\n",
        "\n",
        "The initial fit for the surrogate model will use a few randomly chosen samples.\n",
        "\n"
      ],
      "id": "detected-authentication"
    },
    {
      "cell_type": "code",
      "metadata": {
        "colab": {
          "base_uri": "https://localhost:8080/",
          "height": 812
        },
        "id": "external-tactics",
        "outputId": "f7cd291e-e275-4b95-929f-01f09d9cbb14"
      },
      "source": [
        "def build_functional_partial_pooled_model(J, n_conditions, j, X, y, ds, n_facets, d_index):\n",
        "    \n",
        "    with pm.Model() as model:\n",
        "        \n",
        "        # hyper-hyperpriors for gaussian process\n",
        "        gp_length_scale_ = pm.Gamma(\"GP_length_Scale\", alpha=2, beta=1, shape=n_facets)  # allow a different length scale for each facet\n",
        "        \n",
        "        # hyperpriors for slope and intercept\n",
        "        cov_func = pm.gp.cov.ExpQuad(n_facets, ls=gp_length_scale_)\n",
        "        gp_μ̄_ = [pm.gp.Latent(cov_func=cov_func) for i in range(n_conditions)]  # one GP for each treatment\n",
        "        μ̄_ = pm.Deterministic(\"μ̄\", pm.math.stack([gpi.prior(\"μ̄_X%i\"%i, X=ds, shape=len(ds)) for i, gpi in enumerate(gp_μ̄_)]).T)  # mean for effects prior\n",
        "      \n",
        "        σμ_ = pm.HalfNormal(\"σ_μ\", sigma=1, shape=n_conditions)  \n",
        "        μσ_ = pm.HalfNormal(\"μ_σ\", sigma=1)  # scale parameter for noise prior\n",
        "    \n",
        "        # Prior for noise\n",
        "\n",
        "        μ_ = pm.Normal(\"μ\", mu=μ̄_[d_index,:], sigma=σμ_, shape=(J, n_conditions))\n",
        "        σ_ = pm.Gamma(\"σ\", alpha=2, beta=μσ_, shape=J)\n",
        "\n",
        "        # Observations sampled with gaussian noise\n",
        "        y_ = pm.Normal(\"y\", mu=μ_[j,X], sd=σ_[j], observed=y)\n",
        "        \n",
        "    return model\n",
        "        \n",
        "    \n",
        "functional_partial_pooling = build_functional_partial_pooled_model(J, n_conditions, j, X, y, ds, n_facets, d_index)\n",
        "pm.model_to_graphviz(functional_partial_pooling)\n",
        "\n"
      ],
      "id": "external-tactics",
      "execution_count": null,
      "outputs": [
        {
          "data": {
            "image/svg+xml": "<?xml version=\"1.0\" encoding=\"UTF-8\" standalone=\"no\"?>\n<!DOCTYPE svg PUBLIC \"-//W3C//DTD SVG 1.1//EN\"\n \"http://www.w3.org/Graphics/SVG/1.1/DTD/svg11.dtd\">\n<!-- Generated by graphviz version 2.40.1 (20161225.0304)\n -->\n<!-- Title: %3 Pages: 1 -->\n<svg width=\"565pt\" height=\"593pt\"\n viewBox=\"0.00 0.00 565.13 592.81\" xmlns=\"http://www.w3.org/2000/svg\" xmlns:xlink=\"http://www.w3.org/1999/xlink\">\n<g id=\"graph0\" class=\"graph\" transform=\"scale(1 1) rotate(0) translate(4 588.8133)\">\n<title>%3</title>\n<polygon fill=\"#ffffff\" stroke=\"transparent\" points=\"-4,4 -4,-588.8133 561.1285,-588.8133 561.1285,4 -4,4\"/>\n<g id=\"clust1\" class=\"cluster\">\n<title>cluster15</title>\n<path fill=\"none\" stroke=\"#000000\" d=\"M28.1041,-373.86C28.1041,-373.86 371.1041,-373.86 371.1041,-373.86 377.1041,-373.86 383.1041,-379.86 383.1041,-385.86 383.1041,-385.86 383.1041,-564.8133 383.1041,-564.8133 383.1041,-570.8133 377.1041,-576.8133 371.1041,-576.8133 371.1041,-576.8133 28.1041,-576.8133 28.1041,-576.8133 22.1041,-576.8133 16.1041,-570.8133 16.1041,-564.8133 16.1041,-564.8133 16.1041,-385.86 16.1041,-385.86 16.1041,-379.86 22.1041,-373.86 28.1041,-373.86\"/>\n<text text-anchor=\"middle\" x=\"367.1041\" y=\"-381.66\" font-family=\"Times,serif\" font-size=\"14.00\" fill=\"#000000\">15</text>\n</g>\n<g id=\"clust2\" class=\"cluster\">\n<title>cluster15 x 2</title>\n<path fill=\"none\" stroke=\"#000000\" d=\"M142.1041,-262.8833C142.1041,-262.8833 226.1041,-262.8833 226.1041,-262.8833 232.1041,-262.8833 238.1041,-268.8833 238.1041,-274.8833 238.1041,-274.8833 238.1041,-342.8833 238.1041,-342.8833 238.1041,-348.8833 232.1041,-354.8833 226.1041,-354.8833 226.1041,-354.8833 142.1041,-354.8833 142.1041,-354.8833 136.1041,-354.8833 130.1041,-348.8833 130.1041,-342.8833 130.1041,-342.8833 130.1041,-274.8833 130.1041,-274.8833 130.1041,-268.8833 136.1041,-262.8833 142.1041,-262.8833\"/>\n<text text-anchor=\"middle\" x=\"211.1041\" y=\"-270.6833\" font-family=\"Times,serif\" font-size=\"14.00\" fill=\"#000000\">15 x 2</text>\n</g>\n<g id=\"clust4\" class=\"cluster\">\n<title>cluster30 x 2</title>\n<path fill=\"none\" stroke=\"#000000\" d=\"M146.1041,-129.9533C146.1041,-129.9533 222.1041,-129.9533 222.1041,-129.9533 228.1041,-129.9533 234.1041,-135.9533 234.1041,-141.9533 234.1041,-141.9533 234.1041,-231.9066 234.1041,-231.9066 234.1041,-237.9066 228.1041,-243.9066 222.1041,-243.9066 222.1041,-243.9066 146.1041,-243.9066 146.1041,-243.9066 140.1041,-243.9066 134.1041,-237.9066 134.1041,-231.9066 134.1041,-231.9066 134.1041,-141.9533 134.1041,-141.9533 134.1041,-135.9533 140.1041,-129.9533 146.1041,-129.9533\"/>\n<text text-anchor=\"middle\" x=\"207.1041\" y=\"-137.7533\" font-family=\"Times,serif\" font-size=\"14.00\" fill=\"#000000\">30 x 2</text>\n</g>\n<g id=\"clust5\" class=\"cluster\">\n<title>cluster30</title>\n<path fill=\"none\" stroke=\"#000000\" d=\"M32.1041,-129.9533C32.1041,-129.9533 112.1041,-129.9533 112.1041,-129.9533 118.1041,-129.9533 124.1041,-135.9533 124.1041,-141.9533 124.1041,-141.9533 124.1041,-231.9066 124.1041,-231.9066 124.1041,-237.9066 118.1041,-243.9066 112.1041,-243.9066 112.1041,-243.9066 32.1041,-243.9066 32.1041,-243.9066 26.1041,-243.9066 20.1041,-237.9066 20.1041,-231.9066 20.1041,-231.9066 20.1041,-141.9533 20.1041,-141.9533 20.1041,-135.9533 26.1041,-129.9533 32.1041,-129.9533\"/>\n<text text-anchor=\"middle\" x=\"108.1041\" y=\"-137.7533\" font-family=\"Times,serif\" font-size=\"14.00\" fill=\"#000000\">30</text>\n</g>\n<g id=\"clust3\" class=\"cluster\">\n<title>cluster2</title>\n<path fill=\"none\" stroke=\"#000000\" d=\"M258.1041,-251.9066C258.1041,-251.9066 370.1041,-251.9066 370.1041,-251.9066 376.1041,-251.9066 382.1041,-257.9066 382.1041,-263.9066 382.1041,-263.9066 382.1041,-353.86 382.1041,-353.86 382.1041,-359.86 376.1041,-365.86 370.1041,-365.86 370.1041,-365.86 258.1041,-365.86 258.1041,-365.86 252.1041,-365.86 246.1041,-359.86 246.1041,-353.86 246.1041,-353.86 246.1041,-263.9066 246.1041,-263.9066 246.1041,-257.9066 252.1041,-251.9066 258.1041,-251.9066\"/>\n<text text-anchor=\"middle\" x=\"370.1041\" y=\"-259.7066\" font-family=\"Times,serif\" font-size=\"14.00\" fill=\"#000000\">2</text>\n</g>\n<g id=\"clust6\" class=\"cluster\">\n<title>cluster3</title>\n<path fill=\"none\" stroke=\"#000000\" d=\"M90.1041,-8C90.1041,-8 166.1041,-8 166.1041,-8 172.1041,-8 178.1041,-14 178.1041,-20 178.1041,-20 178.1041,-109.9533 178.1041,-109.9533 178.1041,-115.9533 172.1041,-121.9533 166.1041,-121.9533 166.1041,-121.9533 90.1041,-121.9533 90.1041,-121.9533 84.1041,-121.9533 78.1041,-115.9533 78.1041,-109.9533 78.1041,-109.9533 78.1041,-20 78.1041,-20 78.1041,-14 84.1041,-8 90.1041,-8\"/>\n<text text-anchor=\"middle\" x=\"166.1041\" y=\"-15.8\" font-family=\"Times,serif\" font-size=\"14.00\" fill=\"#000000\">3</text>\n</g>\n<!-- μ_σ -->\n<g id=\"node1\" class=\"node\">\n<title>μ_σ</title>\n<ellipse fill=\"none\" stroke=\"#000000\" cx=\"60.1041\" cy=\"-320.3833\" rx=\"60.2083\" ry=\"37.4533\"/>\n<text text-anchor=\"middle\" x=\"60.1041\" y=\"-331.6833\" font-family=\"Times,serif\" font-size=\"14.00\" fill=\"#000000\">μ_σ</text>\n<text text-anchor=\"middle\" x=\"60.1041\" y=\"-316.6833\" font-family=\"Times,serif\" font-size=\"14.00\" fill=\"#000000\">~</text>\n<text text-anchor=\"middle\" x=\"60.1041\" y=\"-301.6833\" font-family=\"Times,serif\" font-size=\"14.00\" fill=\"#000000\">HalfNormal</text>\n</g>\n<!-- σ -->\n<g id=\"node10\" class=\"node\">\n<title>σ</title>\n<ellipse fill=\"none\" stroke=\"#000000\" cx=\"72.1041\" cy=\"-198.43\" rx=\"43.6818\" ry=\"37.4533\"/>\n<text text-anchor=\"middle\" x=\"72.1041\" y=\"-209.73\" font-family=\"Times,serif\" font-size=\"14.00\" fill=\"#000000\">σ</text>\n<text text-anchor=\"middle\" x=\"72.1041\" y=\"-194.73\" font-family=\"Times,serif\" font-size=\"14.00\" fill=\"#000000\">~</text>\n<text text-anchor=\"middle\" x=\"72.1041\" y=\"-179.73\" font-family=\"Times,serif\" font-size=\"14.00\" fill=\"#000000\">Gamma</text>\n</g>\n<!-- μ_σ&#45;&gt;σ -->\n<g id=\"edge9\" class=\"edge\">\n<title>μ_σ&#45;&gt;σ</title>\n<path fill=\"none\" stroke=\"#000000\" d=\"M63.8024,-282.7982C64.943,-271.2068 66.2143,-258.2861 67.4125,-246.1091\"/>\n<polygon fill=\"#000000\" stroke=\"#000000\" points=\"70.9012,-246.3956 68.3973,-236.1009 63.9348,-245.7101 70.9012,-246.3956\"/>\n</g>\n<!-- GP_length_Scale -->\n<g id=\"node2\" class=\"node\">\n<title>GP_length_Scale</title>\n<ellipse fill=\"none\" stroke=\"#000000\" cx=\"475.1041\" cy=\"-531.3366\" rx=\"82.0488\" ry=\"37.4533\"/>\n<text text-anchor=\"middle\" x=\"475.1041\" y=\"-542.6366\" font-family=\"Times,serif\" font-size=\"14.00\" fill=\"#000000\">GP_length_Scale</text>\n<text text-anchor=\"middle\" x=\"475.1041\" y=\"-527.6366\" font-family=\"Times,serif\" font-size=\"14.00\" fill=\"#000000\">~</text>\n<text text-anchor=\"middle\" x=\"475.1041\" y=\"-512.6366\" font-family=\"Times,serif\" font-size=\"14.00\" fill=\"#000000\">Gamma</text>\n</g>\n<!-- μ̄_X0 -->\n<g id=\"node5\" class=\"node\">\n<title>μ̄_X0</title>\n<polygon fill=\"none\" stroke=\"#000000\" points=\"229.1041,-457.86 137.1041,-457.86 137.1041,-404.86 229.1041,-404.86 229.1041,-457.86\"/>\n<text text-anchor=\"middle\" x=\"183.1041\" y=\"-442.66\" font-family=\"Times,serif\" font-size=\"14.00\" fill=\"#000000\">μ̄_X0</text>\n<text text-anchor=\"middle\" x=\"183.1041\" y=\"-427.66\" font-family=\"Times,serif\" font-size=\"14.00\" fill=\"#000000\">~</text>\n<text text-anchor=\"middle\" x=\"183.1041\" y=\"-412.66\" font-family=\"Times,serif\" font-size=\"14.00\" fill=\"#000000\">Deterministic</text>\n</g>\n<!-- GP_length_Scale&#45;&gt;μ̄_X0 -->\n<g id=\"edge2\" class=\"edge\">\n<title>GP_length_Scale&#45;&gt;μ̄_X0</title>\n<path fill=\"none\" stroke=\"#000000\" d=\"M416.4498,-504.7731C406.7494,-500.8396 396.7197,-497.0448 387.1041,-493.86 325.3366,-473.402 304.1644,-480.0855 238.8383,-457.8182\"/>\n<polygon fill=\"#000000\" stroke=\"#000000\" points=\"239.9134,-454.4863 229.3186,-454.4782 237.5959,-461.0915 239.9134,-454.4863\"/>\n</g>\n<!-- μ̄_X1 -->\n<g id=\"node6\" class=\"node\">\n<title>μ̄_X1</title>\n<polygon fill=\"none\" stroke=\"#000000\" points=\"339.1041,-457.86 247.1041,-457.86 247.1041,-404.86 339.1041,-404.86 339.1041,-457.86\"/>\n<text text-anchor=\"middle\" x=\"293.1041\" y=\"-442.66\" font-family=\"Times,serif\" font-size=\"14.00\" fill=\"#000000\">μ̄_X1</text>\n<text text-anchor=\"middle\" x=\"293.1041\" y=\"-427.66\" font-family=\"Times,serif\" font-size=\"14.00\" fill=\"#000000\">~</text>\n<text text-anchor=\"middle\" x=\"293.1041\" y=\"-412.66\" font-family=\"Times,serif\" font-size=\"14.00\" fill=\"#000000\">Deterministic</text>\n</g>\n<!-- GP_length_Scale&#45;&gt;μ̄_X1 -->\n<g id=\"edge4\" class=\"edge\">\n<title>GP_length_Scale&#45;&gt;μ̄_X1</title>\n<path fill=\"none\" stroke=\"#000000\" d=\"M422.4621,-502.4192C399.0963,-489.5839 371.6007,-474.4799 347.9811,-461.5051\"/>\n<polygon fill=\"#000000\" stroke=\"#000000\" points=\"349.5849,-458.3929 339.1351,-456.6458 346.2146,-464.5281 349.5849,-458.3929\"/>\n</g>\n<!-- μ̄_X1_rotated_ -->\n<g id=\"node3\" class=\"node\">\n<title>μ̄_X1_rotated_</title>\n<ellipse fill=\"none\" stroke=\"#000000\" cx=\"292.1041\" cy=\"-531.3366\" rx=\"83.3772\" ry=\"37.4533\"/>\n<text text-anchor=\"middle\" x=\"292.1041\" y=\"-542.6366\" font-family=\"Times,serif\" font-size=\"14.00\" fill=\"#000000\">μ̄_X1_rotated_</text>\n<text text-anchor=\"middle\" x=\"292.1041\" y=\"-527.6366\" font-family=\"Times,serif\" font-size=\"14.00\" fill=\"#000000\">~</text>\n<text text-anchor=\"middle\" x=\"292.1041\" y=\"-512.6366\" font-family=\"Times,serif\" font-size=\"14.00\" fill=\"#000000\">Normal</text>\n</g>\n<!-- μ̄_X1_rotated_&#45;&gt;μ̄_X1 -->\n<g id=\"edge3\" class=\"edge\">\n<title>μ̄_X1_rotated_&#45;&gt;μ̄_X1</title>\n<path fill=\"none\" stroke=\"#000000\" d=\"M292.4793,-493.8246C292.5627,-485.4874 292.651,-476.6556 292.7342,-468.34\"/>\n<polygon fill=\"#000000\" stroke=\"#000000\" points=\"296.2357,-468.1936 292.836,-458.1591 289.2361,-468.1235 296.2357,-468.1936\"/>\n</g>\n<!-- μ̄_X0_rotated_ -->\n<g id=\"node4\" class=\"node\">\n<title>μ̄_X0_rotated_</title>\n<ellipse fill=\"none\" stroke=\"#000000\" cx=\"107.1041\" cy=\"-531.3366\" rx=\"83.3772\" ry=\"37.4533\"/>\n<text text-anchor=\"middle\" x=\"107.1041\" y=\"-542.6366\" font-family=\"Times,serif\" font-size=\"14.00\" fill=\"#000000\">μ̄_X0_rotated_</text>\n<text text-anchor=\"middle\" x=\"107.1041\" y=\"-527.6366\" font-family=\"Times,serif\" font-size=\"14.00\" fill=\"#000000\">~</text>\n<text text-anchor=\"middle\" x=\"107.1041\" y=\"-512.6366\" font-family=\"Times,serif\" font-size=\"14.00\" fill=\"#000000\">Normal</text>\n</g>\n<!-- μ̄_X0_rotated_&#45;&gt;μ̄_X0 -->\n<g id=\"edge1\" class=\"edge\">\n<title>μ̄_X0_rotated_&#45;&gt;μ̄_X0</title>\n<path fill=\"none\" stroke=\"#000000\" d=\"M134.1128,-495.8071C141.4386,-486.1702 149.3606,-475.7489 156.6551,-466.1531\"/>\n<polygon fill=\"#000000\" stroke=\"#000000\" points=\"159.6077,-468.0525 162.8732,-457.9734 154.035,-463.8162 159.6077,-468.0525\"/>\n</g>\n<!-- μ̄ -->\n<g id=\"node7\" class=\"node\">\n<title>μ̄</title>\n<polygon fill=\"none\" stroke=\"#000000\" points=\"230.1041,-346.8833 138.1041,-346.8833 138.1041,-293.8833 230.1041,-293.8833 230.1041,-346.8833\"/>\n<text text-anchor=\"middle\" x=\"184.1041\" y=\"-331.6833\" font-family=\"Times,serif\" font-size=\"14.00\" fill=\"#000000\">μ̄</text>\n<text text-anchor=\"middle\" x=\"184.1041\" y=\"-316.6833\" font-family=\"Times,serif\" font-size=\"14.00\" fill=\"#000000\">~</text>\n<text text-anchor=\"middle\" x=\"184.1041\" y=\"-301.6833\" font-family=\"Times,serif\" font-size=\"14.00\" fill=\"#000000\">Deterministic</text>\n</g>\n<!-- μ̄_X0&#45;&gt;μ̄ -->\n<g id=\"edge5\" class=\"edge\">\n<title>μ̄_X0&#45;&gt;μ̄</title>\n<path fill=\"none\" stroke=\"#000000\" d=\"M183.3436,-404.7783C183.4713,-390.6069 183.6304,-372.9455 183.7701,-357.4472\"/>\n<polygon fill=\"#000000\" stroke=\"#000000\" points=\"187.2727,-357.1639 183.863,-347.1327 180.273,-357.1007 187.2727,-357.1639\"/>\n</g>\n<!-- μ̄_X1&#45;&gt;μ̄ -->\n<g id=\"edge6\" class=\"edge\">\n<title>μ̄_X1&#45;&gt;μ̄</title>\n<path fill=\"none\" stroke=\"#000000\" d=\"M267.7875,-404.592C258.5078,-394.8601 247.8838,-383.8109 238.1041,-373.86 231.8556,-367.5021 225.1441,-360.7755 218.6492,-354.3174\"/>\n<polygon fill=\"#000000\" stroke=\"#000000\" points=\"220.7307,-351.4526 211.1649,-346.8979 215.8025,-356.4238 220.7307,-351.4526\"/>\n</g>\n<!-- μ -->\n<g id=\"node9\" class=\"node\">\n<title>μ</title>\n<ellipse fill=\"none\" stroke=\"#000000\" cx=\"184.1041\" cy=\"-198.43\" rx=\"42.3529\" ry=\"37.4533\"/>\n<text text-anchor=\"middle\" x=\"184.1041\" y=\"-209.73\" font-family=\"Times,serif\" font-size=\"14.00\" fill=\"#000000\">μ</text>\n<text text-anchor=\"middle\" x=\"184.1041\" y=\"-194.73\" font-family=\"Times,serif\" font-size=\"14.00\" fill=\"#000000\">~</text>\n<text text-anchor=\"middle\" x=\"184.1041\" y=\"-179.73\" font-family=\"Times,serif\" font-size=\"14.00\" fill=\"#000000\">Normal</text>\n</g>\n<!-- μ̄&#45;&gt;μ -->\n<g id=\"edge7\" class=\"edge\">\n<title>μ̄&#45;&gt;μ</title>\n<path fill=\"none\" stroke=\"#000000\" d=\"M184.1041,-293.6201C184.1041,-279.8162 184.1041,-262.5536 184.1041,-246.5332\"/>\n<polygon fill=\"#000000\" stroke=\"#000000\" points=\"187.6042,-246.2336 184.1041,-236.2337 180.6042,-246.2337 187.6042,-246.2336\"/>\n</g>\n<!-- σ_μ -->\n<g id=\"node8\" class=\"node\">\n<title>σ_μ</title>\n<ellipse fill=\"none\" stroke=\"#000000\" cx=\"314.1041\" cy=\"-320.3833\" rx=\"60.2083\" ry=\"37.4533\"/>\n<text text-anchor=\"middle\" x=\"314.1041\" y=\"-331.6833\" font-family=\"Times,serif\" font-size=\"14.00\" fill=\"#000000\">σ_μ</text>\n<text text-anchor=\"middle\" x=\"314.1041\" y=\"-316.6833\" font-family=\"Times,serif\" font-size=\"14.00\" fill=\"#000000\">~</text>\n<text text-anchor=\"middle\" x=\"314.1041\" y=\"-301.6833\" font-family=\"Times,serif\" font-size=\"14.00\" fill=\"#000000\">HalfNormal</text>\n</g>\n<!-- σ_μ&#45;&gt;μ -->\n<g id=\"edge8\" class=\"edge\">\n<title>σ_μ&#45;&gt;μ</title>\n<path fill=\"none\" stroke=\"#000000\" d=\"M281.2295,-288.9134C268.9865,-277.2475 254.9475,-263.9337 242.1041,-251.9066 235.3497,-245.5816 228.1206,-238.8703 221.138,-232.4173\"/>\n<polygon fill=\"#000000\" stroke=\"#000000\" points=\"223.4148,-229.7559 213.6919,-225.547 218.668,-234.9005 223.4148,-229.7559\"/>\n</g>\n<!-- y -->\n<g id=\"node11\" class=\"node\">\n<title>y</title>\n<ellipse fill=\"#d3d3d3\" stroke=\"#000000\" cx=\"128.1041\" cy=\"-76.4767\" rx=\"42.3529\" ry=\"37.4533\"/>\n<text text-anchor=\"middle\" x=\"128.1041\" y=\"-87.7767\" font-family=\"Times,serif\" font-size=\"14.00\" fill=\"#000000\">y</text>\n<text text-anchor=\"middle\" x=\"128.1041\" y=\"-72.7767\" font-family=\"Times,serif\" font-size=\"14.00\" fill=\"#000000\">~</text>\n<text text-anchor=\"middle\" x=\"128.1041\" y=\"-57.7767\" font-family=\"Times,serif\" font-size=\"14.00\" fill=\"#000000\">Normal</text>\n</g>\n<!-- μ&#45;&gt;y -->\n<g id=\"edge11\" class=\"edge\">\n<title>μ&#45;&gt;y</title>\n<path fill=\"none\" stroke=\"#000000\" d=\"M168.0567,-163.4831C161.9644,-150.2155 154.9426,-134.924 148.5016,-120.8971\"/>\n<polygon fill=\"#000000\" stroke=\"#000000\" points=\"151.5075,-119.0558 144.1538,-111.4287 145.1461,-121.977 151.5075,-119.0558\"/>\n</g>\n<!-- σ&#45;&gt;y -->\n<g id=\"edge10\" class=\"edge\">\n<title>σ&#45;&gt;y</title>\n<path fill=\"none\" stroke=\"#000000\" d=\"M88.1514,-163.4831C94.2438,-150.2155 101.2655,-134.924 107.7065,-120.8971\"/>\n<polygon fill=\"#000000\" stroke=\"#000000\" points=\"111.062,-121.977 112.0544,-111.4287 104.7006,-119.0558 111.062,-121.977\"/>\n</g>\n</g>\n</svg>\n",
            "text/plain": [
              "<graphviz.dot.Digraph at 0x7fc64e595210>"
            ]
          },
          "execution_count": 7,
          "metadata": {},
          "output_type": "execute_result"
        }
      ]
    },
    {
      "cell_type": "code",
      "metadata": {
        "colab": {
          "base_uri": "https://localhost:8080/",
          "height": 320
        },
        "id": "chief-vintage",
        "outputId": "1f8949a9-0b7b-458c-97a4-a711d5cdb3cc"
      },
      "source": [
        "with functional_partial_pooling:\n",
        "    functional_partial_pooling_trace = pm.sample()\n",
        "\n",
        "traces = [functional_partial_pooling_trace]  # save for plotting"
      ],
      "id": "chief-vintage",
      "execution_count": null,
      "outputs": [
        {
          "name": "stderr",
          "output_type": "stream",
          "text": [
            "WARNING (theano.tensor.blas): We did not find a dynamic library in the library_dir of the library we use for blas. If you use ATLAS, make sure to compile it with dynamics library.\n",
            "WARNING (theano.tensor.blas): We did not find a dynamic library in the library_dir of the library we use for blas. If you use ATLAS, make sure to compile it with dynamics library.\n",
            "/usr/local/lib/python3.7/dist-packages/ipykernel_launcher.py:2: FutureWarning: In v4.0, pm.sample will return an `arviz.InferenceData` object instead of a `MultiTrace` by default. You can pass return_inferencedata=True or return_inferencedata=False to be safe and silence this warning.\n",
            "  \n",
            "Auto-assigning NUTS sampler...\n",
            "Initializing NUTS using jitter+adapt_diag...\n",
            "Sequential sampling (2 chains in 1 job)\n",
            "NUTS: [σ, μ, μ_σ, σ_μ, μ̄_X1_rotated_, μ̄_X0_rotated_, GP_length_Scale]\n"
          ]
        },
        {
          "data": {
            "text/html": [
              "\n",
              "    <div>\n",
              "        <style>\n",
              "            /* Turns off some styling */\n",
              "            progress {\n",
              "                /* gets rid of default border in Firefox and Opera. */\n",
              "                border: none;\n",
              "                /* Needs to be in here for Safari polyfill so background images work as expected. */\n",
              "                background-size: auto;\n",
              "            }\n",
              "            .progress-bar-interrupted, .progress-bar-interrupted::-webkit-progress-bar {\n",
              "                background: #F44336;\n",
              "            }\n",
              "        </style>\n",
              "      <progress value='2000' class='' max='2000' style='width:300px; height:20px; vertical-align: middle;'></progress>\n",
              "      100.00% [2000/2000 01:40<00:00 Sampling chain 0, 175 divergences]\n",
              "    </div>\n",
              "    "
            ],
            "text/plain": [
              "<IPython.core.display.HTML object>"
            ]
          },
          "metadata": {},
          "output_type": "display_data"
        },
        {
          "data": {
            "text/html": [
              "\n",
              "    <div>\n",
              "        <style>\n",
              "            /* Turns off some styling */\n",
              "            progress {\n",
              "                /* gets rid of default border in Firefox and Opera. */\n",
              "                border: none;\n",
              "                /* Needs to be in here for Safari polyfill so background images work as expected. */\n",
              "                background-size: auto;\n",
              "            }\n",
              "            .progress-bar-interrupted, .progress-bar-interrupted::-webkit-progress-bar {\n",
              "                background: #F44336;\n",
              "            }\n",
              "        </style>\n",
              "      <progress value='2000' class='' max='2000' style='width:300px; height:20px; vertical-align: middle;'></progress>\n",
              "      100.00% [2000/2000 00:58<00:00 Sampling chain 1, 360 divergences]\n",
              "    </div>\n",
              "    "
            ],
            "text/plain": [
              "<IPython.core.display.HTML object>"
            ]
          },
          "metadata": {},
          "output_type": "display_data"
        },
        {
          "name": "stderr",
          "output_type": "stream",
          "text": [
            "Sampling 2 chains for 1_000 tune and 1_000 draw iterations (2_000 + 2_000 draws total) took 160 seconds.\n",
            "There were 175 divergences after tuning. Increase `target_accept` or reparameterize.\n",
            "There were 535 divergences after tuning. Increase `target_accept` or reparameterize.\n",
            "The acceptance probability does not match the target. It is 0.6291406000730155, but should be close to 0.8. Try to increase the number of tuning steps.\n",
            "The rhat statistic is larger than 1.2 for some parameters.\n",
            "The estimated number of effective samples is smaller than 200 for some parameters.\n"
          ]
        }
      ]
    },
    {
      "cell_type": "markdown",
      "metadata": {
        "id": "xIUvr4wynrlE"
      },
      "source": [
        "### Step 2: Predict the outcomes of unrealized samples\n",
        "We now want to predict what we should see in as-yet-unrealized experimental samples. As we have a finite population of possible micro-experiments, we can generate samples for all of the possible micro-experiment treatment combinations."
      ],
      "id": "xIUvr4wynrlE"
    },
    {
      "cell_type": "code",
      "metadata": {
        "colab": {
          "base_uri": "https://localhost:8080/",
          "height": 812
        },
        "id": "changed-password",
        "scrolled": false,
        "outputId": "8ff4ecc2-ce9a-42bf-9aea-7da2a820c6a9"
      },
      "source": [
        "candidate_j, candidate_X = np.array(list(itertools.product(range(J), range(n_conditions)))).T # all posible microexperiment/treatment combos\n",
        "candidate_d_index = [d_index[i] for i in candidate_j]\n",
        "dummy_y = np.zeros(len(candidate_j))\n",
        "\n",
        "functional_partial_pooling_predictor = build_functional_partial_pooled_model(\n",
        "    J=J, \n",
        "    n_conditions=n_conditions, \n",
        "    j=candidate_j, \n",
        "    X=candidate_X, \n",
        "    y=dummy_y, \n",
        "    ds=ds, \n",
        "    n_facets=n_facets, \n",
        "    d_index=d_index)\n",
        "\n",
        "pm.model_to_graphviz(functional_partial_pooling_predictor)"
      ],
      "id": "changed-password",
      "execution_count": null,
      "outputs": [
        {
          "data": {
            "image/svg+xml": "<?xml version=\"1.0\" encoding=\"UTF-8\" standalone=\"no\"?>\n<!DOCTYPE svg PUBLIC \"-//W3C//DTD SVG 1.1//EN\"\n \"http://www.w3.org/Graphics/SVG/1.1/DTD/svg11.dtd\">\n<!-- Generated by graphviz version 2.40.1 (20161225.0304)\n -->\n<!-- Title: %3 Pages: 1 -->\n<svg width=\"565pt\" height=\"593pt\"\n viewBox=\"0.00 0.00 565.13 592.81\" xmlns=\"http://www.w3.org/2000/svg\" xmlns:xlink=\"http://www.w3.org/1999/xlink\">\n<g id=\"graph0\" class=\"graph\" transform=\"scale(1 1) rotate(0) translate(4 588.8133)\">\n<title>%3</title>\n<polygon fill=\"#ffffff\" stroke=\"transparent\" points=\"-4,4 -4,-588.8133 561.1285,-588.8133 561.1285,4 -4,4\"/>\n<g id=\"clust1\" class=\"cluster\">\n<title>cluster15</title>\n<path fill=\"none\" stroke=\"#000000\" d=\"M28.1041,-373.86C28.1041,-373.86 371.1041,-373.86 371.1041,-373.86 377.1041,-373.86 383.1041,-379.86 383.1041,-385.86 383.1041,-385.86 383.1041,-564.8133 383.1041,-564.8133 383.1041,-570.8133 377.1041,-576.8133 371.1041,-576.8133 371.1041,-576.8133 28.1041,-576.8133 28.1041,-576.8133 22.1041,-576.8133 16.1041,-570.8133 16.1041,-564.8133 16.1041,-564.8133 16.1041,-385.86 16.1041,-385.86 16.1041,-379.86 22.1041,-373.86 28.1041,-373.86\"/>\n<text text-anchor=\"middle\" x=\"367.1041\" y=\"-381.66\" font-family=\"Times,serif\" font-size=\"14.00\" fill=\"#000000\">15</text>\n</g>\n<g id=\"clust2\" class=\"cluster\">\n<title>cluster15 x 2</title>\n<path fill=\"none\" stroke=\"#000000\" d=\"M142.1041,-262.8833C142.1041,-262.8833 226.1041,-262.8833 226.1041,-262.8833 232.1041,-262.8833 238.1041,-268.8833 238.1041,-274.8833 238.1041,-274.8833 238.1041,-342.8833 238.1041,-342.8833 238.1041,-348.8833 232.1041,-354.8833 226.1041,-354.8833 226.1041,-354.8833 142.1041,-354.8833 142.1041,-354.8833 136.1041,-354.8833 130.1041,-348.8833 130.1041,-342.8833 130.1041,-342.8833 130.1041,-274.8833 130.1041,-274.8833 130.1041,-268.8833 136.1041,-262.8833 142.1041,-262.8833\"/>\n<text text-anchor=\"middle\" x=\"211.1041\" y=\"-270.6833\" font-family=\"Times,serif\" font-size=\"14.00\" fill=\"#000000\">15 x 2</text>\n</g>\n<g id=\"clust4\" class=\"cluster\">\n<title>cluster30 x 2</title>\n<path fill=\"none\" stroke=\"#000000\" d=\"M146.1041,-129.9533C146.1041,-129.9533 222.1041,-129.9533 222.1041,-129.9533 228.1041,-129.9533 234.1041,-135.9533 234.1041,-141.9533 234.1041,-141.9533 234.1041,-231.9066 234.1041,-231.9066 234.1041,-237.9066 228.1041,-243.9066 222.1041,-243.9066 222.1041,-243.9066 146.1041,-243.9066 146.1041,-243.9066 140.1041,-243.9066 134.1041,-237.9066 134.1041,-231.9066 134.1041,-231.9066 134.1041,-141.9533 134.1041,-141.9533 134.1041,-135.9533 140.1041,-129.9533 146.1041,-129.9533\"/>\n<text text-anchor=\"middle\" x=\"207.1041\" y=\"-137.7533\" font-family=\"Times,serif\" font-size=\"14.00\" fill=\"#000000\">30 x 2</text>\n</g>\n<g id=\"clust5\" class=\"cluster\">\n<title>cluster30</title>\n<path fill=\"none\" stroke=\"#000000\" d=\"M32.1041,-129.9533C32.1041,-129.9533 112.1041,-129.9533 112.1041,-129.9533 118.1041,-129.9533 124.1041,-135.9533 124.1041,-141.9533 124.1041,-141.9533 124.1041,-231.9066 124.1041,-231.9066 124.1041,-237.9066 118.1041,-243.9066 112.1041,-243.9066 112.1041,-243.9066 32.1041,-243.9066 32.1041,-243.9066 26.1041,-243.9066 20.1041,-237.9066 20.1041,-231.9066 20.1041,-231.9066 20.1041,-141.9533 20.1041,-141.9533 20.1041,-135.9533 26.1041,-129.9533 32.1041,-129.9533\"/>\n<text text-anchor=\"middle\" x=\"108.1041\" y=\"-137.7533\" font-family=\"Times,serif\" font-size=\"14.00\" fill=\"#000000\">30</text>\n</g>\n<g id=\"clust6\" class=\"cluster\">\n<title>cluster60</title>\n<path fill=\"none\" stroke=\"#000000\" d=\"M90.1041,-8C90.1041,-8 166.1041,-8 166.1041,-8 172.1041,-8 178.1041,-14 178.1041,-20 178.1041,-20 178.1041,-109.9533 178.1041,-109.9533 178.1041,-115.9533 172.1041,-121.9533 166.1041,-121.9533 166.1041,-121.9533 90.1041,-121.9533 90.1041,-121.9533 84.1041,-121.9533 78.1041,-115.9533 78.1041,-109.9533 78.1041,-109.9533 78.1041,-20 78.1041,-20 78.1041,-14 84.1041,-8 90.1041,-8\"/>\n<text text-anchor=\"middle\" x=\"162.1041\" y=\"-15.8\" font-family=\"Times,serif\" font-size=\"14.00\" fill=\"#000000\">60</text>\n</g>\n<g id=\"clust3\" class=\"cluster\">\n<title>cluster2</title>\n<path fill=\"none\" stroke=\"#000000\" d=\"M258.1041,-251.9066C258.1041,-251.9066 370.1041,-251.9066 370.1041,-251.9066 376.1041,-251.9066 382.1041,-257.9066 382.1041,-263.9066 382.1041,-263.9066 382.1041,-353.86 382.1041,-353.86 382.1041,-359.86 376.1041,-365.86 370.1041,-365.86 370.1041,-365.86 258.1041,-365.86 258.1041,-365.86 252.1041,-365.86 246.1041,-359.86 246.1041,-353.86 246.1041,-353.86 246.1041,-263.9066 246.1041,-263.9066 246.1041,-257.9066 252.1041,-251.9066 258.1041,-251.9066\"/>\n<text text-anchor=\"middle\" x=\"370.1041\" y=\"-259.7066\" font-family=\"Times,serif\" font-size=\"14.00\" fill=\"#000000\">2</text>\n</g>\n<!-- μ_σ -->\n<g id=\"node1\" class=\"node\">\n<title>μ_σ</title>\n<ellipse fill=\"none\" stroke=\"#000000\" cx=\"60.1041\" cy=\"-320.3833\" rx=\"60.2083\" ry=\"37.4533\"/>\n<text text-anchor=\"middle\" x=\"60.1041\" y=\"-331.6833\" font-family=\"Times,serif\" font-size=\"14.00\" fill=\"#000000\">μ_σ</text>\n<text text-anchor=\"middle\" x=\"60.1041\" y=\"-316.6833\" font-family=\"Times,serif\" font-size=\"14.00\" fill=\"#000000\">~</text>\n<text text-anchor=\"middle\" x=\"60.1041\" y=\"-301.6833\" font-family=\"Times,serif\" font-size=\"14.00\" fill=\"#000000\">HalfNormal</text>\n</g>\n<!-- σ -->\n<g id=\"node10\" class=\"node\">\n<title>σ</title>\n<ellipse fill=\"none\" stroke=\"#000000\" cx=\"72.1041\" cy=\"-198.43\" rx=\"43.6818\" ry=\"37.4533\"/>\n<text text-anchor=\"middle\" x=\"72.1041\" y=\"-209.73\" font-family=\"Times,serif\" font-size=\"14.00\" fill=\"#000000\">σ</text>\n<text text-anchor=\"middle\" x=\"72.1041\" y=\"-194.73\" font-family=\"Times,serif\" font-size=\"14.00\" fill=\"#000000\">~</text>\n<text text-anchor=\"middle\" x=\"72.1041\" y=\"-179.73\" font-family=\"Times,serif\" font-size=\"14.00\" fill=\"#000000\">Gamma</text>\n</g>\n<!-- μ_σ&#45;&gt;σ -->\n<g id=\"edge9\" class=\"edge\">\n<title>μ_σ&#45;&gt;σ</title>\n<path fill=\"none\" stroke=\"#000000\" d=\"M63.8024,-282.7982C64.943,-271.2068 66.2143,-258.2861 67.4125,-246.1091\"/>\n<polygon fill=\"#000000\" stroke=\"#000000\" points=\"70.9012,-246.3956 68.3973,-236.1009 63.9348,-245.7101 70.9012,-246.3956\"/>\n</g>\n<!-- GP_length_Scale -->\n<g id=\"node2\" class=\"node\">\n<title>GP_length_Scale</title>\n<ellipse fill=\"none\" stroke=\"#000000\" cx=\"475.1041\" cy=\"-531.3366\" rx=\"82.0488\" ry=\"37.4533\"/>\n<text text-anchor=\"middle\" x=\"475.1041\" y=\"-542.6366\" font-family=\"Times,serif\" font-size=\"14.00\" fill=\"#000000\">GP_length_Scale</text>\n<text text-anchor=\"middle\" x=\"475.1041\" y=\"-527.6366\" font-family=\"Times,serif\" font-size=\"14.00\" fill=\"#000000\">~</text>\n<text text-anchor=\"middle\" x=\"475.1041\" y=\"-512.6366\" font-family=\"Times,serif\" font-size=\"14.00\" fill=\"#000000\">Gamma</text>\n</g>\n<!-- μ̄_X0 -->\n<g id=\"node5\" class=\"node\">\n<title>μ̄_X0</title>\n<polygon fill=\"none\" stroke=\"#000000\" points=\"229.1041,-457.86 137.1041,-457.86 137.1041,-404.86 229.1041,-404.86 229.1041,-457.86\"/>\n<text text-anchor=\"middle\" x=\"183.1041\" y=\"-442.66\" font-family=\"Times,serif\" font-size=\"14.00\" fill=\"#000000\">μ̄_X0</text>\n<text text-anchor=\"middle\" x=\"183.1041\" y=\"-427.66\" font-family=\"Times,serif\" font-size=\"14.00\" fill=\"#000000\">~</text>\n<text text-anchor=\"middle\" x=\"183.1041\" y=\"-412.66\" font-family=\"Times,serif\" font-size=\"14.00\" fill=\"#000000\">Deterministic</text>\n</g>\n<!-- GP_length_Scale&#45;&gt;μ̄_X0 -->\n<g id=\"edge2\" class=\"edge\">\n<title>GP_length_Scale&#45;&gt;μ̄_X0</title>\n<path fill=\"none\" stroke=\"#000000\" d=\"M416.4498,-504.7731C406.7494,-500.8396 396.7197,-497.0448 387.1041,-493.86 325.3366,-473.402 304.1644,-480.0855 238.8383,-457.8182\"/>\n<polygon fill=\"#000000\" stroke=\"#000000\" points=\"239.9134,-454.4863 229.3186,-454.4782 237.5959,-461.0915 239.9134,-454.4863\"/>\n</g>\n<!-- μ̄_X1 -->\n<g id=\"node6\" class=\"node\">\n<title>μ̄_X1</title>\n<polygon fill=\"none\" stroke=\"#000000\" points=\"339.1041,-457.86 247.1041,-457.86 247.1041,-404.86 339.1041,-404.86 339.1041,-457.86\"/>\n<text text-anchor=\"middle\" x=\"293.1041\" y=\"-442.66\" font-family=\"Times,serif\" font-size=\"14.00\" fill=\"#000000\">μ̄_X1</text>\n<text text-anchor=\"middle\" x=\"293.1041\" y=\"-427.66\" font-family=\"Times,serif\" font-size=\"14.00\" fill=\"#000000\">~</text>\n<text text-anchor=\"middle\" x=\"293.1041\" y=\"-412.66\" font-family=\"Times,serif\" font-size=\"14.00\" fill=\"#000000\">Deterministic</text>\n</g>\n<!-- GP_length_Scale&#45;&gt;μ̄_X1 -->\n<g id=\"edge4\" class=\"edge\">\n<title>GP_length_Scale&#45;&gt;μ̄_X1</title>\n<path fill=\"none\" stroke=\"#000000\" d=\"M422.4621,-502.4192C399.0963,-489.5839 371.6007,-474.4799 347.9811,-461.5051\"/>\n<polygon fill=\"#000000\" stroke=\"#000000\" points=\"349.5849,-458.3929 339.1351,-456.6458 346.2146,-464.5281 349.5849,-458.3929\"/>\n</g>\n<!-- μ̄_X1_rotated_ -->\n<g id=\"node3\" class=\"node\">\n<title>μ̄_X1_rotated_</title>\n<ellipse fill=\"none\" stroke=\"#000000\" cx=\"292.1041\" cy=\"-531.3366\" rx=\"83.3772\" ry=\"37.4533\"/>\n<text text-anchor=\"middle\" x=\"292.1041\" y=\"-542.6366\" font-family=\"Times,serif\" font-size=\"14.00\" fill=\"#000000\">μ̄_X1_rotated_</text>\n<text text-anchor=\"middle\" x=\"292.1041\" y=\"-527.6366\" font-family=\"Times,serif\" font-size=\"14.00\" fill=\"#000000\">~</text>\n<text text-anchor=\"middle\" x=\"292.1041\" y=\"-512.6366\" font-family=\"Times,serif\" font-size=\"14.00\" fill=\"#000000\">Normal</text>\n</g>\n<!-- μ̄_X1_rotated_&#45;&gt;μ̄_X1 -->\n<g id=\"edge3\" class=\"edge\">\n<title>μ̄_X1_rotated_&#45;&gt;μ̄_X1</title>\n<path fill=\"none\" stroke=\"#000000\" d=\"M292.4793,-493.8246C292.5627,-485.4874 292.651,-476.6556 292.7342,-468.34\"/>\n<polygon fill=\"#000000\" stroke=\"#000000\" points=\"296.2357,-468.1936 292.836,-458.1591 289.2361,-468.1235 296.2357,-468.1936\"/>\n</g>\n<!-- μ̄_X0_rotated_ -->\n<g id=\"node4\" class=\"node\">\n<title>μ̄_X0_rotated_</title>\n<ellipse fill=\"none\" stroke=\"#000000\" cx=\"107.1041\" cy=\"-531.3366\" rx=\"83.3772\" ry=\"37.4533\"/>\n<text text-anchor=\"middle\" x=\"107.1041\" y=\"-542.6366\" font-family=\"Times,serif\" font-size=\"14.00\" fill=\"#000000\">μ̄_X0_rotated_</text>\n<text text-anchor=\"middle\" x=\"107.1041\" y=\"-527.6366\" font-family=\"Times,serif\" font-size=\"14.00\" fill=\"#000000\">~</text>\n<text text-anchor=\"middle\" x=\"107.1041\" y=\"-512.6366\" font-family=\"Times,serif\" font-size=\"14.00\" fill=\"#000000\">Normal</text>\n</g>\n<!-- μ̄_X0_rotated_&#45;&gt;μ̄_X0 -->\n<g id=\"edge1\" class=\"edge\">\n<title>μ̄_X0_rotated_&#45;&gt;μ̄_X0</title>\n<path fill=\"none\" stroke=\"#000000\" d=\"M134.1128,-495.8071C141.4386,-486.1702 149.3606,-475.7489 156.6551,-466.1531\"/>\n<polygon fill=\"#000000\" stroke=\"#000000\" points=\"159.6077,-468.0525 162.8732,-457.9734 154.035,-463.8162 159.6077,-468.0525\"/>\n</g>\n<!-- μ̄ -->\n<g id=\"node7\" class=\"node\">\n<title>μ̄</title>\n<polygon fill=\"none\" stroke=\"#000000\" points=\"230.1041,-346.8833 138.1041,-346.8833 138.1041,-293.8833 230.1041,-293.8833 230.1041,-346.8833\"/>\n<text text-anchor=\"middle\" x=\"184.1041\" y=\"-331.6833\" font-family=\"Times,serif\" font-size=\"14.00\" fill=\"#000000\">μ̄</text>\n<text text-anchor=\"middle\" x=\"184.1041\" y=\"-316.6833\" font-family=\"Times,serif\" font-size=\"14.00\" fill=\"#000000\">~</text>\n<text text-anchor=\"middle\" x=\"184.1041\" y=\"-301.6833\" font-family=\"Times,serif\" font-size=\"14.00\" fill=\"#000000\">Deterministic</text>\n</g>\n<!-- μ̄_X0&#45;&gt;μ̄ -->\n<g id=\"edge5\" class=\"edge\">\n<title>μ̄_X0&#45;&gt;μ̄</title>\n<path fill=\"none\" stroke=\"#000000\" d=\"M183.3436,-404.7783C183.4713,-390.6069 183.6304,-372.9455 183.7701,-357.4472\"/>\n<polygon fill=\"#000000\" stroke=\"#000000\" points=\"187.2727,-357.1639 183.863,-347.1327 180.273,-357.1007 187.2727,-357.1639\"/>\n</g>\n<!-- μ̄_X1&#45;&gt;μ̄ -->\n<g id=\"edge6\" class=\"edge\">\n<title>μ̄_X1&#45;&gt;μ̄</title>\n<path fill=\"none\" stroke=\"#000000\" d=\"M267.7875,-404.592C258.5078,-394.8601 247.8838,-383.8109 238.1041,-373.86 231.8556,-367.5021 225.1441,-360.7755 218.6492,-354.3174\"/>\n<polygon fill=\"#000000\" stroke=\"#000000\" points=\"220.7307,-351.4526 211.1649,-346.8979 215.8025,-356.4238 220.7307,-351.4526\"/>\n</g>\n<!-- μ -->\n<g id=\"node9\" class=\"node\">\n<title>μ</title>\n<ellipse fill=\"none\" stroke=\"#000000\" cx=\"184.1041\" cy=\"-198.43\" rx=\"42.3529\" ry=\"37.4533\"/>\n<text text-anchor=\"middle\" x=\"184.1041\" y=\"-209.73\" font-family=\"Times,serif\" font-size=\"14.00\" fill=\"#000000\">μ</text>\n<text text-anchor=\"middle\" x=\"184.1041\" y=\"-194.73\" font-family=\"Times,serif\" font-size=\"14.00\" fill=\"#000000\">~</text>\n<text text-anchor=\"middle\" x=\"184.1041\" y=\"-179.73\" font-family=\"Times,serif\" font-size=\"14.00\" fill=\"#000000\">Normal</text>\n</g>\n<!-- μ̄&#45;&gt;μ -->\n<g id=\"edge7\" class=\"edge\">\n<title>μ̄&#45;&gt;μ</title>\n<path fill=\"none\" stroke=\"#000000\" d=\"M184.1041,-293.6201C184.1041,-279.8162 184.1041,-262.5536 184.1041,-246.5332\"/>\n<polygon fill=\"#000000\" stroke=\"#000000\" points=\"187.6042,-246.2336 184.1041,-236.2337 180.6042,-246.2337 187.6042,-246.2336\"/>\n</g>\n<!-- σ_μ -->\n<g id=\"node8\" class=\"node\">\n<title>σ_μ</title>\n<ellipse fill=\"none\" stroke=\"#000000\" cx=\"314.1041\" cy=\"-320.3833\" rx=\"60.2083\" ry=\"37.4533\"/>\n<text text-anchor=\"middle\" x=\"314.1041\" y=\"-331.6833\" font-family=\"Times,serif\" font-size=\"14.00\" fill=\"#000000\">σ_μ</text>\n<text text-anchor=\"middle\" x=\"314.1041\" y=\"-316.6833\" font-family=\"Times,serif\" font-size=\"14.00\" fill=\"#000000\">~</text>\n<text text-anchor=\"middle\" x=\"314.1041\" y=\"-301.6833\" font-family=\"Times,serif\" font-size=\"14.00\" fill=\"#000000\">HalfNormal</text>\n</g>\n<!-- σ_μ&#45;&gt;μ -->\n<g id=\"edge8\" class=\"edge\">\n<title>σ_μ&#45;&gt;μ</title>\n<path fill=\"none\" stroke=\"#000000\" d=\"M281.2295,-288.9134C268.9865,-277.2475 254.9475,-263.9337 242.1041,-251.9066 235.3497,-245.5816 228.1206,-238.8703 221.138,-232.4173\"/>\n<polygon fill=\"#000000\" stroke=\"#000000\" points=\"223.4148,-229.7559 213.6919,-225.547 218.668,-234.9005 223.4148,-229.7559\"/>\n</g>\n<!-- y -->\n<g id=\"node11\" class=\"node\">\n<title>y</title>\n<ellipse fill=\"#d3d3d3\" stroke=\"#000000\" cx=\"128.1041\" cy=\"-76.4767\" rx=\"42.3529\" ry=\"37.4533\"/>\n<text text-anchor=\"middle\" x=\"128.1041\" y=\"-87.7767\" font-family=\"Times,serif\" font-size=\"14.00\" fill=\"#000000\">y</text>\n<text text-anchor=\"middle\" x=\"128.1041\" y=\"-72.7767\" font-family=\"Times,serif\" font-size=\"14.00\" fill=\"#000000\">~</text>\n<text text-anchor=\"middle\" x=\"128.1041\" y=\"-57.7767\" font-family=\"Times,serif\" font-size=\"14.00\" fill=\"#000000\">Normal</text>\n</g>\n<!-- μ&#45;&gt;y -->\n<g id=\"edge11\" class=\"edge\">\n<title>μ&#45;&gt;y</title>\n<path fill=\"none\" stroke=\"#000000\" d=\"M168.0567,-163.4831C161.9644,-150.2155 154.9426,-134.924 148.5016,-120.8971\"/>\n<polygon fill=\"#000000\" stroke=\"#000000\" points=\"151.5075,-119.0558 144.1538,-111.4287 145.1461,-121.977 151.5075,-119.0558\"/>\n</g>\n<!-- σ&#45;&gt;y -->\n<g id=\"edge10\" class=\"edge\">\n<title>σ&#45;&gt;y</title>\n<path fill=\"none\" stroke=\"#000000\" d=\"M88.1514,-163.4831C94.2438,-150.2155 101.2655,-134.924 107.7065,-120.8971\"/>\n<polygon fill=\"#000000\" stroke=\"#000000\" points=\"111.062,-121.977 112.0544,-111.4287 104.7006,-119.0558 111.062,-121.977\"/>\n</g>\n</g>\n</svg>\n",
            "text/plain": [
              "<graphviz.dot.Digraph at 0x7fc6272cfcd0>"
            ]
          },
          "execution_count": 9,
          "metadata": {},
          "output_type": "execute_result"
        }
      ]
    },
    {
      "cell_type": "code",
      "metadata": {
        "colab": {
          "base_uri": "https://localhost:8080/",
          "height": 37
        },
        "id": "ready-cruise",
        "outputId": "759df40d-73d7-4209-9e19-b01b525ff5e0"
      },
      "source": [
        "with functional_partial_pooling_predictor:\n",
        "    predictions = pm.sample_posterior_predictive(functional_partial_pooling_trace, var_names=['y', 'μ', 'μ̄'])\n",
        "\n",
        "prediction_traces = [predictions]  # save for plotting  "
      ],
      "id": "ready-cruise",
      "execution_count": null,
      "outputs": [
        {
          "output_type": "display_data",
          "data": {
            "text/html": [
              "\n",
              "    <div>\n",
              "        <style>\n",
              "            /* Turns off some styling */\n",
              "            progress {\n",
              "                /* gets rid of default border in Firefox and Opera. */\n",
              "                border: none;\n",
              "                /* Needs to be in here for Safari polyfill so background images work as expected. */\n",
              "                background-size: auto;\n",
              "            }\n",
              "            .progress-bar-interrupted, .progress-bar-interrupted::-webkit-progress-bar {\n",
              "                background: #F44336;\n",
              "            }\n",
              "        </style>\n",
              "      <progress value='2000' class='' max='2000' style='width:300px; height:20px; vertical-align: middle;'></progress>\n",
              "      100.00% [2000/2000 00:06<00:00]\n",
              "    </div>\n",
              "    "
            ],
            "text/plain": [
              "<IPython.core.display.HTML object>"
            ]
          },
          "metadata": {}
        }
      ]
    },
    {
      "cell_type": "markdown",
      "metadata": {
        "id": "_6D62-EBcXQu"
      },
      "source": [
        "## Step 3: Estimate the \"payoff\" of sampling at candidate points\n",
        "Given our posterior predictive sample from the fitted model, we can assess the utility of sampling at each candidate point. \n",
        "\n",
        "There are a number of different ways we could measure this utility. For simplicity, we will use the variance of our estimate of the μ parameter - the expected mean performance of all micro-experiments conducted at a particular location - for each condition. We compute this utility for the μ value associated with each candidate trial. "
      ],
      "id": "_6D62-EBcXQu"
    },
    {
      "cell_type": "code",
      "metadata": {
        "colab": {
          "base_uri": "https://localhost:8080/",
          "height": 485
        },
        "id": "stopped-proceeding",
        "outputId": "7e621d3b-e55c-413e-d9ad-191c54d21246"
      },
      "source": [
        "# def utility(predictions):\n",
        "#     X0_var = predictions['μ̄_X0'][:, candidate_d_index].var(axis=0)\n",
        "#     X1_var = predictions['μ̄_X1'][:, candidate_d_index].var(axis=0)\n",
        "#     X_var = [X0_var[i] if Xi==0 else X1_var[i] for i, Xi in enumerate(candidate_X)]\n",
        "#     return X_var\n",
        "\n",
        "def utility(predictions):\n",
        "    v = predictions[\"μ\"].var(axis=0)\n",
        "    \n",
        "    return [v[cj, cx] for cj, cx in zip(candidate_j, candidate_X)]\n",
        "\n",
        "def utility(predictions):\n",
        "    # todo: work out the mapping btw this and microexperiments\n",
        "    v = predictions[\"μ̄\"].var(axis=0)\n",
        "    \n",
        "    return [v[cj, cx] for cj, cx in zip(candidate_j, candidate_X)]\n",
        "\n",
        "    #return predictions['y'].var(axis=0)\n",
        "\n",
        "current_utilities = utility(predictions)\n",
        "current_utilities[:10]  #  display the first 10 values"
      ],
      "id": "stopped-proceeding",
      "execution_count": null,
      "outputs": [
        {
          "output_type": "error",
          "ename": "IndexError",
          "evalue": "ignored",
          "traceback": [
            "\u001b[0;31m---------------------------------------------------------------------------\u001b[0m",
            "\u001b[0;31mIndexError\u001b[0m                                Traceback (most recent call last)",
            "\u001b[0;32m<ipython-input-35-b1358d39feff>\u001b[0m in \u001b[0;36m<module>\u001b[0;34m()\u001b[0m\n\u001b[1;32m     13\u001b[0m     \u001b[0;31m#return predictions['y'].var(axis=0)\u001b[0m\u001b[0;34m\u001b[0m\u001b[0;34m\u001b[0m\u001b[0;34m\u001b[0m\u001b[0m\n\u001b[1;32m     14\u001b[0m \u001b[0;34m\u001b[0m\u001b[0m\n\u001b[0;32m---> 15\u001b[0;31m \u001b[0mcurrent_utilities\u001b[0m \u001b[0;34m=\u001b[0m \u001b[0mutility\u001b[0m\u001b[0;34m(\u001b[0m\u001b[0mpredictions\u001b[0m\u001b[0;34m)\u001b[0m\u001b[0;34m\u001b[0m\u001b[0;34m\u001b[0m\u001b[0m\n\u001b[0m\u001b[1;32m     16\u001b[0m \u001b[0mcurrent_utilities\u001b[0m\u001b[0;34m[\u001b[0m\u001b[0;34m:\u001b[0m\u001b[0;36m10\u001b[0m\u001b[0;34m]\u001b[0m  \u001b[0;31m#  display the first 10 values\u001b[0m\u001b[0;34m\u001b[0m\u001b[0;34m\u001b[0m\u001b[0m\n",
            "\u001b[0;32m<ipython-input-35-b1358d39feff>\u001b[0m in \u001b[0;36mutility\u001b[0;34m(predictions)\u001b[0m\n\u001b[1;32m      9\u001b[0m     \u001b[0mv\u001b[0m \u001b[0;34m=\u001b[0m \u001b[0mpredictions\u001b[0m\u001b[0;34m[\u001b[0m\u001b[0;34m\"μ̄\"\u001b[0m\u001b[0;34m]\u001b[0m\u001b[0;34m.\u001b[0m\u001b[0mvar\u001b[0m\u001b[0;34m(\u001b[0m\u001b[0maxis\u001b[0m\u001b[0;34m=\u001b[0m\u001b[0;36m0\u001b[0m\u001b[0;34m)\u001b[0m\u001b[0;34m\u001b[0m\u001b[0;34m\u001b[0m\u001b[0m\n\u001b[1;32m     10\u001b[0m \u001b[0;34m\u001b[0m\u001b[0m\n\u001b[0;32m---> 11\u001b[0;31m     \u001b[0;32mreturn\u001b[0m \u001b[0;34m[\u001b[0m\u001b[0mv\u001b[0m\u001b[0;34m[\u001b[0m\u001b[0mcj\u001b[0m\u001b[0;34m,\u001b[0m \u001b[0mcx\u001b[0m\u001b[0;34m]\u001b[0m \u001b[0;32mfor\u001b[0m \u001b[0mcj\u001b[0m\u001b[0;34m,\u001b[0m \u001b[0mcx\u001b[0m \u001b[0;32min\u001b[0m \u001b[0mzip\u001b[0m\u001b[0;34m(\u001b[0m\u001b[0mcandidate_j\u001b[0m\u001b[0;34m,\u001b[0m \u001b[0mcandidate_X\u001b[0m\u001b[0;34m)\u001b[0m\u001b[0;34m]\u001b[0m\u001b[0;34m\u001b[0m\u001b[0;34m\u001b[0m\u001b[0m\n\u001b[0m\u001b[1;32m     12\u001b[0m \u001b[0;34m\u001b[0m\u001b[0m\n\u001b[1;32m     13\u001b[0m     \u001b[0;31m#return predictions['y'].var(axis=0)\u001b[0m\u001b[0;34m\u001b[0m\u001b[0;34m\u001b[0m\u001b[0;34m\u001b[0m\u001b[0m\n",
            "\u001b[0;32m<ipython-input-35-b1358d39feff>\u001b[0m in \u001b[0;36m<listcomp>\u001b[0;34m(.0)\u001b[0m\n\u001b[1;32m      9\u001b[0m     \u001b[0mv\u001b[0m \u001b[0;34m=\u001b[0m \u001b[0mpredictions\u001b[0m\u001b[0;34m[\u001b[0m\u001b[0;34m\"μ̄\"\u001b[0m\u001b[0;34m]\u001b[0m\u001b[0;34m.\u001b[0m\u001b[0mvar\u001b[0m\u001b[0;34m(\u001b[0m\u001b[0maxis\u001b[0m\u001b[0;34m=\u001b[0m\u001b[0;36m0\u001b[0m\u001b[0;34m)\u001b[0m\u001b[0;34m\u001b[0m\u001b[0;34m\u001b[0m\u001b[0m\n\u001b[1;32m     10\u001b[0m \u001b[0;34m\u001b[0m\u001b[0m\n\u001b[0;32m---> 11\u001b[0;31m     \u001b[0;32mreturn\u001b[0m \u001b[0;34m[\u001b[0m\u001b[0mv\u001b[0m\u001b[0;34m[\u001b[0m\u001b[0mcj\u001b[0m\u001b[0;34m,\u001b[0m \u001b[0mcx\u001b[0m\u001b[0;34m]\u001b[0m \u001b[0;32mfor\u001b[0m \u001b[0mcj\u001b[0m\u001b[0;34m,\u001b[0m \u001b[0mcx\u001b[0m \u001b[0;32min\u001b[0m \u001b[0mzip\u001b[0m\u001b[0;34m(\u001b[0m\u001b[0mcandidate_j\u001b[0m\u001b[0;34m,\u001b[0m \u001b[0mcandidate_X\u001b[0m\u001b[0;34m)\u001b[0m\u001b[0;34m]\u001b[0m\u001b[0;34m\u001b[0m\u001b[0;34m\u001b[0m\u001b[0m\n\u001b[0m\u001b[1;32m     12\u001b[0m \u001b[0;34m\u001b[0m\u001b[0m\n\u001b[1;32m     13\u001b[0m     \u001b[0;31m#return predictions['y'].var(axis=0)\u001b[0m\u001b[0;34m\u001b[0m\u001b[0;34m\u001b[0m\u001b[0;34m\u001b[0m\u001b[0m\n",
            "\u001b[0;31mIndexError\u001b[0m: index 15 is out of bounds for axis 0 with size 15"
          ]
        }
      ]
    },
    {
      "cell_type": "markdown",
      "metadata": {
        "id": "0ZKyUQ41qeS-"
      },
      "source": [
        "## Step 4: Select a subset of candidate points\n",
        "\n",
        "After computing this utility, we select the next sample to take by choosing the microexperiment/condition that maximizes our utility. In this demo, we will select a single point at a time."
      ],
      "id": "0ZKyUQ41qeS-"
    },
    {
      "cell_type": "code",
      "metadata": {
        "id": "CmPZf6Dyq4V1"
      },
      "source": [
        "selection = np.argmax(current_utilities)\n",
        "selection"
      ],
      "id": "CmPZf6Dyq4V1",
      "execution_count": null,
      "outputs": []
    },
    {
      "cell_type": "markdown",
      "metadata": {
        "id": "V09jtEe-rI6W"
      },
      "source": [
        "## Step 5: Collect next samples\n",
        "\n",
        "From our selected candidate, we identify the next microexperiment `j` and condition `X` to sample from, and take the next sample `y`. These are appended to our existing dataset."
      ],
      "id": "V09jtEe-rI6W"
    },
    {
      "cell_type": "code",
      "metadata": {
        "colab": {
          "base_uri": "https://localhost:8080/",
          "height": 303
        },
        "id": "joint-steering",
        "outputId": "34860807-41d4-4dee-fc84-b0e7207d0761"
      },
      "source": [
        "j = np.append(j, candidate_j[selection])\n",
        "X = np.append(X, candidate_X[selection])\n",
        "y = np.append(y, take_samples(candidate_j[[selection]], candidate_X[[selection]]))\n",
        "\n"
      ],
      "id": "joint-steering",
      "execution_count": null,
      "outputs": [
        {
          "name": "stderr",
          "output_type": "stream",
          "text": [
            "/usr/local/lib/python3.7/dist-packages/ipykernel_launcher.py:7: FutureWarning: In v4.0, pm.sample will return an `arviz.InferenceData` object instead of a `MultiTrace` by default. You can pass return_inferencedata=True or return_inferencedata=False to be safe and silence this warning.\n",
            "  import sys\n",
            "Auto-assigning NUTS sampler...\n",
            "Initializing NUTS using jitter+adapt_diag...\n",
            "Sequential sampling (2 chains in 1 job)\n",
            "NUTS: [σ, μ, μ_σ, σ_μ, μ̄_X1_rotated_, μ̄_X0_rotated_, GP_length_Scale]\n"
          ]
        },
        {
          "data": {
            "text/html": [
              "\n",
              "    <div>\n",
              "        <style>\n",
              "            /* Turns off some styling */\n",
              "            progress {\n",
              "                /* gets rid of default border in Firefox and Opera. */\n",
              "                border: none;\n",
              "                /* Needs to be in here for Safari polyfill so background images work as expected. */\n",
              "                background-size: auto;\n",
              "            }\n",
              "            .progress-bar-interrupted, .progress-bar-interrupted::-webkit-progress-bar {\n",
              "                background: #F44336;\n",
              "            }\n",
              "        </style>\n",
              "      <progress value='2000' class='' max='2000' style='width:300px; height:20px; vertical-align: middle;'></progress>\n",
              "      100.00% [2000/2000 01:04<00:00 Sampling chain 0, 445 divergences]\n",
              "    </div>\n",
              "    "
            ],
            "text/plain": [
              "<IPython.core.display.HTML object>"
            ]
          },
          "metadata": {},
          "output_type": "display_data"
        },
        {
          "data": {
            "text/html": [
              "\n",
              "    <div>\n",
              "        <style>\n",
              "            /* Turns off some styling */\n",
              "            progress {\n",
              "                /* gets rid of default border in Firefox and Opera. */\n",
              "                border: none;\n",
              "                /* Needs to be in here for Safari polyfill so background images work as expected. */\n",
              "                background-size: auto;\n",
              "            }\n",
              "            .progress-bar-interrupted, .progress-bar-interrupted::-webkit-progress-bar {\n",
              "                background: #F44336;\n",
              "            }\n",
              "        </style>\n",
              "      <progress value='2000' class='' max='2000' style='width:300px; height:20px; vertical-align: middle;'></progress>\n",
              "      100.00% [2000/2000 00:57<00:00 Sampling chain 1, 331 divergences]\n",
              "    </div>\n",
              "    "
            ],
            "text/plain": [
              "<IPython.core.display.HTML object>"
            ]
          },
          "metadata": {},
          "output_type": "display_data"
        },
        {
          "name": "stderr",
          "output_type": "stream",
          "text": [
            "Sampling 2 chains for 1_000 tune and 1_000 draw iterations (2_000 + 2_000 draws total) took 122 seconds.\n",
            "There were 445 divergences after tuning. Increase `target_accept` or reparameterize.\n",
            "The acceptance probability does not match the target. It is 0.6050392554630805, but should be close to 0.8. Try to increase the number of tuning steps.\n",
            "There were 776 divergences after tuning. Increase `target_accept` or reparameterize.\n",
            "The acceptance probability does not match the target. It is 0.6637059587546766, but should be close to 0.8. Try to increase the number of tuning steps.\n",
            "The rhat statistic is larger than 1.05 for some parameters. This indicates slight problems during sampling.\n",
            "The estimated number of effective samples is smaller than 200 for some parameters.\n"
          ]
        }
      ]
    },
    {
      "cell_type": "markdown",
      "metadata": {
        "id": "1WaViMustHZr"
      },
      "source": [
        "## Cycle again \n",
        "We now fit the surrogate model again using all of the data we have collected so far."
      ],
      "id": "1WaViMustHZr"
    },
    {
      "cell_type": "code",
      "metadata": {
        "id": "XUmx3H-dtEkg"
      },
      "source": [
        "functional_partial_pooling = build_functional_partial_pooled_model(J, n_conditions, j, X, y, ds, n_facets, d_index)\n",
        "with functional_partial_pooling:\n",
        "    functional_partial_pooling_trace = pm.sample()\n",
        "\n",
        "traces.append(functional_partial_pooling_trace)"
      ],
      "id": "XUmx3H-dtEkg",
      "execution_count": null,
      "outputs": []
    },
    {
      "cell_type": "code",
      "metadata": {
        "id": "QqIsMZqhtdh8"
      },
      "source": [
        "n_steps = 20\n",
        "for i in range(n_steps):\n",
        "    print(list(zip(j, X)))\n",
        "\n",
        "    # Step 1\n",
        "    functional_partial_pooling = build_functional_partial_pooled_model(J, n_conditions, j, X, y, ds, n_facets, d_index)\n",
        "    with functional_partial_pooling:\n",
        "        functional_partial_pooling_trace = pm.sample()\n",
        "    traces.append(functional_partial_pooling_trace)\n",
        "\n",
        "    # Step 2\n",
        "    with functional_partial_pooling_predictor:\n",
        "        predictions = pm.sample_posterior_predictive(functional_partial_pooling_trace, var_names=['y', 'μ', 'μ̄_X0', 'μ̄_X1'])\n",
        "    prediction_traces.append(predictions)\n",
        "\n",
        "    # Step 3 and 4\n",
        "    selection = np.argmax(utility(predictions))\n",
        "    \n",
        "    # Step 5\n",
        "    j = np.append(j, candidate_j[selection])\n",
        "    X = np.append(X, candidate_X[selection])\n",
        "    y = np.append(y, take_samples(candidate_j[[selection]], candidate_X[[selection]]))\n",
        "    \n",
        "    \n",
        "d = d_j[j]"
      ],
      "id": "QqIsMZqhtdh8",
      "execution_count": null,
      "outputs": []
    },
    {
      "cell_type": "markdown",
      "metadata": {
        "id": "organic-elements"
      },
      "source": [
        "# Put it all together\n",
        "We run all of these steps in a loop "
      ],
      "id": "organic-elements"
    },
    {
      "cell_type": "code",
      "metadata": {
        "colab": {
          "background_save": true,
          "base_uri": "https://localhost:8080/",
          "height": 1000
        },
        "id": "outside-tender",
        "outputId": "2c0200ef-75db-4357-c6e6-b8905e0b98c7"
      },
      "source": [
        "n_steps = 20\n",
        "for i in range(n_steps):\n",
        "    with functional_partial_pooling_predictor:\n",
        "        predictions = pm.sample_posterior_predictive(functional_partial_pooling_trace, var_names=['y', 'μ', 'μ̄_X0', 'μ̄_X1'])\n",
        "\n",
        "    selection = np.argmax(utility(predictions))\n",
        "    \n",
        "    j = np.append(j, candidate_j[selection])\n",
        "    X = np.append(X, candidate_X[selection])\n",
        "    y = np.append(y, take_samples(candidate_j[[selection]], candidate_X[[selection]]))\n",
        "\n",
        "    functional_partial_pooling = build_functional_partial_pooled_model(J, n_conditions, j, X, y, ds, n_facets, d_index)\n",
        "    with functional_partial_pooling:\n",
        "        functional_partial_pooling_trace = pm.sample()\n",
        "        \n",
        "    prediction_traces.append(predictions)\n",
        "    traces.append(functional_partial_pooling_trace)\n",
        "\n",
        "    print(list(zip(j, X)))\n",
        "    \n",
        "d = d_j[j]"
      ],
      "id": "outside-tender",
      "execution_count": null,
      "outputs": [
        {
          "data": {
            "text/html": [
              "\n",
              "    <div>\n",
              "        <style>\n",
              "            /* Turns off some styling */\n",
              "            progress {\n",
              "                /* gets rid of default border in Firefox and Opera. */\n",
              "                border: none;\n",
              "                /* Needs to be in here for Safari polyfill so background images work as expected. */\n",
              "                background-size: auto;\n",
              "            }\n",
              "            .progress-bar-interrupted, .progress-bar-interrupted::-webkit-progress-bar {\n",
              "                background: #F44336;\n",
              "            }\n",
              "        </style>\n",
              "      <progress value='2000' class='' max='2000' style='width:300px; height:20px; vertical-align: middle;'></progress>\n",
              "      100.00% [2000/2000 00:06<00:00]\n",
              "    </div>\n",
              "    "
            ],
            "text/plain": [
              "<IPython.core.display.HTML object>"
            ]
          },
          "metadata": {},
          "output_type": "display_data"
        },
        {
          "name": "stderr",
          "output_type": "stream",
          "text": [
            "/usr/local/lib/python3.7/dist-packages/ipykernel_launcher.py:14: FutureWarning: In v4.0, pm.sample will return an `arviz.InferenceData` object instead of a `MultiTrace` by default. You can pass return_inferencedata=True or return_inferencedata=False to be safe and silence this warning.\n",
            "  \n",
            "Auto-assigning NUTS sampler...\n",
            "Initializing NUTS using jitter+adapt_diag...\n",
            "Sequential sampling (2 chains in 1 job)\n",
            "NUTS: [σ, μ, μ_σ, σ_μ, μ̄_X1_rotated_, μ̄_X0_rotated_, GP_length_Scale]\n"
          ]
        },
        {
          "data": {
            "text/html": [
              "\n",
              "    <div>\n",
              "        <style>\n",
              "            /* Turns off some styling */\n",
              "            progress {\n",
              "                /* gets rid of default border in Firefox and Opera. */\n",
              "                border: none;\n",
              "                /* Needs to be in here for Safari polyfill so background images work as expected. */\n",
              "                background-size: auto;\n",
              "            }\n",
              "            .progress-bar-interrupted, .progress-bar-interrupted::-webkit-progress-bar {\n",
              "                background: #F44336;\n",
              "            }\n",
              "        </style>\n",
              "      <progress value='2000' class='' max='2000' style='width:300px; height:20px; vertical-align: middle;'></progress>\n",
              "      100.00% [2000/2000 01:04<00:00 Sampling chain 0, 147 divergences]\n",
              "    </div>\n",
              "    "
            ],
            "text/plain": [
              "<IPython.core.display.HTML object>"
            ]
          },
          "metadata": {},
          "output_type": "display_data"
        },
        {
          "data": {
            "text/html": [
              "\n",
              "    <div>\n",
              "        <style>\n",
              "            /* Turns off some styling */\n",
              "            progress {\n",
              "                /* gets rid of default border in Firefox and Opera. */\n",
              "                border: none;\n",
              "                /* Needs to be in here for Safari polyfill so background images work as expected. */\n",
              "                background-size: auto;\n",
              "            }\n",
              "            .progress-bar-interrupted, .progress-bar-interrupted::-webkit-progress-bar {\n",
              "                background: #F44336;\n",
              "            }\n",
              "        </style>\n",
              "      <progress value='2000' class='' max='2000' style='width:300px; height:20px; vertical-align: middle;'></progress>\n",
              "      100.00% [2000/2000 00:56<00:00 Sampling chain 1, 407 divergences]\n",
              "    </div>\n",
              "    "
            ],
            "text/plain": [
              "<IPython.core.display.HTML object>"
            ]
          },
          "metadata": {},
          "output_type": "display_data"
        },
        {
          "name": "stderr",
          "output_type": "stream",
          "text": [
            "Sampling 2 chains for 1_000 tune and 1_000 draw iterations (2_000 + 2_000 draws total) took 121 seconds.\n",
            "There were 147 divergences after tuning. Increase `target_accept` or reparameterize.\n",
            "There were 554 divergences after tuning. Increase `target_accept` or reparameterize.\n",
            "The acceptance probability does not match the target. It is 0.5810998434385037, but should be close to 0.8. Try to increase the number of tuning steps.\n",
            "The rhat statistic is larger than 1.2 for some parameters.\n",
            "The estimated number of effective samples is smaller than 200 for some parameters.\n"
          ]
        },
        {
          "name": "stdout",
          "output_type": "stream",
          "text": [
            "[(19, 0), (7, 0), (28, 0), (22, 1), (19, 1)]\n"
          ]
        },
        {
          "data": {
            "text/html": [
              "\n",
              "    <div>\n",
              "        <style>\n",
              "            /* Turns off some styling */\n",
              "            progress {\n",
              "                /* gets rid of default border in Firefox and Opera. */\n",
              "                border: none;\n",
              "                /* Needs to be in here for Safari polyfill so background images work as expected. */\n",
              "                background-size: auto;\n",
              "            }\n",
              "            .progress-bar-interrupted, .progress-bar-interrupted::-webkit-progress-bar {\n",
              "                background: #F44336;\n",
              "            }\n",
              "        </style>\n",
              "      <progress value='2000' class='' max='2000' style='width:300px; height:20px; vertical-align: middle;'></progress>\n",
              "      100.00% [2000/2000 00:06<00:00]\n",
              "    </div>\n",
              "    "
            ],
            "text/plain": [
              "<IPython.core.display.HTML object>"
            ]
          },
          "metadata": {},
          "output_type": "display_data"
        },
        {
          "name": "stderr",
          "output_type": "stream",
          "text": [
            "/usr/local/lib/python3.7/dist-packages/ipykernel_launcher.py:14: FutureWarning: In v4.0, pm.sample will return an `arviz.InferenceData` object instead of a `MultiTrace` by default. You can pass return_inferencedata=True or return_inferencedata=False to be safe and silence this warning.\n",
            "  \n",
            "Auto-assigning NUTS sampler...\n",
            "Initializing NUTS using jitter+adapt_diag...\n",
            "Sequential sampling (2 chains in 1 job)\n",
            "NUTS: [σ, μ, μ_σ, σ_μ, μ̄_X1_rotated_, μ̄_X0_rotated_, GP_length_Scale]\n"
          ]
        },
        {
          "data": {
            "text/html": [
              "\n",
              "    <div>\n",
              "        <style>\n",
              "            /* Turns off some styling */\n",
              "            progress {\n",
              "                /* gets rid of default border in Firefox and Opera. */\n",
              "                border: none;\n",
              "                /* Needs to be in here for Safari polyfill so background images work as expected. */\n",
              "                background-size: auto;\n",
              "            }\n",
              "            .progress-bar-interrupted, .progress-bar-interrupted::-webkit-progress-bar {\n",
              "                background: #F44336;\n",
              "            }\n",
              "        </style>\n",
              "      <progress value='2000' class='' max='2000' style='width:300px; height:20px; vertical-align: middle;'></progress>\n",
              "      100.00% [2000/2000 01:04<00:00 Sampling chain 0, 358 divergences]\n",
              "    </div>\n",
              "    "
            ],
            "text/plain": [
              "<IPython.core.display.HTML object>"
            ]
          },
          "metadata": {},
          "output_type": "display_data"
        },
        {
          "data": {
            "text/html": [
              "\n",
              "    <div>\n",
              "        <style>\n",
              "            /* Turns off some styling */\n",
              "            progress {\n",
              "                /* gets rid of default border in Firefox and Opera. */\n",
              "                border: none;\n",
              "                /* Needs to be in here for Safari polyfill so background images work as expected. */\n",
              "                background-size: auto;\n",
              "            }\n",
              "            .progress-bar-interrupted, .progress-bar-interrupted::-webkit-progress-bar {\n",
              "                background: #F44336;\n",
              "            }\n",
              "        </style>\n",
              "      <progress value='2000' class='' max='2000' style='width:300px; height:20px; vertical-align: middle;'></progress>\n",
              "      100.00% [2000/2000 01:04<00:00 Sampling chain 1, 274 divergences]\n",
              "    </div>\n",
              "    "
            ],
            "text/plain": [
              "<IPython.core.display.HTML object>"
            ]
          },
          "metadata": {},
          "output_type": "display_data"
        },
        {
          "name": "stderr",
          "output_type": "stream",
          "text": [
            "Sampling 2 chains for 1_000 tune and 1_000 draw iterations (2_000 + 2_000 draws total) took 128 seconds.\n",
            "There were 359 divergences after tuning. Increase `target_accept` or reparameterize.\n",
            "The acceptance probability does not match the target. It is 0.649312585539737, but should be close to 0.8. Try to increase the number of tuning steps.\n",
            "There were 634 divergences after tuning. Increase `target_accept` or reparameterize.\n",
            "The acceptance probability does not match the target. It is 0.7199325058593574, but should be close to 0.8. Try to increase the number of tuning steps.\n",
            "The estimated number of effective samples is smaller than 200 for some parameters.\n"
          ]
        },
        {
          "name": "stdout",
          "output_type": "stream",
          "text": [
            "[(19, 0), (7, 0), (28, 0), (22, 1), (19, 1), (4, 0)]\n"
          ]
        },
        {
          "data": {
            "text/html": [
              "\n",
              "    <div>\n",
              "        <style>\n",
              "            /* Turns off some styling */\n",
              "            progress {\n",
              "                /* gets rid of default border in Firefox and Opera. */\n",
              "                border: none;\n",
              "                /* Needs to be in here for Safari polyfill so background images work as expected. */\n",
              "                background-size: auto;\n",
              "            }\n",
              "            .progress-bar-interrupted, .progress-bar-interrupted::-webkit-progress-bar {\n",
              "                background: #F44336;\n",
              "            }\n",
              "        </style>\n",
              "      <progress value='2000' class='' max='2000' style='width:300px; height:20px; vertical-align: middle;'></progress>\n",
              "      100.00% [2000/2000 00:06<00:00]\n",
              "    </div>\n",
              "    "
            ],
            "text/plain": [
              "<IPython.core.display.HTML object>"
            ]
          },
          "metadata": {},
          "output_type": "display_data"
        },
        {
          "name": "stderr",
          "output_type": "stream",
          "text": [
            "/usr/local/lib/python3.7/dist-packages/ipykernel_launcher.py:14: FutureWarning: In v4.0, pm.sample will return an `arviz.InferenceData` object instead of a `MultiTrace` by default. You can pass return_inferencedata=True or return_inferencedata=False to be safe and silence this warning.\n",
            "  \n",
            "Auto-assigning NUTS sampler...\n",
            "Initializing NUTS using jitter+adapt_diag...\n",
            "Sequential sampling (2 chains in 1 job)\n",
            "NUTS: [σ, μ, μ_σ, σ_μ, μ̄_X1_rotated_, μ̄_X0_rotated_, GP_length_Scale]\n"
          ]
        },
        {
          "data": {
            "text/html": [
              "\n",
              "    <div>\n",
              "        <style>\n",
              "            /* Turns off some styling */\n",
              "            progress {\n",
              "                /* gets rid of default border in Firefox and Opera. */\n",
              "                border: none;\n",
              "                /* Needs to be in here for Safari polyfill so background images work as expected. */\n",
              "                background-size: auto;\n",
              "            }\n",
              "            .progress-bar-interrupted, .progress-bar-interrupted::-webkit-progress-bar {\n",
              "                background: #F44336;\n",
              "            }\n",
              "        </style>\n",
              "      <progress value='2000' class='' max='2000' style='width:300px; height:20px; vertical-align: middle;'></progress>\n",
              "      100.00% [2000/2000 01:15<00:00 Sampling chain 0, 287 divergences]\n",
              "    </div>\n",
              "    "
            ],
            "text/plain": [
              "<IPython.core.display.HTML object>"
            ]
          },
          "metadata": {},
          "output_type": "display_data"
        },
        {
          "data": {
            "text/html": [
              "\n",
              "    <div>\n",
              "        <style>\n",
              "            /* Turns off some styling */\n",
              "            progress {\n",
              "                /* gets rid of default border in Firefox and Opera. */\n",
              "                border: none;\n",
              "                /* Needs to be in here for Safari polyfill so background images work as expected. */\n",
              "                background-size: auto;\n",
              "            }\n",
              "            .progress-bar-interrupted, .progress-bar-interrupted::-webkit-progress-bar {\n",
              "                background: #F44336;\n",
              "            }\n",
              "        </style>\n",
              "      <progress value='2000' class='' max='2000' style='width:300px; height:20px; vertical-align: middle;'></progress>\n",
              "      100.00% [2000/2000 01:05<00:00 Sampling chain 1, 371 divergences]\n",
              "    </div>\n",
              "    "
            ],
            "text/plain": [
              "<IPython.core.display.HTML object>"
            ]
          },
          "metadata": {},
          "output_type": "display_data"
        },
        {
          "name": "stderr",
          "output_type": "stream",
          "text": [
            "Sampling 2 chains for 1_000 tune and 1_000 draw iterations (2_000 + 2_000 draws total) took 140 seconds.\n",
            "There were 288 divergences after tuning. Increase `target_accept` or reparameterize.\n",
            "The acceptance probability does not match the target. It is 0.6847871985294041, but should be close to 0.8. Try to increase the number of tuning steps.\n",
            "There were 659 divergences after tuning. Increase `target_accept` or reparameterize.\n",
            "The acceptance probability does not match the target. It is 0.6138792704148776, but should be close to 0.8. Try to increase the number of tuning steps.\n",
            "The rhat statistic is larger than 1.05 for some parameters. This indicates slight problems during sampling.\n",
            "The estimated number of effective samples is smaller than 200 for some parameters.\n"
          ]
        },
        {
          "name": "stdout",
          "output_type": "stream",
          "text": [
            "[(19, 0), (7, 0), (28, 0), (22, 1), (19, 1), (4, 0), (12, 0)]\n"
          ]
        },
        {
          "data": {
            "text/html": [
              "\n",
              "    <div>\n",
              "        <style>\n",
              "            /* Turns off some styling */\n",
              "            progress {\n",
              "                /* gets rid of default border in Firefox and Opera. */\n",
              "                border: none;\n",
              "                /* Needs to be in here for Safari polyfill so background images work as expected. */\n",
              "                background-size: auto;\n",
              "            }\n",
              "            .progress-bar-interrupted, .progress-bar-interrupted::-webkit-progress-bar {\n",
              "                background: #F44336;\n",
              "            }\n",
              "        </style>\n",
              "      <progress value='2000' class='' max='2000' style='width:300px; height:20px; vertical-align: middle;'></progress>\n",
              "      100.00% [2000/2000 00:06<00:00]\n",
              "    </div>\n",
              "    "
            ],
            "text/plain": [
              "<IPython.core.display.HTML object>"
            ]
          },
          "metadata": {},
          "output_type": "display_data"
        },
        {
          "name": "stderr",
          "output_type": "stream",
          "text": [
            "/usr/local/lib/python3.7/dist-packages/ipykernel_launcher.py:14: FutureWarning: In v4.0, pm.sample will return an `arviz.InferenceData` object instead of a `MultiTrace` by default. You can pass return_inferencedata=True or return_inferencedata=False to be safe and silence this warning.\n",
            "  \n",
            "Auto-assigning NUTS sampler...\n",
            "Initializing NUTS using jitter+adapt_diag...\n",
            "Sequential sampling (2 chains in 1 job)\n",
            "NUTS: [σ, μ, μ_σ, σ_μ, μ̄_X1_rotated_, μ̄_X0_rotated_, GP_length_Scale]\n"
          ]
        },
        {
          "data": {
            "text/html": [
              "\n",
              "    <div>\n",
              "        <style>\n",
              "            /* Turns off some styling */\n",
              "            progress {\n",
              "                /* gets rid of default border in Firefox and Opera. */\n",
              "                border: none;\n",
              "                /* Needs to be in here for Safari polyfill so background images work as expected. */\n",
              "                background-size: auto;\n",
              "            }\n",
              "            .progress-bar-interrupted, .progress-bar-interrupted::-webkit-progress-bar {\n",
              "                background: #F44336;\n",
              "            }\n",
              "        </style>\n",
              "      <progress value='2000' class='' max='2000' style='width:300px; height:20px; vertical-align: middle;'></progress>\n",
              "      100.00% [2000/2000 01:00<00:00 Sampling chain 0, 472 divergences]\n",
              "    </div>\n",
              "    "
            ],
            "text/plain": [
              "<IPython.core.display.HTML object>"
            ]
          },
          "metadata": {},
          "output_type": "display_data"
        },
        {
          "data": {
            "text/html": [
              "\n",
              "    <div>\n",
              "        <style>\n",
              "            /* Turns off some styling */\n",
              "            progress {\n",
              "                /* gets rid of default border in Firefox and Opera. */\n",
              "                border: none;\n",
              "                /* Needs to be in here for Safari polyfill so background images work as expected. */\n",
              "                background-size: auto;\n",
              "            }\n",
              "            .progress-bar-interrupted, .progress-bar-interrupted::-webkit-progress-bar {\n",
              "                background: #F44336;\n",
              "            }\n",
              "        </style>\n",
              "      <progress value='2000' class='' max='2000' style='width:300px; height:20px; vertical-align: middle;'></progress>\n",
              "      100.00% [2000/2000 01:08<00:00 Sampling chain 1, 381 divergences]\n",
              "    </div>\n",
              "    "
            ],
            "text/plain": [
              "<IPython.core.display.HTML object>"
            ]
          },
          "metadata": {},
          "output_type": "display_data"
        },
        {
          "name": "stderr",
          "output_type": "stream",
          "text": [
            "Sampling 2 chains for 1_000 tune and 1_000 draw iterations (2_000 + 2_000 draws total) took 130 seconds.\n",
            "There were 472 divergences after tuning. Increase `target_accept` or reparameterize.\n",
            "The acceptance probability does not match the target. It is 0.5612629082695164, but should be close to 0.8. Try to increase the number of tuning steps.\n",
            "There were 853 divergences after tuning. Increase `target_accept` or reparameterize.\n",
            "The acceptance probability does not match the target. It is 0.6234918984694321, but should be close to 0.8. Try to increase the number of tuning steps.\n",
            "The rhat statistic is larger than 1.05 for some parameters. This indicates slight problems during sampling.\n",
            "The estimated number of effective samples is smaller than 200 for some parameters.\n"
          ]
        },
        {
          "name": "stdout",
          "output_type": "stream",
          "text": [
            "[(19, 0), (7, 0), (28, 0), (22, 1), (19, 1), (4, 0), (12, 0), (23, 1)]\n"
          ]
        },
        {
          "data": {
            "text/html": [
              "\n",
              "    <div>\n",
              "        <style>\n",
              "            /* Turns off some styling */\n",
              "            progress {\n",
              "                /* gets rid of default border in Firefox and Opera. */\n",
              "                border: none;\n",
              "                /* Needs to be in here for Safari polyfill so background images work as expected. */\n",
              "                background-size: auto;\n",
              "            }\n",
              "            .progress-bar-interrupted, .progress-bar-interrupted::-webkit-progress-bar {\n",
              "                background: #F44336;\n",
              "            }\n",
              "        </style>\n",
              "      <progress value='2000' class='' max='2000' style='width:300px; height:20px; vertical-align: middle;'></progress>\n",
              "      100.00% [2000/2000 00:06<00:00]\n",
              "    </div>\n",
              "    "
            ],
            "text/plain": [
              "<IPython.core.display.HTML object>"
            ]
          },
          "metadata": {},
          "output_type": "display_data"
        },
        {
          "name": "stderr",
          "output_type": "stream",
          "text": [
            "/usr/local/lib/python3.7/dist-packages/ipykernel_launcher.py:14: FutureWarning: In v4.0, pm.sample will return an `arviz.InferenceData` object instead of a `MultiTrace` by default. You can pass return_inferencedata=True or return_inferencedata=False to be safe and silence this warning.\n",
            "  \n",
            "Auto-assigning NUTS sampler...\n",
            "Initializing NUTS using jitter+adapt_diag...\n",
            "Sequential sampling (2 chains in 1 job)\n",
            "NUTS: [σ, μ, μ_σ, σ_μ, μ̄_X1_rotated_, μ̄_X0_rotated_, GP_length_Scale]\n"
          ]
        },
        {
          "data": {
            "text/html": [
              "\n",
              "    <div>\n",
              "        <style>\n",
              "            /* Turns off some styling */\n",
              "            progress {\n",
              "                /* gets rid of default border in Firefox and Opera. */\n",
              "                border: none;\n",
              "                /* Needs to be in here for Safari polyfill so background images work as expected. */\n",
              "                background-size: auto;\n",
              "            }\n",
              "            .progress-bar-interrupted, .progress-bar-interrupted::-webkit-progress-bar {\n",
              "                background: #F44336;\n",
              "            }\n",
              "        </style>\n",
              "      <progress value='2000' class='' max='2000' style='width:300px; height:20px; vertical-align: middle;'></progress>\n",
              "      100.00% [2000/2000 01:12<00:00 Sampling chain 0, 215 divergences]\n",
              "    </div>\n",
              "    "
            ],
            "text/plain": [
              "<IPython.core.display.HTML object>"
            ]
          },
          "metadata": {},
          "output_type": "display_data"
        },
        {
          "data": {
            "text/html": [
              "\n",
              "    <div>\n",
              "        <style>\n",
              "            /* Turns off some styling */\n",
              "            progress {\n",
              "                /* gets rid of default border in Firefox and Opera. */\n",
              "                border: none;\n",
              "                /* Needs to be in here for Safari polyfill so background images work as expected. */\n",
              "                background-size: auto;\n",
              "            }\n",
              "            .progress-bar-interrupted, .progress-bar-interrupted::-webkit-progress-bar {\n",
              "                background: #F44336;\n",
              "            }\n",
              "        </style>\n",
              "      <progress value='2000' class='' max='2000' style='width:300px; height:20px; vertical-align: middle;'></progress>\n",
              "      100.00% [2000/2000 01:35<00:00 Sampling chain 1, 173 divergences]\n",
              "    </div>\n",
              "    "
            ],
            "text/plain": [
              "<IPython.core.display.HTML object>"
            ]
          },
          "metadata": {},
          "output_type": "display_data"
        },
        {
          "name": "stderr",
          "output_type": "stream",
          "text": [
            "Sampling 2 chains for 1_000 tune and 1_000 draw iterations (2_000 + 2_000 draws total) took 169 seconds.\n",
            "There were 215 divergences after tuning. Increase `target_accept` or reparameterize.\n",
            "There were 388 divergences after tuning. Increase `target_accept` or reparameterize.\n",
            "The rhat statistic is larger than 1.05 for some parameters. This indicates slight problems during sampling.\n",
            "The estimated number of effective samples is smaller than 200 for some parameters.\n"
          ]
        },
        {
          "name": "stdout",
          "output_type": "stream",
          "text": [
            "[(19, 0), (7, 0), (28, 0), (22, 1), (19, 1), (4, 0), (12, 0), (23, 1), (4, 1)]\n"
          ]
        },
        {
          "data": {
            "text/html": [
              "\n",
              "    <div>\n",
              "        <style>\n",
              "            /* Turns off some styling */\n",
              "            progress {\n",
              "                /* gets rid of default border in Firefox and Opera. */\n",
              "                border: none;\n",
              "                /* Needs to be in here for Safari polyfill so background images work as expected. */\n",
              "                background-size: auto;\n",
              "            }\n",
              "            .progress-bar-interrupted, .progress-bar-interrupted::-webkit-progress-bar {\n",
              "                background: #F44336;\n",
              "            }\n",
              "        </style>\n",
              "      <progress value='2000' class='' max='2000' style='width:300px; height:20px; vertical-align: middle;'></progress>\n",
              "      100.00% [2000/2000 00:06<00:00]\n",
              "    </div>\n",
              "    "
            ],
            "text/plain": [
              "<IPython.core.display.HTML object>"
            ]
          },
          "metadata": {},
          "output_type": "display_data"
        },
        {
          "name": "stderr",
          "output_type": "stream",
          "text": [
            "/usr/local/lib/python3.7/dist-packages/ipykernel_launcher.py:14: FutureWarning: In v4.0, pm.sample will return an `arviz.InferenceData` object instead of a `MultiTrace` by default. You can pass return_inferencedata=True or return_inferencedata=False to be safe and silence this warning.\n",
            "  \n",
            "Auto-assigning NUTS sampler...\n",
            "Initializing NUTS using jitter+adapt_diag...\n",
            "Sequential sampling (2 chains in 1 job)\n",
            "NUTS: [σ, μ, μ_σ, σ_μ, μ̄_X1_rotated_, μ̄_X0_rotated_, GP_length_Scale]\n"
          ]
        },
        {
          "data": {
            "text/html": [
              "\n",
              "    <div>\n",
              "        <style>\n",
              "            /* Turns off some styling */\n",
              "            progress {\n",
              "                /* gets rid of default border in Firefox and Opera. */\n",
              "                border: none;\n",
              "                /* Needs to be in here for Safari polyfill so background images work as expected. */\n",
              "                background-size: auto;\n",
              "            }\n",
              "            .progress-bar-interrupted, .progress-bar-interrupted::-webkit-progress-bar {\n",
              "                background: #F44336;\n",
              "            }\n",
              "        </style>\n",
              "      <progress value='2000' class='' max='2000' style='width:300px; height:20px; vertical-align: middle;'></progress>\n",
              "      100.00% [2000/2000 01:21<00:00 Sampling chain 0, 306 divergences]\n",
              "    </div>\n",
              "    "
            ],
            "text/plain": [
              "<IPython.core.display.HTML object>"
            ]
          },
          "metadata": {},
          "output_type": "display_data"
        },
        {
          "data": {
            "text/html": [
              "\n",
              "    <div>\n",
              "        <style>\n",
              "            /* Turns off some styling */\n",
              "            progress {\n",
              "                /* gets rid of default border in Firefox and Opera. */\n",
              "                border: none;\n",
              "                /* Needs to be in here for Safari polyfill so background images work as expected. */\n",
              "                background-size: auto;\n",
              "            }\n",
              "            .progress-bar-interrupted, .progress-bar-interrupted::-webkit-progress-bar {\n",
              "                background: #F44336;\n",
              "            }\n",
              "        </style>\n",
              "      <progress value='2000' class='' max='2000' style='width:300px; height:20px; vertical-align: middle;'></progress>\n",
              "      100.00% [2000/2000 00:55<00:00 Sampling chain 1, 549 divergences]\n",
              "    </div>\n",
              "    "
            ],
            "text/plain": [
              "<IPython.core.display.HTML object>"
            ]
          },
          "metadata": {},
          "output_type": "display_data"
        },
        {
          "name": "stderr",
          "output_type": "stream",
          "text": [
            "Sampling 2 chains for 1_000 tune and 1_000 draw iterations (2_000 + 2_000 draws total) took 138 seconds.\n",
            "There were 306 divergences after tuning. Increase `target_accept` or reparameterize.\n",
            "The acceptance probability does not match the target. It is 0.6778483512525155, but should be close to 0.8. Try to increase the number of tuning steps.\n",
            "There were 855 divergences after tuning. Increase `target_accept` or reparameterize.\n",
            "The acceptance probability does not match the target. It is 0.5122448848558716, but should be close to 0.8. Try to increase the number of tuning steps.\n",
            "The rhat statistic is larger than 1.05 for some parameters. This indicates slight problems during sampling.\n",
            "The estimated number of effective samples is smaller than 200 for some parameters.\n"
          ]
        },
        {
          "name": "stdout",
          "output_type": "stream",
          "text": [
            "[(19, 0), (7, 0), (28, 0), (22, 1), (19, 1), (4, 0), (12, 0), (23, 1), (4, 1), (11, 0)]\n"
          ]
        },
        {
          "data": {
            "text/html": [
              "\n",
              "    <div>\n",
              "        <style>\n",
              "            /* Turns off some styling */\n",
              "            progress {\n",
              "                /* gets rid of default border in Firefox and Opera. */\n",
              "                border: none;\n",
              "                /* Needs to be in here for Safari polyfill so background images work as expected. */\n",
              "                background-size: auto;\n",
              "            }\n",
              "            .progress-bar-interrupted, .progress-bar-interrupted::-webkit-progress-bar {\n",
              "                background: #F44336;\n",
              "            }\n",
              "        </style>\n",
              "      <progress value='2000' class='' max='2000' style='width:300px; height:20px; vertical-align: middle;'></progress>\n",
              "      100.00% [2000/2000 00:06<00:00]\n",
              "    </div>\n",
              "    "
            ],
            "text/plain": [
              "<IPython.core.display.HTML object>"
            ]
          },
          "metadata": {},
          "output_type": "display_data"
        },
        {
          "name": "stderr",
          "output_type": "stream",
          "text": [
            "/usr/local/lib/python3.7/dist-packages/ipykernel_launcher.py:14: FutureWarning: In v4.0, pm.sample will return an `arviz.InferenceData` object instead of a `MultiTrace` by default. You can pass return_inferencedata=True or return_inferencedata=False to be safe and silence this warning.\n",
            "  \n",
            "Auto-assigning NUTS sampler...\n",
            "Initializing NUTS using jitter+adapt_diag...\n",
            "Sequential sampling (2 chains in 1 job)\n",
            "NUTS: [σ, μ, μ_σ, σ_μ, μ̄_X1_rotated_, μ̄_X0_rotated_, GP_length_Scale]\n"
          ]
        },
        {
          "data": {
            "text/html": [
              "\n",
              "    <div>\n",
              "        <style>\n",
              "            /* Turns off some styling */\n",
              "            progress {\n",
              "                /* gets rid of default border in Firefox and Opera. */\n",
              "                border: none;\n",
              "                /* Needs to be in here for Safari polyfill so background images work as expected. */\n",
              "                background-size: auto;\n",
              "            }\n",
              "            .progress-bar-interrupted, .progress-bar-interrupted::-webkit-progress-bar {\n",
              "                background: #F44336;\n",
              "            }\n",
              "        </style>\n",
              "      <progress value='2000' class='' max='2000' style='width:300px; height:20px; vertical-align: middle;'></progress>\n",
              "      100.00% [2000/2000 01:26<00:00 Sampling chain 0, 307 divergences]\n",
              "    </div>\n",
              "    "
            ],
            "text/plain": [
              "<IPython.core.display.HTML object>"
            ]
          },
          "metadata": {},
          "output_type": "display_data"
        },
        {
          "data": {
            "text/html": [
              "\n",
              "    <div>\n",
              "        <style>\n",
              "            /* Turns off some styling */\n",
              "            progress {\n",
              "                /* gets rid of default border in Firefox and Opera. */\n",
              "                border: none;\n",
              "                /* Needs to be in here for Safari polyfill so background images work as expected. */\n",
              "                background-size: auto;\n",
              "            }\n",
              "            .progress-bar-interrupted, .progress-bar-interrupted::-webkit-progress-bar {\n",
              "                background: #F44336;\n",
              "            }\n",
              "        </style>\n",
              "      <progress value='2000' class='' max='2000' style='width:300px; height:20px; vertical-align: middle;'></progress>\n",
              "      100.00% [2000/2000 01:27<00:00 Sampling chain 1, 102 divergences]\n",
              "    </div>\n",
              "    "
            ],
            "text/plain": [
              "<IPython.core.display.HTML object>"
            ]
          },
          "metadata": {},
          "output_type": "display_data"
        },
        {
          "name": "stderr",
          "output_type": "stream",
          "text": [
            "Sampling 2 chains for 1_000 tune and 1_000 draw iterations (2_000 + 2_000 draws total) took 174 seconds.\n",
            "There were 307 divergences after tuning. Increase `target_accept` or reparameterize.\n",
            "The acceptance probability does not match the target. It is 0.6602391148200096, but should be close to 0.8. Try to increase the number of tuning steps.\n",
            "There were 409 divergences after tuning. Increase `target_accept` or reparameterize.\n",
            "The rhat statistic is larger than 1.05 for some parameters. This indicates slight problems during sampling.\n",
            "The estimated number of effective samples is smaller than 200 for some parameters.\n"
          ]
        },
        {
          "name": "stdout",
          "output_type": "stream",
          "text": [
            "[(19, 0), (7, 0), (28, 0), (22, 1), (19, 1), (4, 0), (12, 0), (23, 1), (4, 1), (11, 0), (6, 0)]\n"
          ]
        },
        {
          "data": {
            "text/html": [
              "\n",
              "    <div>\n",
              "        <style>\n",
              "            /* Turns off some styling */\n",
              "            progress {\n",
              "                /* gets rid of default border in Firefox and Opera. */\n",
              "                border: none;\n",
              "                /* Needs to be in here for Safari polyfill so background images work as expected. */\n",
              "                background-size: auto;\n",
              "            }\n",
              "            .progress-bar-interrupted, .progress-bar-interrupted::-webkit-progress-bar {\n",
              "                background: #F44336;\n",
              "            }\n",
              "        </style>\n",
              "      <progress value='2000' class='' max='2000' style='width:300px; height:20px; vertical-align: middle;'></progress>\n",
              "      100.00% [2000/2000 00:06<00:00]\n",
              "    </div>\n",
              "    "
            ],
            "text/plain": [
              "<IPython.core.display.HTML object>"
            ]
          },
          "metadata": {},
          "output_type": "display_data"
        },
        {
          "name": "stderr",
          "output_type": "stream",
          "text": [
            "/usr/local/lib/python3.7/dist-packages/ipykernel_launcher.py:14: FutureWarning: In v4.0, pm.sample will return an `arviz.InferenceData` object instead of a `MultiTrace` by default. You can pass return_inferencedata=True or return_inferencedata=False to be safe and silence this warning.\n",
            "  \n",
            "Auto-assigning NUTS sampler...\n",
            "Initializing NUTS using jitter+adapt_diag...\n",
            "Sequential sampling (2 chains in 1 job)\n",
            "NUTS: [σ, μ, μ_σ, σ_μ, μ̄_X1_rotated_, μ̄_X0_rotated_, GP_length_Scale]\n"
          ]
        },
        {
          "data": {
            "text/html": [
              "\n",
              "    <div>\n",
              "        <style>\n",
              "            /* Turns off some styling */\n",
              "            progress {\n",
              "                /* gets rid of default border in Firefox and Opera. */\n",
              "                border: none;\n",
              "                /* Needs to be in here for Safari polyfill so background images work as expected. */\n",
              "                background-size: auto;\n",
              "            }\n",
              "            .progress-bar-interrupted, .progress-bar-interrupted::-webkit-progress-bar {\n",
              "                background: #F44336;\n",
              "            }\n",
              "        </style>\n",
              "      <progress value='2000' class='' max='2000' style='width:300px; height:20px; vertical-align: middle;'></progress>\n",
              "      100.00% [2000/2000 00:55<00:00 Sampling chain 0, 659 divergences]\n",
              "    </div>\n",
              "    "
            ],
            "text/plain": [
              "<IPython.core.display.HTML object>"
            ]
          },
          "metadata": {},
          "output_type": "display_data"
        },
        {
          "data": {
            "text/html": [
              "\n",
              "    <div>\n",
              "        <style>\n",
              "            /* Turns off some styling */\n",
              "            progress {\n",
              "                /* gets rid of default border in Firefox and Opera. */\n",
              "                border: none;\n",
              "                /* Needs to be in here for Safari polyfill so background images work as expected. */\n",
              "                background-size: auto;\n",
              "            }\n",
              "            .progress-bar-interrupted, .progress-bar-interrupted::-webkit-progress-bar {\n",
              "                background: #F44336;\n",
              "            }\n",
              "        </style>\n",
              "      <progress value='2000' class='' max='2000' style='width:300px; height:20px; vertical-align: middle;'></progress>\n",
              "      100.00% [2000/2000 01:05<00:00 Sampling chain 1, 200 divergences]\n",
              "    </div>\n",
              "    "
            ],
            "text/plain": [
              "<IPython.core.display.HTML object>"
            ]
          },
          "metadata": {},
          "output_type": "display_data"
        },
        {
          "name": "stderr",
          "output_type": "stream",
          "text": [
            "Sampling 2 chains for 1_000 tune and 1_000 draw iterations (2_000 + 2_000 draws total) took 121 seconds.\n",
            "There were 659 divergences after tuning. Increase `target_accept` or reparameterize.\n",
            "The acceptance probability does not match the target. It is 0.37677751650164804, but should be close to 0.8. Try to increase the number of tuning steps.\n",
            "There were 859 divergences after tuning. Increase `target_accept` or reparameterize.\n",
            "The rhat statistic is larger than 1.4 for some parameters. The sampler did not converge.\n",
            "The estimated number of effective samples is smaller than 200 for some parameters.\n"
          ]
        },
        {
          "name": "stdout",
          "output_type": "stream",
          "text": [
            "[(19, 0), (7, 0), (28, 0), (22, 1), (19, 1), (4, 0), (12, 0), (23, 1), (4, 1), (11, 0), (6, 0), (8, 1)]\n"
          ]
        },
        {
          "data": {
            "text/html": [
              "\n",
              "    <div>\n",
              "        <style>\n",
              "            /* Turns off some styling */\n",
              "            progress {\n",
              "                /* gets rid of default border in Firefox and Opera. */\n",
              "                border: none;\n",
              "                /* Needs to be in here for Safari polyfill so background images work as expected. */\n",
              "                background-size: auto;\n",
              "            }\n",
              "            .progress-bar-interrupted, .progress-bar-interrupted::-webkit-progress-bar {\n",
              "                background: #F44336;\n",
              "            }\n",
              "        </style>\n",
              "      <progress value='2000' class='' max='2000' style='width:300px; height:20px; vertical-align: middle;'></progress>\n",
              "      100.00% [2000/2000 00:06<00:00]\n",
              "    </div>\n",
              "    "
            ],
            "text/plain": [
              "<IPython.core.display.HTML object>"
            ]
          },
          "metadata": {},
          "output_type": "display_data"
        },
        {
          "name": "stderr",
          "output_type": "stream",
          "text": [
            "/usr/local/lib/python3.7/dist-packages/ipykernel_launcher.py:14: FutureWarning: In v4.0, pm.sample will return an `arviz.InferenceData` object instead of a `MultiTrace` by default. You can pass return_inferencedata=True or return_inferencedata=False to be safe and silence this warning.\n",
            "  \n",
            "Auto-assigning NUTS sampler...\n",
            "Initializing NUTS using jitter+adapt_diag...\n",
            "Sequential sampling (2 chains in 1 job)\n",
            "NUTS: [σ, μ, μ_σ, σ_μ, μ̄_X1_rotated_, μ̄_X0_rotated_, GP_length_Scale]\n"
          ]
        },
        {
          "data": {
            "text/html": [
              "\n",
              "    <div>\n",
              "        <style>\n",
              "            /* Turns off some styling */\n",
              "            progress {\n",
              "                /* gets rid of default border in Firefox and Opera. */\n",
              "                border: none;\n",
              "                /* Needs to be in here for Safari polyfill so background images work as expected. */\n",
              "                background-size: auto;\n",
              "            }\n",
              "            .progress-bar-interrupted, .progress-bar-interrupted::-webkit-progress-bar {\n",
              "                background: #F44336;\n",
              "            }\n",
              "        </style>\n",
              "      <progress value='2000' class='' max='2000' style='width:300px; height:20px; vertical-align: middle;'></progress>\n",
              "      100.00% [2000/2000 01:41<00:00 Sampling chain 0, 248 divergences]\n",
              "    </div>\n",
              "    "
            ],
            "text/plain": [
              "<IPython.core.display.HTML object>"
            ]
          },
          "metadata": {},
          "output_type": "display_data"
        },
        {
          "data": {
            "text/html": [
              "\n",
              "    <div>\n",
              "        <style>\n",
              "            /* Turns off some styling */\n",
              "            progress {\n",
              "                /* gets rid of default border in Firefox and Opera. */\n",
              "                border: none;\n",
              "                /* Needs to be in here for Safari polyfill so background images work as expected. */\n",
              "                background-size: auto;\n",
              "            }\n",
              "            .progress-bar-interrupted, .progress-bar-interrupted::-webkit-progress-bar {\n",
              "                background: #F44336;\n",
              "            }\n",
              "        </style>\n",
              "      <progress value='2000' class='' max='2000' style='width:300px; height:20px; vertical-align: middle;'></progress>\n",
              "      100.00% [2000/2000 00:56<00:00 Sampling chain 1, 533 divergences]\n",
              "    </div>\n",
              "    "
            ],
            "text/plain": [
              "<IPython.core.display.HTML object>"
            ]
          },
          "metadata": {},
          "output_type": "display_data"
        },
        {
          "name": "stderr",
          "output_type": "stream",
          "text": [
            "Sampling 2 chains for 1_000 tune and 1_000 draw iterations (2_000 + 2_000 draws total) took 157 seconds.\n",
            "There were 248 divergences after tuning. Increase `target_accept` or reparameterize.\n",
            "There were 781 divergences after tuning. Increase `target_accept` or reparameterize.\n",
            "The acceptance probability does not match the target. It is 0.5022588283981002, but should be close to 0.8. Try to increase the number of tuning steps.\n",
            "The rhat statistic is larger than 1.2 for some parameters.\n",
            "The estimated number of effective samples is smaller than 200 for some parameters.\n"
          ]
        },
        {
          "name": "stdout",
          "output_type": "stream",
          "text": [
            "[(19, 0), (7, 0), (28, 0), (22, 1), (19, 1), (4, 0), (12, 0), (23, 1), (4, 1), (11, 0), (6, 0), (8, 1), (21, 1)]\n"
          ]
        },
        {
          "data": {
            "text/html": [
              "\n",
              "    <div>\n",
              "        <style>\n",
              "            /* Turns off some styling */\n",
              "            progress {\n",
              "                /* gets rid of default border in Firefox and Opera. */\n",
              "                border: none;\n",
              "                /* Needs to be in here for Safari polyfill so background images work as expected. */\n",
              "                background-size: auto;\n",
              "            }\n",
              "            .progress-bar-interrupted, .progress-bar-interrupted::-webkit-progress-bar {\n",
              "                background: #F44336;\n",
              "            }\n",
              "        </style>\n",
              "      <progress value='2000' class='' max='2000' style='width:300px; height:20px; vertical-align: middle;'></progress>\n",
              "      100.00% [2000/2000 00:06<00:00]\n",
              "    </div>\n",
              "    "
            ],
            "text/plain": [
              "<IPython.core.display.HTML object>"
            ]
          },
          "metadata": {},
          "output_type": "display_data"
        },
        {
          "name": "stderr",
          "output_type": "stream",
          "text": [
            "/usr/local/lib/python3.7/dist-packages/ipykernel_launcher.py:14: FutureWarning: In v4.0, pm.sample will return an `arviz.InferenceData` object instead of a `MultiTrace` by default. You can pass return_inferencedata=True or return_inferencedata=False to be safe and silence this warning.\n",
            "  \n",
            "Auto-assigning NUTS sampler...\n",
            "Initializing NUTS using jitter+adapt_diag...\n",
            "Sequential sampling (2 chains in 1 job)\n",
            "NUTS: [σ, μ, μ_σ, σ_μ, μ̄_X1_rotated_, μ̄_X0_rotated_, GP_length_Scale]\n"
          ]
        },
        {
          "data": {
            "text/html": [
              "\n",
              "    <div>\n",
              "        <style>\n",
              "            /* Turns off some styling */\n",
              "            progress {\n",
              "                /* gets rid of default border in Firefox and Opera. */\n",
              "                border: none;\n",
              "                /* Needs to be in here for Safari polyfill so background images work as expected. */\n",
              "                background-size: auto;\n",
              "            }\n",
              "            .progress-bar-interrupted, .progress-bar-interrupted::-webkit-progress-bar {\n",
              "                background: #F44336;\n",
              "            }\n",
              "        </style>\n",
              "      <progress value='2000' class='' max='2000' style='width:300px; height:20px; vertical-align: middle;'></progress>\n",
              "      100.00% [2000/2000 01:16<00:00 Sampling chain 0, 429 divergences]\n",
              "    </div>\n",
              "    "
            ],
            "text/plain": [
              "<IPython.core.display.HTML object>"
            ]
          },
          "metadata": {},
          "output_type": "display_data"
        },
        {
          "data": {
            "text/html": [
              "\n",
              "    <div>\n",
              "        <style>\n",
              "            /* Turns off some styling */\n",
              "            progress {\n",
              "                /* gets rid of default border in Firefox and Opera. */\n",
              "                border: none;\n",
              "                /* Needs to be in here for Safari polyfill so background images work as expected. */\n",
              "                background-size: auto;\n",
              "            }\n",
              "            .progress-bar-interrupted, .progress-bar-interrupted::-webkit-progress-bar {\n",
              "                background: #F44336;\n",
              "            }\n",
              "        </style>\n",
              "      <progress value='2000' class='' max='2000' style='width:300px; height:20px; vertical-align: middle;'></progress>\n",
              "      100.00% [2000/2000 00:46<00:00 Sampling chain 1, 943 divergences]\n",
              "    </div>\n",
              "    "
            ],
            "text/plain": [
              "<IPython.core.display.HTML object>"
            ]
          },
          "metadata": {},
          "output_type": "display_data"
        },
        {
          "name": "stderr",
          "output_type": "stream",
          "text": [
            "Sampling 2 chains for 1_000 tune and 1_000 draw iterations (2_000 + 2_000 draws total) took 123 seconds.\n",
            "There were 429 divergences after tuning. Increase `target_accept` or reparameterize.\n",
            "The acceptance probability does not match the target. It is 0.6040876459087645, but should be close to 0.8. Try to increase the number of tuning steps.\n",
            "There were 1372 divergences after tuning. Increase `target_accept` or reparameterize.\n",
            "The acceptance probability does not match the target. It is 0.19900404762406612, but should be close to 0.8. Try to increase the number of tuning steps.\n",
            "The rhat statistic is larger than 1.4 for some parameters. The sampler did not converge.\n",
            "The estimated number of effective samples is smaller than 200 for some parameters.\n"
          ]
        },
        {
          "name": "stdout",
          "output_type": "stream",
          "text": [
            "[(19, 0), (7, 0), (28, 0), (22, 1), (19, 1), (4, 0), (12, 0), (23, 1), (4, 1), (11, 0), (6, 0), (8, 1), (21, 1), (3, 0)]\n"
          ]
        },
        {
          "data": {
            "text/html": [
              "\n",
              "    <div>\n",
              "        <style>\n",
              "            /* Turns off some styling */\n",
              "            progress {\n",
              "                /* gets rid of default border in Firefox and Opera. */\n",
              "                border: none;\n",
              "                /* Needs to be in here for Safari polyfill so background images work as expected. */\n",
              "                background-size: auto;\n",
              "            }\n",
              "            .progress-bar-interrupted, .progress-bar-interrupted::-webkit-progress-bar {\n",
              "                background: #F44336;\n",
              "            }\n",
              "        </style>\n",
              "      <progress value='2000' class='' max='2000' style='width:300px; height:20px; vertical-align: middle;'></progress>\n",
              "      100.00% [2000/2000 00:06<00:00]\n",
              "    </div>\n",
              "    "
            ],
            "text/plain": [
              "<IPython.core.display.HTML object>"
            ]
          },
          "metadata": {},
          "output_type": "display_data"
        },
        {
          "name": "stderr",
          "output_type": "stream",
          "text": [
            "/usr/local/lib/python3.7/dist-packages/ipykernel_launcher.py:14: FutureWarning: In v4.0, pm.sample will return an `arviz.InferenceData` object instead of a `MultiTrace` by default. You can pass return_inferencedata=True or return_inferencedata=False to be safe and silence this warning.\n",
            "  \n",
            "Auto-assigning NUTS sampler...\n",
            "Initializing NUTS using jitter+adapt_diag...\n",
            "Sequential sampling (2 chains in 1 job)\n",
            "NUTS: [σ, μ, μ_σ, σ_μ, μ̄_X1_rotated_, μ̄_X0_rotated_, GP_length_Scale]\n"
          ]
        },
        {
          "data": {
            "text/html": [
              "\n",
              "    <div>\n",
              "        <style>\n",
              "            /* Turns off some styling */\n",
              "            progress {\n",
              "                /* gets rid of default border in Firefox and Opera. */\n",
              "                border: none;\n",
              "                /* Needs to be in here for Safari polyfill so background images work as expected. */\n",
              "                background-size: auto;\n",
              "            }\n",
              "            .progress-bar-interrupted, .progress-bar-interrupted::-webkit-progress-bar {\n",
              "                background: #F44336;\n",
              "            }\n",
              "        </style>\n",
              "      <progress value='2000' class='' max='2000' style='width:300px; height:20px; vertical-align: middle;'></progress>\n",
              "      100.00% [2000/2000 01:29<00:00 Sampling chain 0, 224 divergences]\n",
              "    </div>\n",
              "    "
            ],
            "text/plain": [
              "<IPython.core.display.HTML object>"
            ]
          },
          "metadata": {},
          "output_type": "display_data"
        },
        {
          "data": {
            "text/html": [
              "\n",
              "    <div>\n",
              "        <style>\n",
              "            /* Turns off some styling */\n",
              "            progress {\n",
              "                /* gets rid of default border in Firefox and Opera. */\n",
              "                border: none;\n",
              "                /* Needs to be in here for Safari polyfill so background images work as expected. */\n",
              "                background-size: auto;\n",
              "            }\n",
              "            .progress-bar-interrupted, .progress-bar-interrupted::-webkit-progress-bar {\n",
              "                background: #F44336;\n",
              "            }\n",
              "        </style>\n",
              "      <progress value='2000' class='' max='2000' style='width:300px; height:20px; vertical-align: middle;'></progress>\n",
              "      100.00% [2000/2000 01:17<00:00 Sampling chain 1, 492 divergences]\n",
              "    </div>\n",
              "    "
            ],
            "text/plain": [
              "<IPython.core.display.HTML object>"
            ]
          },
          "metadata": {},
          "output_type": "display_data"
        },
        {
          "name": "stderr",
          "output_type": "stream",
          "text": [
            "Sampling 2 chains for 1_000 tune and 1_000 draw iterations (2_000 + 2_000 draws total) took 168 seconds.\n",
            "There were 224 divergences after tuning. Increase `target_accept` or reparameterize.\n",
            "There were 716 divergences after tuning. Increase `target_accept` or reparameterize.\n",
            "The acceptance probability does not match the target. It is 0.5564483772879093, but should be close to 0.8. Try to increase the number of tuning steps.\n",
            "The rhat statistic is larger than 1.2 for some parameters.\n",
            "The estimated number of effective samples is smaller than 200 for some parameters.\n"
          ]
        },
        {
          "name": "stdout",
          "output_type": "stream",
          "text": [
            "[(19, 0), (7, 0), (28, 0), (22, 1), (19, 1), (4, 0), (12, 0), (23, 1), (4, 1), (11, 0), (6, 0), (8, 1), (21, 1), (3, 0), (0, 0)]\n"
          ]
        },
        {
          "data": {
            "text/html": [
              "\n",
              "    <div>\n",
              "        <style>\n",
              "            /* Turns off some styling */\n",
              "            progress {\n",
              "                /* gets rid of default border in Firefox and Opera. */\n",
              "                border: none;\n",
              "                /* Needs to be in here for Safari polyfill so background images work as expected. */\n",
              "                background-size: auto;\n",
              "            }\n",
              "            .progress-bar-interrupted, .progress-bar-interrupted::-webkit-progress-bar {\n",
              "                background: #F44336;\n",
              "            }\n",
              "        </style>\n",
              "      <progress value='2000' class='' max='2000' style='width:300px; height:20px; vertical-align: middle;'></progress>\n",
              "      100.00% [2000/2000 00:06<00:00]\n",
              "    </div>\n",
              "    "
            ],
            "text/plain": [
              "<IPython.core.display.HTML object>"
            ]
          },
          "metadata": {},
          "output_type": "display_data"
        },
        {
          "name": "stderr",
          "output_type": "stream",
          "text": [
            "/usr/local/lib/python3.7/dist-packages/ipykernel_launcher.py:14: FutureWarning: In v4.0, pm.sample will return an `arviz.InferenceData` object instead of a `MultiTrace` by default. You can pass return_inferencedata=True or return_inferencedata=False to be safe and silence this warning.\n",
            "  \n",
            "Auto-assigning NUTS sampler...\n",
            "Initializing NUTS using jitter+adapt_diag...\n",
            "Sequential sampling (2 chains in 1 job)\n",
            "NUTS: [σ, μ, μ_σ, σ_μ, μ̄_X1_rotated_, μ̄_X0_rotated_, GP_length_Scale]\n"
          ]
        },
        {
          "data": {
            "text/html": [
              "\n",
              "    <div>\n",
              "        <style>\n",
              "            /* Turns off some styling */\n",
              "            progress {\n",
              "                /* gets rid of default border in Firefox and Opera. */\n",
              "                border: none;\n",
              "                /* Needs to be in here for Safari polyfill so background images work as expected. */\n",
              "                background-size: auto;\n",
              "            }\n",
              "            .progress-bar-interrupted, .progress-bar-interrupted::-webkit-progress-bar {\n",
              "                background: #F44336;\n",
              "            }\n",
              "        </style>\n",
              "      <progress value='2000' class='' max='2000' style='width:300px; height:20px; vertical-align: middle;'></progress>\n",
              "      100.00% [2000/2000 01:25<00:00 Sampling chain 0, 200 divergences]\n",
              "    </div>\n",
              "    "
            ],
            "text/plain": [
              "<IPython.core.display.HTML object>"
            ]
          },
          "metadata": {},
          "output_type": "display_data"
        },
        {
          "data": {
            "text/html": [
              "\n",
              "    <div>\n",
              "        <style>\n",
              "            /* Turns off some styling */\n",
              "            progress {\n",
              "                /* gets rid of default border in Firefox and Opera. */\n",
              "                border: none;\n",
              "                /* Needs to be in here for Safari polyfill so background images work as expected. */\n",
              "                background-size: auto;\n",
              "            }\n",
              "            .progress-bar-interrupted, .progress-bar-interrupted::-webkit-progress-bar {\n",
              "                background: #F44336;\n",
              "            }\n",
              "        </style>\n",
              "      <progress value='2000' class='' max='2000' style='width:300px; height:20px; vertical-align: middle;'></progress>\n",
              "      100.00% [2000/2000 01:30<00:00 Sampling chain 1, 233 divergences]\n",
              "    </div>\n",
              "    "
            ],
            "text/plain": [
              "<IPython.core.display.HTML object>"
            ]
          },
          "metadata": {},
          "output_type": "display_data"
        },
        {
          "name": "stderr",
          "output_type": "stream",
          "text": [
            "Sampling 2 chains for 1_000 tune and 1_000 draw iterations (2_000 + 2_000 draws total) took 175 seconds.\n",
            "There were 200 divergences after tuning. Increase `target_accept` or reparameterize.\n",
            "There were 433 divergences after tuning. Increase `target_accept` or reparameterize.\n",
            "The rhat statistic is larger than 1.05 for some parameters. This indicates slight problems during sampling.\n",
            "The estimated number of effective samples is smaller than 200 for some parameters.\n"
          ]
        },
        {
          "name": "stdout",
          "output_type": "stream",
          "text": [
            "[(19, 0), (7, 0), (28, 0), (22, 1), (19, 1), (4, 0), (12, 0), (23, 1), (4, 1), (11, 0), (6, 0), (8, 1), (21, 1), (3, 0), (0, 0), (2, 1)]\n"
          ]
        },
        {
          "data": {
            "text/html": [
              "\n",
              "    <div>\n",
              "        <style>\n",
              "            /* Turns off some styling */\n",
              "            progress {\n",
              "                /* gets rid of default border in Firefox and Opera. */\n",
              "                border: none;\n",
              "                /* Needs to be in here for Safari polyfill so background images work as expected. */\n",
              "                background-size: auto;\n",
              "            }\n",
              "            .progress-bar-interrupted, .progress-bar-interrupted::-webkit-progress-bar {\n",
              "                background: #F44336;\n",
              "            }\n",
              "        </style>\n",
              "      <progress value='2000' class='' max='2000' style='width:300px; height:20px; vertical-align: middle;'></progress>\n",
              "      100.00% [2000/2000 00:06<00:00]\n",
              "    </div>\n",
              "    "
            ],
            "text/plain": [
              "<IPython.core.display.HTML object>"
            ]
          },
          "metadata": {},
          "output_type": "display_data"
        },
        {
          "name": "stderr",
          "output_type": "stream",
          "text": [
            "/usr/local/lib/python3.7/dist-packages/ipykernel_launcher.py:14: FutureWarning: In v4.0, pm.sample will return an `arviz.InferenceData` object instead of a `MultiTrace` by default. You can pass return_inferencedata=True or return_inferencedata=False to be safe and silence this warning.\n",
            "  \n",
            "Auto-assigning NUTS sampler...\n",
            "Initializing NUTS using jitter+adapt_diag...\n",
            "Sequential sampling (2 chains in 1 job)\n",
            "NUTS: [σ, μ, μ_σ, σ_μ, μ̄_X1_rotated_, μ̄_X0_rotated_, GP_length_Scale]\n"
          ]
        },
        {
          "data": {
            "text/html": [
              "\n",
              "    <div>\n",
              "        <style>\n",
              "            /* Turns off some styling */\n",
              "            progress {\n",
              "                /* gets rid of default border in Firefox and Opera. */\n",
              "                border: none;\n",
              "                /* Needs to be in here for Safari polyfill so background images work as expected. */\n",
              "                background-size: auto;\n",
              "            }\n",
              "            .progress-bar-interrupted, .progress-bar-interrupted::-webkit-progress-bar {\n",
              "                background: #F44336;\n",
              "            }\n",
              "        </style>\n",
              "      <progress value='2000' class='' max='2000' style='width:300px; height:20px; vertical-align: middle;'></progress>\n",
              "      100.00% [2000/2000 01:46<00:00 Sampling chain 0, 183 divergences]\n",
              "    </div>\n",
              "    "
            ],
            "text/plain": [
              "<IPython.core.display.HTML object>"
            ]
          },
          "metadata": {},
          "output_type": "display_data"
        },
        {
          "data": {
            "text/html": [
              "\n",
              "    <div>\n",
              "        <style>\n",
              "            /* Turns off some styling */\n",
              "            progress {\n",
              "                /* gets rid of default border in Firefox and Opera. */\n",
              "                border: none;\n",
              "                /* Needs to be in here for Safari polyfill so background images work as expected. */\n",
              "                background-size: auto;\n",
              "            }\n",
              "            .progress-bar-interrupted, .progress-bar-interrupted::-webkit-progress-bar {\n",
              "                background: #F44336;\n",
              "            }\n",
              "        </style>\n",
              "      <progress value='2000' class='' max='2000' style='width:300px; height:20px; vertical-align: middle;'></progress>\n",
              "      100.00% [2000/2000 01:12<00:00 Sampling chain 1, 351 divergences]\n",
              "    </div>\n",
              "    "
            ],
            "text/plain": [
              "<IPython.core.display.HTML object>"
            ]
          },
          "metadata": {},
          "output_type": "display_data"
        },
        {
          "name": "stderr",
          "output_type": "stream",
          "text": [
            "Sampling 2 chains for 1_000 tune and 1_000 draw iterations (2_000 + 2_000 draws total) took 179 seconds.\n",
            "There were 183 divergences after tuning. Increase `target_accept` or reparameterize.\n",
            "There were 534 divergences after tuning. Increase `target_accept` or reparameterize.\n",
            "The acceptance probability does not match the target. It is 0.66578974293391, but should be close to 0.8. Try to increase the number of tuning steps.\n",
            "The rhat statistic is larger than 1.05 for some parameters. This indicates slight problems during sampling.\n",
            "The estimated number of effective samples is smaller than 200 for some parameters.\n"
          ]
        },
        {
          "name": "stdout",
          "output_type": "stream",
          "text": [
            "[(19, 0), (7, 0), (28, 0), (22, 1), (19, 1), (4, 0), (12, 0), (23, 1), (4, 1), (11, 0), (6, 0), (8, 1), (21, 1), (3, 0), (0, 0), (2, 1), (8, 0)]\n"
          ]
        },
        {
          "data": {
            "text/html": [
              "\n",
              "    <div>\n",
              "        <style>\n",
              "            /* Turns off some styling */\n",
              "            progress {\n",
              "                /* gets rid of default border in Firefox and Opera. */\n",
              "                border: none;\n",
              "                /* Needs to be in here for Safari polyfill so background images work as expected. */\n",
              "                background-size: auto;\n",
              "            }\n",
              "            .progress-bar-interrupted, .progress-bar-interrupted::-webkit-progress-bar {\n",
              "                background: #F44336;\n",
              "            }\n",
              "        </style>\n",
              "      <progress value='2000' class='' max='2000' style='width:300px; height:20px; vertical-align: middle;'></progress>\n",
              "      100.00% [2000/2000 00:06<00:00]\n",
              "    </div>\n",
              "    "
            ],
            "text/plain": [
              "<IPython.core.display.HTML object>"
            ]
          },
          "metadata": {},
          "output_type": "display_data"
        },
        {
          "name": "stderr",
          "output_type": "stream",
          "text": [
            "/usr/local/lib/python3.7/dist-packages/ipykernel_launcher.py:14: FutureWarning: In v4.0, pm.sample will return an `arviz.InferenceData` object instead of a `MultiTrace` by default. You can pass return_inferencedata=True or return_inferencedata=False to be safe and silence this warning.\n",
            "  \n",
            "Auto-assigning NUTS sampler...\n",
            "Initializing NUTS using jitter+adapt_diag...\n",
            "Sequential sampling (2 chains in 1 job)\n",
            "NUTS: [σ, μ, μ_σ, σ_μ, μ̄_X1_rotated_, μ̄_X0_rotated_, GP_length_Scale]\n"
          ]
        },
        {
          "data": {
            "text/html": [
              "\n",
              "    <div>\n",
              "        <style>\n",
              "            /* Turns off some styling */\n",
              "            progress {\n",
              "                /* gets rid of default border in Firefox and Opera. */\n",
              "                border: none;\n",
              "                /* Needs to be in here for Safari polyfill so background images work as expected. */\n",
              "                background-size: auto;\n",
              "            }\n",
              "            .progress-bar-interrupted, .progress-bar-interrupted::-webkit-progress-bar {\n",
              "                background: #F44336;\n",
              "            }\n",
              "        </style>\n",
              "      <progress value='2000' class='' max='2000' style='width:300px; height:20px; vertical-align: middle;'></progress>\n",
              "      100.00% [2000/2000 01:04<00:00 Sampling chain 0, 330 divergences]\n",
              "    </div>\n",
              "    "
            ],
            "text/plain": [
              "<IPython.core.display.HTML object>"
            ]
          },
          "metadata": {},
          "output_type": "display_data"
        },
        {
          "data": {
            "text/html": [
              "\n",
              "    <div>\n",
              "        <style>\n",
              "            /* Turns off some styling */\n",
              "            progress {\n",
              "                /* gets rid of default border in Firefox and Opera. */\n",
              "                border: none;\n",
              "                /* Needs to be in here for Safari polyfill so background images work as expected. */\n",
              "                background-size: auto;\n",
              "            }\n",
              "            .progress-bar-interrupted, .progress-bar-interrupted::-webkit-progress-bar {\n",
              "                background: #F44336;\n",
              "            }\n",
              "        </style>\n",
              "      <progress value='2000' class='' max='2000' style='width:300px; height:20px; vertical-align: middle;'></progress>\n",
              "      100.00% [2000/2000 01:24<00:00 Sampling chain 1, 294 divergences]\n",
              "    </div>\n",
              "    "
            ],
            "text/plain": [
              "<IPython.core.display.HTML object>"
            ]
          },
          "metadata": {},
          "output_type": "display_data"
        },
        {
          "name": "stderr",
          "output_type": "stream",
          "text": [
            "Sampling 2 chains for 1_000 tune and 1_000 draw iterations (2_000 + 2_000 draws total) took 149 seconds.\n",
            "There were 330 divergences after tuning. Increase `target_accept` or reparameterize.\n",
            "The acceptance probability does not match the target. It is 0.6263308260999155, but should be close to 0.8. Try to increase the number of tuning steps.\n",
            "There were 624 divergences after tuning. Increase `target_accept` or reparameterize.\n",
            "The acceptance probability does not match the target. It is 0.719478680455813, but should be close to 0.8. Try to increase the number of tuning steps.\n",
            "The rhat statistic is larger than 1.05 for some parameters. This indicates slight problems during sampling.\n",
            "The estimated number of effective samples is smaller than 200 for some parameters.\n"
          ]
        },
        {
          "name": "stdout",
          "output_type": "stream",
          "text": [
            "[(19, 0), (7, 0), (28, 0), (22, 1), (19, 1), (4, 0), (12, 0), (23, 1), (4, 1), (11, 0), (6, 0), (8, 1), (21, 1), (3, 0), (0, 0), (2, 1), (8, 0), (3, 1)]\n"
          ]
        },
        {
          "data": {
            "text/html": [
              "\n",
              "    <div>\n",
              "        <style>\n",
              "            /* Turns off some styling */\n",
              "            progress {\n",
              "                /* gets rid of default border in Firefox and Opera. */\n",
              "                border: none;\n",
              "                /* Needs to be in here for Safari polyfill so background images work as expected. */\n",
              "                background-size: auto;\n",
              "            }\n",
              "            .progress-bar-interrupted, .progress-bar-interrupted::-webkit-progress-bar {\n",
              "                background: #F44336;\n",
              "            }\n",
              "        </style>\n",
              "      <progress value='2000' class='' max='2000' style='width:300px; height:20px; vertical-align: middle;'></progress>\n",
              "      100.00% [2000/2000 00:06<00:00]\n",
              "    </div>\n",
              "    "
            ],
            "text/plain": [
              "<IPython.core.display.HTML object>"
            ]
          },
          "metadata": {},
          "output_type": "display_data"
        },
        {
          "name": "stderr",
          "output_type": "stream",
          "text": [
            "/usr/local/lib/python3.7/dist-packages/ipykernel_launcher.py:14: FutureWarning: In v4.0, pm.sample will return an `arviz.InferenceData` object instead of a `MultiTrace` by default. You can pass return_inferencedata=True or return_inferencedata=False to be safe and silence this warning.\n",
            "  \n",
            "Auto-assigning NUTS sampler...\n",
            "Initializing NUTS using jitter+adapt_diag...\n",
            "Sequential sampling (2 chains in 1 job)\n",
            "NUTS: [σ, μ, μ_σ, σ_μ, μ̄_X1_rotated_, μ̄_X0_rotated_, GP_length_Scale]\n"
          ]
        },
        {
          "data": {
            "text/html": [
              "\n",
              "    <div>\n",
              "        <style>\n",
              "            /* Turns off some styling */\n",
              "            progress {\n",
              "                /* gets rid of default border in Firefox and Opera. */\n",
              "                border: none;\n",
              "                /* Needs to be in here for Safari polyfill so background images work as expected. */\n",
              "                background-size: auto;\n",
              "            }\n",
              "            .progress-bar-interrupted, .progress-bar-interrupted::-webkit-progress-bar {\n",
              "                background: #F44336;\n",
              "            }\n",
              "        </style>\n",
              "      <progress value='2000' class='' max='2000' style='width:300px; height:20px; vertical-align: middle;'></progress>\n",
              "      100.00% [2000/2000 01:04<00:00 Sampling chain 0, 502 divergences]\n",
              "    </div>\n",
              "    "
            ],
            "text/plain": [
              "<IPython.core.display.HTML object>"
            ]
          },
          "metadata": {},
          "output_type": "display_data"
        },
        {
          "data": {
            "text/html": [
              "\n",
              "    <div>\n",
              "        <style>\n",
              "            /* Turns off some styling */\n",
              "            progress {\n",
              "                /* gets rid of default border in Firefox and Opera. */\n",
              "                border: none;\n",
              "                /* Needs to be in here for Safari polyfill so background images work as expected. */\n",
              "                background-size: auto;\n",
              "            }\n",
              "            .progress-bar-interrupted, .progress-bar-interrupted::-webkit-progress-bar {\n",
              "                background: #F44336;\n",
              "            }\n",
              "        </style>\n",
              "      <progress value='2000' class='' max='2000' style='width:300px; height:20px; vertical-align: middle;'></progress>\n",
              "      100.00% [2000/2000 01:31<00:00 Sampling chain 1, 272 divergences]\n",
              "    </div>\n",
              "    "
            ],
            "text/plain": [
              "<IPython.core.display.HTML object>"
            ]
          },
          "metadata": {},
          "output_type": "display_data"
        },
        {
          "name": "stderr",
          "output_type": "stream",
          "text": [
            "Sampling 2 chains for 1_000 tune and 1_000 draw iterations (2_000 + 2_000 draws total) took 156 seconds.\n",
            "There were 503 divergences after tuning. Increase `target_accept` or reparameterize.\n",
            "The acceptance probability does not match the target. It is 0.5458129473787888, but should be close to 0.8. Try to increase the number of tuning steps.\n",
            "There were 775 divergences after tuning. Increase `target_accept` or reparameterize.\n",
            "The rhat statistic is larger than 1.05 for some parameters. This indicates slight problems during sampling.\n",
            "The estimated number of effective samples is smaller than 200 for some parameters.\n"
          ]
        },
        {
          "name": "stdout",
          "output_type": "stream",
          "text": [
            "[(19, 0), (7, 0), (28, 0), (22, 1), (19, 1), (4, 0), (12, 0), (23, 1), (4, 1), (11, 0), (6, 0), (8, 1), (21, 1), (3, 0), (0, 0), (2, 1), (8, 0), (3, 1), (9, 1)]\n"
          ]
        },
        {
          "data": {
            "text/html": [
              "\n",
              "    <div>\n",
              "        <style>\n",
              "            /* Turns off some styling */\n",
              "            progress {\n",
              "                /* gets rid of default border in Firefox and Opera. */\n",
              "                border: none;\n",
              "                /* Needs to be in here for Safari polyfill so background images work as expected. */\n",
              "                background-size: auto;\n",
              "            }\n",
              "            .progress-bar-interrupted, .progress-bar-interrupted::-webkit-progress-bar {\n",
              "                background: #F44336;\n",
              "            }\n",
              "        </style>\n",
              "      <progress value='2000' class='' max='2000' style='width:300px; height:20px; vertical-align: middle;'></progress>\n",
              "      100.00% [2000/2000 00:06<00:00]\n",
              "    </div>\n",
              "    "
            ],
            "text/plain": [
              "<IPython.core.display.HTML object>"
            ]
          },
          "metadata": {},
          "output_type": "display_data"
        },
        {
          "name": "stderr",
          "output_type": "stream",
          "text": [
            "/usr/local/lib/python3.7/dist-packages/ipykernel_launcher.py:14: FutureWarning: In v4.0, pm.sample will return an `arviz.InferenceData` object instead of a `MultiTrace` by default. You can pass return_inferencedata=True or return_inferencedata=False to be safe and silence this warning.\n",
            "  \n",
            "Auto-assigning NUTS sampler...\n",
            "Initializing NUTS using jitter+adapt_diag...\n",
            "Sequential sampling (2 chains in 1 job)\n",
            "NUTS: [σ, μ, μ_σ, σ_μ, μ̄_X1_rotated_, μ̄_X0_rotated_, GP_length_Scale]\n"
          ]
        },
        {
          "data": {
            "text/html": [
              "\n",
              "    <div>\n",
              "        <style>\n",
              "            /* Turns off some styling */\n",
              "            progress {\n",
              "                /* gets rid of default border in Firefox and Opera. */\n",
              "                border: none;\n",
              "                /* Needs to be in here for Safari polyfill so background images work as expected. */\n",
              "                background-size: auto;\n",
              "            }\n",
              "            .progress-bar-interrupted, .progress-bar-interrupted::-webkit-progress-bar {\n",
              "                background: #F44336;\n",
              "            }\n",
              "        </style>\n",
              "      <progress value='2000' class='' max='2000' style='width:300px; height:20px; vertical-align: middle;'></progress>\n",
              "      100.00% [2000/2000 00:59<00:00 Sampling chain 0, 859 divergences]\n",
              "    </div>\n",
              "    "
            ],
            "text/plain": [
              "<IPython.core.display.HTML object>"
            ]
          },
          "metadata": {},
          "output_type": "display_data"
        },
        {
          "data": {
            "text/html": [
              "\n",
              "    <div>\n",
              "        <style>\n",
              "            /* Turns off some styling */\n",
              "            progress {\n",
              "                /* gets rid of default border in Firefox and Opera. */\n",
              "                border: none;\n",
              "                /* Needs to be in here for Safari polyfill so background images work as expected. */\n",
              "                background-size: auto;\n",
              "            }\n",
              "            .progress-bar-interrupted, .progress-bar-interrupted::-webkit-progress-bar {\n",
              "                background: #F44336;\n",
              "            }\n",
              "        </style>\n",
              "      <progress value='2000' class='' max='2000' style='width:300px; height:20px; vertical-align: middle;'></progress>\n",
              "      100.00% [2000/2000 01:38<00:00 Sampling chain 1, 205 divergences]\n",
              "    </div>\n",
              "    "
            ],
            "text/plain": [
              "<IPython.core.display.HTML object>"
            ]
          },
          "metadata": {},
          "output_type": "display_data"
        },
        {
          "name": "stderr",
          "output_type": "stream",
          "text": [
            "Sampling 2 chains for 1_000 tune and 1_000 draw iterations (2_000 + 2_000 draws total) took 158 seconds.\n",
            "There were 860 divergences after tuning. Increase `target_accept` or reparameterize.\n",
            "The acceptance probability does not match the target. It is 0.29313976766257965, but should be close to 0.8. Try to increase the number of tuning steps.\n",
            "There were 1065 divergences after tuning. Increase `target_accept` or reparameterize.\n",
            "The rhat statistic is larger than 1.4 for some parameters. The sampler did not converge.\n",
            "The estimated number of effective samples is smaller than 200 for some parameters.\n"
          ]
        },
        {
          "name": "stdout",
          "output_type": "stream",
          "text": [
            "[(19, 0), (7, 0), (28, 0), (22, 1), (19, 1), (4, 0), (12, 0), (23, 1), (4, 1), (11, 0), (6, 0), (8, 1), (21, 1), (3, 0), (0, 0), (2, 1), (8, 0), (3, 1), (9, 1), (20, 0)]\n"
          ]
        },
        {
          "data": {
            "text/html": [
              "\n",
              "    <div>\n",
              "        <style>\n",
              "            /* Turns off some styling */\n",
              "            progress {\n",
              "                /* gets rid of default border in Firefox and Opera. */\n",
              "                border: none;\n",
              "                /* Needs to be in here for Safari polyfill so background images work as expected. */\n",
              "                background-size: auto;\n",
              "            }\n",
              "            .progress-bar-interrupted, .progress-bar-interrupted::-webkit-progress-bar {\n",
              "                background: #F44336;\n",
              "            }\n",
              "        </style>\n",
              "      <progress value='2000' class='' max='2000' style='width:300px; height:20px; vertical-align: middle;'></progress>\n",
              "      100.00% [2000/2000 00:06<00:00]\n",
              "    </div>\n",
              "    "
            ],
            "text/plain": [
              "<IPython.core.display.HTML object>"
            ]
          },
          "metadata": {},
          "output_type": "display_data"
        },
        {
          "name": "stderr",
          "output_type": "stream",
          "text": [
            "/usr/local/lib/python3.7/dist-packages/ipykernel_launcher.py:14: FutureWarning: In v4.0, pm.sample will return an `arviz.InferenceData` object instead of a `MultiTrace` by default. You can pass return_inferencedata=True or return_inferencedata=False to be safe and silence this warning.\n",
            "  \n",
            "Auto-assigning NUTS sampler...\n",
            "Initializing NUTS using jitter+adapt_diag...\n",
            "Sequential sampling (2 chains in 1 job)\n",
            "NUTS: [σ, μ, μ_σ, σ_μ, μ̄_X1_rotated_, μ̄_X0_rotated_, GP_length_Scale]\n"
          ]
        },
        {
          "data": {
            "text/html": [
              "\n",
              "    <div>\n",
              "        <style>\n",
              "            /* Turns off some styling */\n",
              "            progress {\n",
              "                /* gets rid of default border in Firefox and Opera. */\n",
              "                border: none;\n",
              "                /* Needs to be in here for Safari polyfill so background images work as expected. */\n",
              "                background-size: auto;\n",
              "            }\n",
              "            .progress-bar-interrupted, .progress-bar-interrupted::-webkit-progress-bar {\n",
              "                background: #F44336;\n",
              "            }\n",
              "        </style>\n",
              "      <progress value='2000' class='' max='2000' style='width:300px; height:20px; vertical-align: middle;'></progress>\n",
              "      100.00% [2000/2000 01:54<00:00 Sampling chain 0, 133 divergences]\n",
              "    </div>\n",
              "    "
            ],
            "text/plain": [
              "<IPython.core.display.HTML object>"
            ]
          },
          "metadata": {},
          "output_type": "display_data"
        },
        {
          "data": {
            "text/html": [
              "\n",
              "    <div>\n",
              "        <style>\n",
              "            /* Turns off some styling */\n",
              "            progress {\n",
              "                /* gets rid of default border in Firefox and Opera. */\n",
              "                border: none;\n",
              "                /* Needs to be in here for Safari polyfill so background images work as expected. */\n",
              "                background-size: auto;\n",
              "            }\n",
              "            .progress-bar-interrupted, .progress-bar-interrupted::-webkit-progress-bar {\n",
              "                background: #F44336;\n",
              "            }\n",
              "        </style>\n",
              "      <progress value='2000' class='' max='2000' style='width:300px; height:20px; vertical-align: middle;'></progress>\n",
              "      100.00% [2000/2000 01:38<00:00 Sampling chain 1, 320 divergences]\n",
              "    </div>\n",
              "    "
            ],
            "text/plain": [
              "<IPython.core.display.HTML object>"
            ]
          },
          "metadata": {},
          "output_type": "display_data"
        },
        {
          "name": "stderr",
          "output_type": "stream",
          "text": [
            "Sampling 2 chains for 1_000 tune and 1_000 draw iterations (2_000 + 2_000 draws total) took 214 seconds.\n",
            "There were 133 divergences after tuning. Increase `target_accept` or reparameterize.\n",
            "There were 453 divergences after tuning. Increase `target_accept` or reparameterize.\n",
            "The acceptance probability does not match the target. It is 0.6864556270866298, but should be close to 0.8. Try to increase the number of tuning steps.\n",
            "The rhat statistic is larger than 1.05 for some parameters. This indicates slight problems during sampling.\n",
            "The estimated number of effective samples is smaller than 200 for some parameters.\n"
          ]
        },
        {
          "name": "stdout",
          "output_type": "stream",
          "text": [
            "[(19, 0), (7, 0), (28, 0), (22, 1), (19, 1), (4, 0), (12, 0), (23, 1), (4, 1), (11, 0), (6, 0), (8, 1), (21, 1), (3, 0), (0, 0), (2, 1), (8, 0), (3, 1), (9, 1), (20, 0), (21, 0)]\n"
          ]
        },
        {
          "data": {
            "text/html": [
              "\n",
              "    <div>\n",
              "        <style>\n",
              "            /* Turns off some styling */\n",
              "            progress {\n",
              "                /* gets rid of default border in Firefox and Opera. */\n",
              "                border: none;\n",
              "                /* Needs to be in here for Safari polyfill so background images work as expected. */\n",
              "                background-size: auto;\n",
              "            }\n",
              "            .progress-bar-interrupted, .progress-bar-interrupted::-webkit-progress-bar {\n",
              "                background: #F44336;\n",
              "            }\n",
              "        </style>\n",
              "      <progress value='2000' class='' max='2000' style='width:300px; height:20px; vertical-align: middle;'></progress>\n",
              "      100.00% [2000/2000 00:06<00:00]\n",
              "    </div>\n",
              "    "
            ],
            "text/plain": [
              "<IPython.core.display.HTML object>"
            ]
          },
          "metadata": {},
          "output_type": "display_data"
        },
        {
          "name": "stderr",
          "output_type": "stream",
          "text": [
            "/usr/local/lib/python3.7/dist-packages/ipykernel_launcher.py:14: FutureWarning: In v4.0, pm.sample will return an `arviz.InferenceData` object instead of a `MultiTrace` by default. You can pass return_inferencedata=True or return_inferencedata=False to be safe and silence this warning.\n",
            "  \n",
            "Auto-assigning NUTS sampler...\n",
            "Initializing NUTS using jitter+adapt_diag...\n",
            "Sequential sampling (2 chains in 1 job)\n",
            "NUTS: [σ, μ, μ_σ, σ_μ, μ̄_X1_rotated_, μ̄_X0_rotated_, GP_length_Scale]\n"
          ]
        },
        {
          "data": {
            "text/html": [
              "\n",
              "    <div>\n",
              "        <style>\n",
              "            /* Turns off some styling */\n",
              "            progress {\n",
              "                /* gets rid of default border in Firefox and Opera. */\n",
              "                border: none;\n",
              "                /* Needs to be in here for Safari polyfill so background images work as expected. */\n",
              "                background-size: auto;\n",
              "            }\n",
              "            .progress-bar-interrupted, .progress-bar-interrupted::-webkit-progress-bar {\n",
              "                background: #F44336;\n",
              "            }\n",
              "        </style>\n",
              "      <progress value='2000' class='' max='2000' style='width:300px; height:20px; vertical-align: middle;'></progress>\n",
              "      100.00% [2000/2000 01:06<00:00 Sampling chain 0, 774 divergences]\n",
              "    </div>\n",
              "    "
            ],
            "text/plain": [
              "<IPython.core.display.HTML object>"
            ]
          },
          "metadata": {},
          "output_type": "display_data"
        },
        {
          "data": {
            "text/html": [
              "\n",
              "    <div>\n",
              "        <style>\n",
              "            /* Turns off some styling */\n",
              "            progress {\n",
              "                /* gets rid of default border in Firefox and Opera. */\n",
              "                border: none;\n",
              "                /* Needs to be in here for Safari polyfill so background images work as expected. */\n",
              "                background-size: auto;\n",
              "            }\n",
              "            .progress-bar-interrupted, .progress-bar-interrupted::-webkit-progress-bar {\n",
              "                background: #F44336;\n",
              "            }\n",
              "        </style>\n",
              "      <progress value='2000' class='' max='2000' style='width:300px; height:20px; vertical-align: middle;'></progress>\n",
              "      100.00% [2000/2000 01:04<00:00 Sampling chain 1, 325 divergences]\n",
              "    </div>\n",
              "    "
            ],
            "text/plain": [
              "<IPython.core.display.HTML object>"
            ]
          },
          "metadata": {},
          "output_type": "display_data"
        },
        {
          "name": "stderr",
          "output_type": "stream",
          "text": [
            "Sampling 2 chains for 1_000 tune and 1_000 draw iterations (2_000 + 2_000 draws total) took 131 seconds.\n",
            "There were 774 divergences after tuning. Increase `target_accept` or reparameterize.\n",
            "The acceptance probability does not match the target. It is 0.2902829273541944, but should be close to 0.8. Try to increase the number of tuning steps.\n",
            "There were 1100 divergences after tuning. Increase `target_accept` or reparameterize.\n",
            "The acceptance probability does not match the target. It is 0.6228623055726096, but should be close to 0.8. Try to increase the number of tuning steps.\n",
            "The rhat statistic is larger than 1.4 for some parameters. The sampler did not converge.\n",
            "The estimated number of effective samples is smaller than 200 for some parameters.\n"
          ]
        },
        {
          "name": "stdout",
          "output_type": "stream",
          "text": [
            "[(19, 0), (7, 0), (28, 0), (22, 1), (19, 1), (4, 0), (12, 0), (23, 1), (4, 1), (11, 0), (6, 0), (8, 1), (21, 1), (3, 0), (0, 0), (2, 1), (8, 0), (3, 1), (9, 1), (20, 0), (21, 0), (18, 1)]\n"
          ]
        },
        {
          "data": {
            "text/html": [
              "\n",
              "    <div>\n",
              "        <style>\n",
              "            /* Turns off some styling */\n",
              "            progress {\n",
              "                /* gets rid of default border in Firefox and Opera. */\n",
              "                border: none;\n",
              "                /* Needs to be in here for Safari polyfill so background images work as expected. */\n",
              "                background-size: auto;\n",
              "            }\n",
              "            .progress-bar-interrupted, .progress-bar-interrupted::-webkit-progress-bar {\n",
              "                background: #F44336;\n",
              "            }\n",
              "        </style>\n",
              "      <progress value='2000' class='' max='2000' style='width:300px; height:20px; vertical-align: middle;'></progress>\n",
              "      100.00% [2000/2000 00:06<00:00]\n",
              "    </div>\n",
              "    "
            ],
            "text/plain": [
              "<IPython.core.display.HTML object>"
            ]
          },
          "metadata": {},
          "output_type": "display_data"
        },
        {
          "name": "stderr",
          "output_type": "stream",
          "text": [
            "/usr/local/lib/python3.7/dist-packages/ipykernel_launcher.py:14: FutureWarning: In v4.0, pm.sample will return an `arviz.InferenceData` object instead of a `MultiTrace` by default. You can pass return_inferencedata=True or return_inferencedata=False to be safe and silence this warning.\n",
            "  \n",
            "Auto-assigning NUTS sampler...\n",
            "Initializing NUTS using jitter+adapt_diag...\n",
            "Sequential sampling (2 chains in 1 job)\n",
            "NUTS: [σ, μ, μ_σ, σ_μ, μ̄_X1_rotated_, μ̄_X0_rotated_, GP_length_Scale]\n"
          ]
        },
        {
          "data": {
            "text/html": [
              "\n",
              "    <div>\n",
              "        <style>\n",
              "            /* Turns off some styling */\n",
              "            progress {\n",
              "                /* gets rid of default border in Firefox and Opera. */\n",
              "                border: none;\n",
              "                /* Needs to be in here for Safari polyfill so background images work as expected. */\n",
              "                background-size: auto;\n",
              "            }\n",
              "            .progress-bar-interrupted, .progress-bar-interrupted::-webkit-progress-bar {\n",
              "                background: #F44336;\n",
              "            }\n",
              "        </style>\n",
              "      <progress value='2000' class='' max='2000' style='width:300px; height:20px; vertical-align: middle;'></progress>\n",
              "      100.00% [2000/2000 01:37<00:00 Sampling chain 0, 304 divergences]\n",
              "    </div>\n",
              "    "
            ],
            "text/plain": [
              "<IPython.core.display.HTML object>"
            ]
          },
          "metadata": {},
          "output_type": "display_data"
        },
        {
          "data": {
            "text/html": [
              "\n",
              "    <div>\n",
              "        <style>\n",
              "            /* Turns off some styling */\n",
              "            progress {\n",
              "                /* gets rid of default border in Firefox and Opera. */\n",
              "                border: none;\n",
              "                /* Needs to be in here for Safari polyfill so background images work as expected. */\n",
              "                background-size: auto;\n",
              "            }\n",
              "            .progress-bar-interrupted, .progress-bar-interrupted::-webkit-progress-bar {\n",
              "                background: #F44336;\n",
              "            }\n",
              "        </style>\n",
              "      <progress value='2000' class='' max='2000' style='width:300px; height:20px; vertical-align: middle;'></progress>\n",
              "      100.00% [2000/2000 01:15<00:00 Sampling chain 1, 404 divergences]\n",
              "    </div>\n",
              "    "
            ],
            "text/plain": [
              "<IPython.core.display.HTML object>"
            ]
          },
          "metadata": {},
          "output_type": "display_data"
        },
        {
          "name": "stderr",
          "output_type": "stream",
          "text": [
            "Sampling 2 chains for 1_000 tune and 1_000 draw iterations (2_000 + 2_000 draws total) took 173 seconds.\n",
            "There were 304 divergences after tuning. Increase `target_accept` or reparameterize.\n",
            "The acceptance probability does not match the target. It is 0.6925866139287198, but should be close to 0.8. Try to increase the number of tuning steps.\n",
            "There were 709 divergences after tuning. Increase `target_accept` or reparameterize.\n",
            "The acceptance probability does not match the target. It is 0.6223474533903242, but should be close to 0.8. Try to increase the number of tuning steps.\n",
            "The rhat statistic is larger than 1.05 for some parameters. This indicates slight problems during sampling.\n",
            "The estimated number of effective samples is smaller than 200 for some parameters.\n"
          ]
        },
        {
          "name": "stdout",
          "output_type": "stream",
          "text": [
            "[(19, 0), (7, 0), (28, 0), (22, 1), (19, 1), (4, 0), (12, 0), (23, 1), (4, 1), (11, 0), (6, 0), (8, 1), (21, 1), (3, 0), (0, 0), (2, 1), (8, 0), (3, 1), (9, 1), (20, 0), (21, 0), (18, 1), (2, 0)]\n"
          ]
        },
        {
          "data": {
            "text/html": [
              "\n",
              "    <div>\n",
              "        <style>\n",
              "            /* Turns off some styling */\n",
              "            progress {\n",
              "                /* gets rid of default border in Firefox and Opera. */\n",
              "                border: none;\n",
              "                /* Needs to be in here for Safari polyfill so background images work as expected. */\n",
              "                background-size: auto;\n",
              "            }\n",
              "            .progress-bar-interrupted, .progress-bar-interrupted::-webkit-progress-bar {\n",
              "                background: #F44336;\n",
              "            }\n",
              "        </style>\n",
              "      <progress value='2000' class='' max='2000' style='width:300px; height:20px; vertical-align: middle;'></progress>\n",
              "      100.00% [2000/2000 00:06<00:00]\n",
              "    </div>\n",
              "    "
            ],
            "text/plain": [
              "<IPython.core.display.HTML object>"
            ]
          },
          "metadata": {},
          "output_type": "display_data"
        },
        {
          "name": "stderr",
          "output_type": "stream",
          "text": [
            "/usr/local/lib/python3.7/dist-packages/ipykernel_launcher.py:14: FutureWarning: In v4.0, pm.sample will return an `arviz.InferenceData` object instead of a `MultiTrace` by default. You can pass return_inferencedata=True or return_inferencedata=False to be safe and silence this warning.\n",
            "  \n",
            "Auto-assigning NUTS sampler...\n",
            "Initializing NUTS using jitter+adapt_diag...\n",
            "Sequential sampling (2 chains in 1 job)\n",
            "NUTS: [σ, μ, μ_σ, σ_μ, μ̄_X1_rotated_, μ̄_X0_rotated_, GP_length_Scale]\n"
          ]
        },
        {
          "data": {
            "text/html": [
              "\n",
              "    <div>\n",
              "        <style>\n",
              "            /* Turns off some styling */\n",
              "            progress {\n",
              "                /* gets rid of default border in Firefox and Opera. */\n",
              "                border: none;\n",
              "                /* Needs to be in here for Safari polyfill so background images work as expected. */\n",
              "                background-size: auto;\n",
              "            }\n",
              "            .progress-bar-interrupted, .progress-bar-interrupted::-webkit-progress-bar {\n",
              "                background: #F44336;\n",
              "            }\n",
              "        </style>\n",
              "      <progress value='2000' class='' max='2000' style='width:300px; height:20px; vertical-align: middle;'></progress>\n",
              "      100.00% [2000/2000 01:37<00:00 Sampling chain 0, 456 divergences]\n",
              "    </div>\n",
              "    "
            ],
            "text/plain": [
              "<IPython.core.display.HTML object>"
            ]
          },
          "metadata": {},
          "output_type": "display_data"
        },
        {
          "data": {
            "text/html": [
              "\n",
              "    <div>\n",
              "        <style>\n",
              "            /* Turns off some styling */\n",
              "            progress {\n",
              "                /* gets rid of default border in Firefox and Opera. */\n",
              "                border: none;\n",
              "                /* Needs to be in here for Safari polyfill so background images work as expected. */\n",
              "                background-size: auto;\n",
              "            }\n",
              "            .progress-bar-interrupted, .progress-bar-interrupted::-webkit-progress-bar {\n",
              "                background: #F44336;\n",
              "            }\n",
              "        </style>\n",
              "      <progress value='2000' class='' max='2000' style='width:300px; height:20px; vertical-align: middle;'></progress>\n",
              "      100.00% [2000/2000 01:40<00:00 Sampling chain 1, 247 divergences]\n",
              "    </div>\n",
              "    "
            ],
            "text/plain": [
              "<IPython.core.display.HTML object>"
            ]
          },
          "metadata": {},
          "output_type": "display_data"
        },
        {
          "name": "stderr",
          "output_type": "stream",
          "text": [
            "Sampling 2 chains for 1_000 tune and 1_000 draw iterations (2_000 + 2_000 draws total) took 198 seconds.\n",
            "There were 456 divergences after tuning. Increase `target_accept` or reparameterize.\n",
            "The acceptance probability does not match the target. It is 0.6297579031376586, but should be close to 0.8. Try to increase the number of tuning steps.\n",
            "There were 703 divergences after tuning. Increase `target_accept` or reparameterize.\n",
            "The rhat statistic is larger than 1.05 for some parameters. This indicates slight problems during sampling.\n",
            "The estimated number of effective samples is smaller than 200 for some parameters.\n"
          ]
        },
        {
          "name": "stdout",
          "output_type": "stream",
          "text": [
            "[(19, 0), (7, 0), (28, 0), (22, 1), (19, 1), (4, 0), (12, 0), (23, 1), (4, 1), (11, 0), (6, 0), (8, 1), (21, 1), (3, 0), (0, 0), (2, 1), (8, 0), (3, 1), (9, 1), (20, 0), (21, 0), (18, 1), (2, 0), (28, 1)]\n"
          ]
        }
      ]
    },
    {
      "cell_type": "code",
      "metadata": {
        "colab": {
          "base_uri": "https://localhost:8080/"
        },
        "id": "8oX59hfdsei3",
        "outputId": "ac417526-1ffe-4d22-e1d1-257a02b0f5f8"
      },
      "source": [
        "try:\n",
        "    assert False\n",
        "    pd.to_pickle([traces, prediction_traces, d, ds, d_j, X, y, d_exhaustive, μ_true], \"sampling_traces.pickle\")\n",
        "    print(\"data saved\")\n",
        "except:\n",
        "    [traces, prediction_traces, d, ds, d_j, X, y, d_exhaustive, μ_true] = pd.read_pickle(\"sampling_traces.pickle\")\n",
        "    print(\"loaded saved data\")"
      ],
      "id": "8oX59hfdsei3",
      "execution_count": null,
      "outputs": [
        {
          "output_type": "stream",
          "name": "stdout",
          "text": [
            "loaded saved data\n"
          ]
        }
      ]
    },
    {
      "cell_type": "markdown",
      "metadata": {
        "id": "Ual1ZDX4OmGS"
      },
      "source": [
        "## Plot result"
      ],
      "id": "Ual1ZDX4OmGS"
    },
    {
      "cell_type": "code",
      "metadata": {
        "id": "aFD1bct1Oybm"
      },
      "source": [
        "plt.rcParams.update({\n",
        "    \"figure.dpi\": 100,\n",
        "    \"figure.figsize\": (4.5, 4),  # inches\n",
        "    \"figure.facecolor\": \"white\", #\"lightyellow\",\n",
        "    \n",
        "    \"savefig.dpi\": 150,\n",
        "    \n",
        "    \"font.family\": \"sans-serif\",\n",
        "    \"font.sans-serif\": \"Helvetica\",\n",
        "    \"font.size\": 8,\n",
        "    \n",
        "    \"lines.linewidth\": 1,\n",
        "    \"lines.markersize\": 4,\n",
        "    \n",
        "    \"axes.labelsize\": 7,\n",
        "    \n",
        "    \"xtick.labelsize\": 6,\n",
        "    \"xtick.major.size\": 1,\n",
        "    \n",
        "    \"ytick.major.size\": 0,\n",
        "    \"ytick.labelsize\": 6,\n",
        "\n",
        "    \"axes.spines.left\": True,\n",
        "    \"axes.spines.right\": True,\n",
        "    \"axes.spines.top\": True,\n",
        "    'axes.edgecolor': \"silver\",\n",
        "    \"axes.linewidth\": .5,\n",
        "    \n",
        "    \"text.usetex\": False,\n",
        "    'mathtext.default': 'regular',\n",
        "\n",
        "    'legend.fontsize': 6,\n",
        "    \n",
        "})"
      ],
      "id": "aFD1bct1Oybm",
      "execution_count": null,
      "outputs": []
    },
    {
      "cell_type": "code",
      "metadata": {
        "colab": {
          "base_uri": "https://localhost:8080/",
          "height": 678
        },
        "id": "yy3wyEMblUWm",
        "outputId": "a6cf268d-42d7-495d-ce7f-a5c6cec05085"
      },
      "source": [
        "fig = plt.figure(figsize=(3.25, 6.5), dpi=100, \n",
        "                 #facecolor=\"lightyellow\", \n",
        "                 constrained_layout=True)\n",
        "\n",
        "#plot_trace_indices = range(len(traces))\n",
        "plot_trace_indices = [0,1,2,4,7,10,20]\n",
        "\n",
        "for row_num, i in enumerate(plot_trace_indices):\n",
        "    tr = traces[i]\n",
        "\n",
        "    ax = plt.subplot(len(plot_trace_indices), 1, row_num+1)\n",
        "    for p in range(0,50,5):\n",
        "        ax.fill_between(ds.flatten(), *np.percentile(tr['μ̄'][:,:,0], (p, 100-p), axis=0), color='grey', alpha=.07, linewidth=0)\n",
        "        ax.fill_between(ds.flatten(), *np.percentile(tr['μ̄'][:,:,1], (p, 100-p), axis=0), color='navy', alpha=.07, linewidth=0)\n",
        "\n",
        "    if i == plot_trace_indices[-1]:\n",
        "        ax.set_xticks([0,.5,1])\n",
        "        ax.set_xticklabels([0,\"Design space\",1])\n",
        "    else:\n",
        "        ax.set_xticks([])\n",
        "    ax.plot(d_exhaustive.flatten(), μ_true[0], '--', color='grey')\n",
        "    ax.plot(d_exhaustive.flatten(), μ_true[1], '--', color='navy')\n",
        "    ax.set_ylim(-2, 2)\n",
        "    ax.set_yticks([-1,1])\n",
        "    ax.set_yticklabels([-1, 1])\n",
        "\n",
        "    ax.set_xlim(-.02, 1.02)\n",
        "    #ax.text(.03,.98, r'$\\bar{\\mu}$', va=\"top\", weight=\"bold\", transform=ax.transAxes)\n",
        "    #ax.set_ylabel(\"outcome\", labelpad=0)\n",
        "    ax.text(.03,.98, r'%i datapoints'%(i+n), va=\"top\", weight=\"bold\", transform=ax.transAxes, fontsize=6)\n",
        "\n",
        "   \n",
        "    plt.scatter(d[:i+n],y[:i+n], c=['k' if Xi==0 else 'b' for Xi in X[:i+n]], marker='.', zorder=100);\n",
        "\n",
        "    for ix in range(i+n):\n",
        "        plt.annotate(ix+1, (d[ix], y[ix]), fontsize=6, zorder=101)\n",
        "        \n",
        "plt.savefig(\"fig2_model.png\", dpi=200)"
      ],
      "id": "yy3wyEMblUWm",
      "execution_count": null,
      "outputs": [
        {
          "output_type": "display_data",
          "data": {
            "image/png": "[encoded data removed]",
            "text/plain": [
              "<Figure size 325x650 with 7 Axes>"
            ]
          },
          "metadata": {}
        }
      ]
    },
    {
      "cell_type": "code",
      "metadata": {
        "colab": {
          "base_uri": "https://localhost:8080/"
        },
        "id": "pBm5YGDmloP3",
        "outputId": "757d632f-9c27-4222-e59e-fe839c73fd33"
      },
      "source": [
        "len(traces)"
      ],
      "id": "pBm5YGDmloP3",
      "execution_count": null,
      "outputs": [
        {
          "output_type": "execute_result",
          "data": {
            "text/plain": [
              "22"
            ]
          },
          "metadata": {},
          "execution_count": 18
        }
      ]
    },
    {
      "cell_type": "code",
      "metadata": {
        "colab": {
          "background_save": true
        },
        "id": "7bNymswNfhg0"
      },
      "source": [
        ""
      ],
      "id": "7bNymswNfhg0",
      "execution_count": null,
      "outputs": []
    }
  ]
}