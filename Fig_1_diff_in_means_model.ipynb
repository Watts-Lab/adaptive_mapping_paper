{
  "nbformat": 4,
  "nbformat_minor": 5,
  "metadata": {
    "colab": {
      "name": "Fig_1_diff_in_means_model.ipynb",
      "provenance": [],
      "collapsed_sections": []
    },
    "kernelspec": {
      "display_name": "Python 3",
      "language": "python",
      "name": "python3"
    },
    "language_info": {
      "codemirror_mode": {
        "name": "ipython",
        "version": 3
      },
      "file_extension": ".py",
      "mimetype": "text/x-python",
      "name": "python",
      "nbconvert_exporter": "python",
      "pygments_lexer": "ipython3",
      "version": "3.7.6"
    }
  },
  "cells": [
    {
      "cell_type": "markdown",
      "metadata": {
        "id": "experimental-solid"
      },
      "source": [
        "# Difference-in-means model\n",
        "\n",
        "This notebook accompanies [The range of middle theories: Adaptively mapping the experimental design space]() and demonstrates the statistical models and adaptive sampling techniques developed in the first two sections of the paper. \n",
        "\n",
        "This notebook continues with the motivating question found in the first paragraph of the paper:\n",
        "\n",
        "> “Do teams perform better than individuals on the same tasks?”\n",
        "\n",
        "which tries to establish a difference-in-means between two treatment conditions across the experiment design space. The methods illustrated in this notebook have also been adapted to [linear regression problems]()."
      ],
      "id": "experimental-solid"
    },
    {
      "cell_type": "code",
      "metadata": {
        "colab": {
          "base_uri": "https://localhost:8080/",
          "height": 1000
        },
        "id": "giGkbyVPDMYg",
        "outputId": "b0b7b78d-122e-4af7-902e-33e90a5c39da"
      },
      "source": [
        "! pip install numpy==1.19.5\n",
        "! pip install pandas==1.1.2\n",
        "! pip install matplotlib==3.5.0\n",
        "! pip install theano-pymc==1.1.2\n",
        "! pip install pymc3==3.11.4"
      ],
      "id": "giGkbyVPDMYg",
      "execution_count": 1,
      "outputs": [
        {
          "output_type": "stream",
          "name": "stdout",
          "text": [
            "Requirement already satisfied: numpy==1.19.5 in /usr/local/lib/python3.7/dist-packages (1.19.5)\n",
            "Collecting pandas==1.1.2\n",
            "  Downloading pandas-1.1.2-cp37-cp37m-manylinux1_x86_64.whl (10.5 MB)\n",
            "\u001b[K     |████████████████████████████████| 10.5 MB 4.9 MB/s \n",
            "\u001b[?25hRequirement already satisfied: pytz>=2017.2 in /usr/local/lib/python3.7/dist-packages (from pandas==1.1.2) (2018.9)\n",
            "Requirement already satisfied: python-dateutil>=2.7.3 in /usr/local/lib/python3.7/dist-packages (from pandas==1.1.2) (2.8.2)\n",
            "Requirement already satisfied: numpy>=1.15.4 in /usr/local/lib/python3.7/dist-packages (from pandas==1.1.2) (1.19.5)\n",
            "Requirement already satisfied: six>=1.5 in /usr/local/lib/python3.7/dist-packages (from python-dateutil>=2.7.3->pandas==1.1.2) (1.15.0)\n",
            "Installing collected packages: pandas\n",
            "  Attempting uninstall: pandas\n",
            "    Found existing installation: pandas 1.1.5\n",
            "    Uninstalling pandas-1.1.5:\n",
            "      Successfully uninstalled pandas-1.1.5\n",
            "Successfully installed pandas-1.1.2\n"
          ]
        },
        {
          "output_type": "display_data",
          "data": {
            "application/vnd.colab-display-data+json": {
              "pip_warning": {
                "packages": [
                  "pandas"
                ]
              }
            }
          },
          "metadata": {}
        },
        {
          "output_type": "stream",
          "name": "stdout",
          "text": [
            "Collecting matplotlib==3.5.0\n",
            "  Downloading matplotlib-3.5.0-cp37-cp37m-manylinux_2_5_x86_64.manylinux1_x86_64.whl (11.2 MB)\n",
            "\u001b[K     |████████████████████████████████| 11.2 MB 5.7 MB/s \n",
            "\u001b[?25hRequirement already satisfied: cycler>=0.10 in /usr/local/lib/python3.7/dist-packages (from matplotlib==3.5.0) (0.11.0)\n",
            "Requirement already satisfied: python-dateutil>=2.7 in /usr/local/lib/python3.7/dist-packages (from matplotlib==3.5.0) (2.8.2)\n",
            "Requirement already satisfied: packaging>=20.0 in /usr/local/lib/python3.7/dist-packages (from matplotlib==3.5.0) (21.3)\n",
            "Requirement already satisfied: pyparsing>=2.2.1 in /usr/local/lib/python3.7/dist-packages (from matplotlib==3.5.0) (3.0.6)\n",
            "Requirement already satisfied: pillow>=6.2.0 in /usr/local/lib/python3.7/dist-packages (from matplotlib==3.5.0) (7.1.2)\n",
            "Requirement already satisfied: setuptools-scm>=4 in /usr/local/lib/python3.7/dist-packages (from matplotlib==3.5.0) (6.3.2)\n",
            "Requirement already satisfied: kiwisolver>=1.0.1 in /usr/local/lib/python3.7/dist-packages (from matplotlib==3.5.0) (1.3.2)\n",
            "Requirement already satisfied: fonttools>=4.22.0 in /usr/local/lib/python3.7/dist-packages (from matplotlib==3.5.0) (4.28.1)\n",
            "Requirement already satisfied: numpy>=1.17 in /usr/local/lib/python3.7/dist-packages (from matplotlib==3.5.0) (1.19.5)\n",
            "Requirement already satisfied: six>=1.5 in /usr/local/lib/python3.7/dist-packages (from python-dateutil>=2.7->matplotlib==3.5.0) (1.15.0)\n",
            "Requirement already satisfied: tomli>=1.0.0 in /usr/local/lib/python3.7/dist-packages (from setuptools-scm>=4->matplotlib==3.5.0) (1.2.2)\n",
            "Requirement already satisfied: setuptools in /usr/local/lib/python3.7/dist-packages (from setuptools-scm>=4->matplotlib==3.5.0) (57.4.0)\n",
            "Installing collected packages: matplotlib\n",
            "  Attempting uninstall: matplotlib\n",
            "    Found existing installation: matplotlib 3.2.2\n",
            "    Uninstalling matplotlib-3.2.2:\n",
            "      Successfully uninstalled matplotlib-3.2.2\n",
            "\u001b[31mERROR: pip's dependency resolver does not currently take into account all the packages that are installed. This behaviour is the source of the following dependency conflicts.\n",
            "albumentations 0.1.12 requires imgaug<0.2.7,>=0.2.5, but you have imgaug 0.2.9 which is incompatible.\u001b[0m\n",
            "Successfully installed matplotlib-3.5.0\n"
          ]
        },
        {
          "output_type": "display_data",
          "data": {
            "application/vnd.colab-display-data+json": {
              "pip_warning": {
                "packages": [
                  "matplotlib",
                  "mpl_toolkits"
                ]
              }
            }
          },
          "metadata": {}
        },
        {
          "output_type": "stream",
          "name": "stdout",
          "text": [
            "Requirement already satisfied: theano-pymc==1.1.2 in /usr/local/lib/python3.7/dist-packages (1.1.2)\n",
            "Requirement already satisfied: scipy>=0.14 in /usr/local/lib/python3.7/dist-packages (from theano-pymc==1.1.2) (1.4.1)\n",
            "Requirement already satisfied: filelock in /usr/local/lib/python3.7/dist-packages (from theano-pymc==1.1.2) (3.4.0)\n",
            "Requirement already satisfied: numpy>=1.9.1 in /usr/local/lib/python3.7/dist-packages (from theano-pymc==1.1.2) (1.19.5)\n",
            "Requirement already satisfied: pymc3==3.11.4 in /usr/local/lib/python3.7/dist-packages (3.11.4)\n",
            "Requirement already satisfied: theano-pymc==1.1.2 in /usr/local/lib/python3.7/dist-packages (from pymc3==3.11.4) (1.1.2)\n",
            "Requirement already satisfied: fastprogress>=0.2.0 in /usr/local/lib/python3.7/dist-packages (from pymc3==3.11.4) (1.0.0)\n",
            "Requirement already satisfied: patsy>=0.5.1 in /usr/local/lib/python3.7/dist-packages (from pymc3==3.11.4) (0.5.2)\n",
            "Requirement already satisfied: arviz>=0.11.0 in /usr/local/lib/python3.7/dist-packages (from pymc3==3.11.4) (0.11.4)\n",
            "Requirement already satisfied: dill in /usr/local/lib/python3.7/dist-packages (from pymc3==3.11.4) (0.3.4)\n",
            "Requirement already satisfied: semver>=2.13.0 in /usr/local/lib/python3.7/dist-packages (from pymc3==3.11.4) (2.13.0)\n",
            "Requirement already satisfied: pandas>=0.24.0 in /usr/local/lib/python3.7/dist-packages (from pymc3==3.11.4) (1.1.2)\n",
            "Requirement already satisfied: typing-extensions>=3.7.4 in /usr/local/lib/python3.7/dist-packages (from pymc3==3.11.4) (3.10.0.2)\n",
            "Requirement already satisfied: scipy>=1.2.0 in /usr/local/lib/python3.7/dist-packages (from pymc3==3.11.4) (1.4.1)\n",
            "Requirement already satisfied: numpy>=1.15.0 in /usr/local/lib/python3.7/dist-packages (from pymc3==3.11.4) (1.19.5)\n",
            "Requirement already satisfied: cachetools>=4.2.1 in /usr/local/lib/python3.7/dist-packages (from pymc3==3.11.4) (4.2.4)\n",
            "Requirement already satisfied: filelock in /usr/local/lib/python3.7/dist-packages (from theano-pymc==1.1.2->pymc3==3.11.4) (3.4.0)\n",
            "Requirement already satisfied: setuptools>=38.4 in /usr/local/lib/python3.7/dist-packages (from arviz>=0.11.0->pymc3==3.11.4) (57.4.0)\n",
            "Requirement already satisfied: xarray>=0.16.1 in /usr/local/lib/python3.7/dist-packages (from arviz>=0.11.0->pymc3==3.11.4) (0.18.2)\n",
            "Requirement already satisfied: netcdf4 in /usr/local/lib/python3.7/dist-packages (from arviz>=0.11.0->pymc3==3.11.4) (1.5.8)\n",
            "Requirement already satisfied: matplotlib>=3.0 in /usr/local/lib/python3.7/dist-packages (from arviz>=0.11.0->pymc3==3.11.4) (3.5.0)\n",
            "Requirement already satisfied: packaging in /usr/local/lib/python3.7/dist-packages (from arviz>=0.11.0->pymc3==3.11.4) (21.3)\n",
            "Requirement already satisfied: setuptools-scm>=4 in /usr/local/lib/python3.7/dist-packages (from matplotlib>=3.0->arviz>=0.11.0->pymc3==3.11.4) (6.3.2)\n",
            "Requirement already satisfied: pyparsing>=2.2.1 in /usr/local/lib/python3.7/dist-packages (from matplotlib>=3.0->arviz>=0.11.0->pymc3==3.11.4) (3.0.6)\n",
            "Requirement already satisfied: kiwisolver>=1.0.1 in /usr/local/lib/python3.7/dist-packages (from matplotlib>=3.0->arviz>=0.11.0->pymc3==3.11.4) (1.3.2)\n",
            "Requirement already satisfied: fonttools>=4.22.0 in /usr/local/lib/python3.7/dist-packages (from matplotlib>=3.0->arviz>=0.11.0->pymc3==3.11.4) (4.28.1)\n",
            "Requirement already satisfied: pillow>=6.2.0 in /usr/local/lib/python3.7/dist-packages (from matplotlib>=3.0->arviz>=0.11.0->pymc3==3.11.4) (7.1.2)\n",
            "Requirement already satisfied: python-dateutil>=2.7 in /usr/local/lib/python3.7/dist-packages (from matplotlib>=3.0->arviz>=0.11.0->pymc3==3.11.4) (2.8.2)\n",
            "Requirement already satisfied: cycler>=0.10 in /usr/local/lib/python3.7/dist-packages (from matplotlib>=3.0->arviz>=0.11.0->pymc3==3.11.4) (0.11.0)\n",
            "Requirement already satisfied: pytz>=2017.2 in /usr/local/lib/python3.7/dist-packages (from pandas>=0.24.0->pymc3==3.11.4) (2018.9)\n",
            "Requirement already satisfied: six in /usr/local/lib/python3.7/dist-packages (from patsy>=0.5.1->pymc3==3.11.4) (1.15.0)\n",
            "Requirement already satisfied: tomli>=1.0.0 in /usr/local/lib/python3.7/dist-packages (from setuptools-scm>=4->matplotlib>=3.0->arviz>=0.11.0->pymc3==3.11.4) (1.2.2)\n",
            "Requirement already satisfied: cftime in /usr/local/lib/python3.7/dist-packages (from netcdf4->arviz>=0.11.0->pymc3==3.11.4) (1.5.1.1)\n"
          ]
        }
      ]
    },
    {
      "cell_type": "code",
      "metadata": {
        "colab": {
          "base_uri": "https://localhost:8080/"
        },
        "id": "inclusive-consistency",
        "outputId": "00f82c15-18fd-430d-c00f-d0fc033266b3"
      },
      "source": [
        "%pylab inline\n",
        "import numpy as np\n",
        "import pandas as pd\n",
        "import itertools\n",
        "import scipy.spatial\n",
        "\n",
        "import theano\n",
        "import theano.tensor as tt\n",
        "import pymc3 as pm\n",
        "from pymc3.gp.util import plot_gp_dist\n",
        "from scipy.interpolate import interpn\n",
        "theano.config.gcc.cxxflags = \"-Wno-c++11-narrowing\"  # ignore some compiler errors\n",
        "\n",
        "from pymc3.gp.util import plot_gp_dist\n",
        "\n",
        "import itertools"
      ],
      "id": "inclusive-consistency",
      "execution_count": 1,
      "outputs": [
        {
          "output_type": "stream",
          "name": "stdout",
          "text": [
            "Populating the interactive namespace from numpy and matplotlib\n"
          ]
        }
      ]
    },
    {
      "cell_type": "markdown",
      "metadata": {
        "id": "acoustic-firmware"
      },
      "source": [
        "## Generate sample data\n",
        "We will begin by generating a \"ground truth\", representing the expected performance of teams and individuals at each location in the space. Here we assume that we have a common scoring system or a convenient way to map scores at one location to those at another."
      ],
      "id": "acoustic-firmware"
    },
    {
      "cell_type": "code",
      "metadata": {
        "id": "guilty-russian"
      },
      "source": [
        "rng = np.random.default_rng(1369)  # initialize a random number generator with a fixed seed\n",
        "\n",
        "def ground_truth(n_facets, n_levels, n_conditions):\n",
        "    \"\"\"\n",
        "    Parameters\n",
        "    ----------\n",
        "    n_facets: int >= 1\n",
        "        number of dimensions in the experiment design space `D`\n",
        "        \n",
        "    n_levels: int >= 2\n",
        "        number of levels to be defined along each dimension\n",
        "    \n",
        "    n_conditions: int >= 1\n",
        "        number of different treatment conditions to be assessed at each point\n",
        "        \n",
        "    Returns\n",
        "    -------\n",
        "    d_exhaustive: np.array(n_levels^n_facets, n_facets)\n",
        "        Points in the design space\n",
        "        - each row is a different point in the space that has a defined ground truth\n",
        "        - each column is a coordinate along a different dimension in the design space\n",
        "        \n",
        "    μ_true: np.array(n_levels^n_facets, n_conditions)\n",
        "        Outcome values\n",
        "        - one row for each point in the design space\n",
        "        - one column for each treatment condition\n",
        "    \"\"\"\n",
        "    \n",
        "    # Define the design space:\n",
        "    levels = np.linspace(0, 1, n_levels)\n",
        "    d_exhaustive = np.array(list(itertools.product(levels, repeat=n_facets)))\n",
        "    \n",
        "    # define the rate of change of effects across the design space\n",
        "    def exponentiated_quadratic(xa, xb, σ):\n",
        "        \"\"\"\n",
        "        Exponentiated quadratic covariance function\n",
        "        covariance of xa with xb\n",
        "        according to distance parameter σ\n",
        "\n",
        "        \"\"\"\n",
        "        return np.exp(-1/(2*σ**3) * scipy.spatial.distance.cdist(xa, xb, 'sqeuclidean'))\n",
        "    \n",
        "    Σ_true = exponentiated_quadratic(d_exhaustive, d_exhaustive, σ=.6)  # covariance matrix \n",
        "\n",
        "    \n",
        "    # define a ground-truth for each comparison\n",
        "    μ_true = rng.multivariate_normal(\n",
        "        mean=np.zeros(len(d_exhaustive)), cov=.1*Σ_true, \n",
        "        size=n_conditions)\n",
        "\n",
        "    \n",
        "    return d_exhaustive, μ_true,\n",
        "    \n",
        "n_facets = 1\n",
        "n_levels = 20\n",
        "n_conditions = 2\n",
        "d_exhaustive, μ_true = ground_truth(n_facets, n_levels, n_conditions)\n"
      ],
      "id": "guilty-russian",
      "execution_count": 2,
      "outputs": []
    },
    {
      "cell_type": "code",
      "metadata": {
        "colab": {
          "base_uri": "https://localhost:8080/",
          "height": 265
        },
        "id": "reduced-marshall",
        "outputId": "dc4e06c5-8db4-44c1-c9b6-3c5e623d14b4"
      },
      "source": [
        "def plot_design_space(n_facets, d, ys, colors=[\"grey\", \"navy\"]):\n",
        "    \"\"\"\n",
        "    Plot 1 or 2 dimensional design space \n",
        "    \n",
        "    Parameters\n",
        "    ----------\n",
        "    n_facets: int >= 1\n",
        "        number of dimensions in the experiment design space `D`\n",
        "        \n",
        "    d: np.array(n, n_facets)\n",
        "        Points in the design space. \n",
        "        - each row is a different point in the space\n",
        "        - each column is a coordinate along a different dimension in the design space \n",
        "        \n",
        "    ys: np.array(n, n_conditions)\n",
        "        Outcome values\n",
        "        - one row for each point in the design space\n",
        "        - one column for each treatment condition\n",
        "        \n",
        "    \"\"\"\n",
        "    leading= ys.argmax(axis=0)\n",
        "    n_conditions = ys.shape[0]\n",
        "\n",
        "    if n_facets == 1:\n",
        "        #plt.figure(figsize=(6,4))\n",
        "        for i in range(n_conditions):\n",
        "            plt.plot(d, ys[i], label=\"y%i\"%i, color=colors[i])\n",
        "        for which, pos in zip(leading, d):\n",
        "            plt.annotate(which, (pos, ys[which][np.argwhere(d==pos)[0,0]]), ha=\"center\", va=\"center\")  \n",
        "        plt.legend()\n",
        "\n",
        "    elif n_facets == 2:\n",
        "        #plt.figure(figsize=(4*n_conditions,4))\n",
        "        for i in range(n_conditions):\n",
        "            plt.subplot(1,n_conditions,i+1)\n",
        "            plt.tricontourf(*d.T, ys[i], cmap=\"bwr\")\n",
        "            plt.title(\"y%i\"%i)\n",
        "        plt.colorbar()\n",
        "\n",
        "        plt.figure(figsize=(4,4))\n",
        "        plt.tricontourf(*d.T, leading)\n",
        "        for which, pos in zip(leading, d):\n",
        "            plt.annotate(which, pos, ha=\"center\", va=\"center\")\n",
        "        plt.title(r\"Leading Condition\")\n",
        "        \n",
        "    else:\n",
        "        print(\"Can't plot more than 2-dimensional design space\")\n",
        "    \n",
        "plot_design_space(n_facets, d_exhaustive, μ_true)"
      ],
      "id": "reduced-marshall",
      "execution_count": 3,
      "outputs": [
        {
          "output_type": "display_data",
          "data": {
            "image/png": "[encoded data removed]",
            "text/plain": [
              "<Figure size 432x288 with 1 Axes>"
            ]
          },
          "metadata": {
            "needs_background": "light"
          }
        }
      ]
    },
    {
      "cell_type": "code",
      "metadata": {
        "id": "suited-hepatitis",
        "colab": {
          "base_uri": "https://localhost:8080/",
          "height": 265
        },
        "outputId": "c387d798-8dc0-42c4-a630-8b8732ed1b76"
      },
      "source": [
        "def choose_js(d_exhaustive, μ_true, J):\n",
        "    \"\"\"\n",
        "    Choose a set of microexperiments to conduct.\n",
        "    Each microexperiment will have a particular mean that is sampled with noise around μ_true\n",
        "    this mean varies from the mean of all microexperiments that could have been conducted at that location.\n",
        "    \n",
        "    \n",
        "    Parameters\n",
        "    ----------\n",
        "    d_exhaustive: np.array(n_levels^n_facets, n_facets)\n",
        "        All possible points in the design space that the micro-experiments could be chosen from\n",
        "        - each row is a different point in the space that has a defined ground truth\n",
        "        - each column is a coordinate along a different dimension in the design space\n",
        "        \n",
        "    μ_true: np.array(n_levels^n_facets, n_conditions)\n",
        "        Expected value for each treatment condition across all microexperiments that could have been\n",
        "        conducted at each point in d_exhaustive\n",
        "        - one row for each point in the design space\n",
        "        - one column for each treatment condition\n",
        "    \n",
        "    J: integer >=1 \n",
        "        number of microexperiments to conduct\n",
        "        \n",
        "        \n",
        "    Returns\n",
        "    -------\n",
        "    d_j: np.array(J, n_facets)\n",
        "        Locations of each micro-experiment `j` in design space `D`\n",
        "        \n",
        "    μ_j: np.array(J, n_conditions)\n",
        "        Expected value of each condition for each realized micro-experiment\n",
        "        These are sampled from μ_true with noise\n",
        "        \n",
        "    σ_j: np.array(J)\n",
        "        Noise realized in sampling each micro-experiment\n",
        "        \n",
        "    ds: np.array(number of unique locations sampled)\n",
        "        Unique locations containing one or more micro-experiments\n",
        "        \n",
        "    d_index: np.array(J)\n",
        "        index of each microexperiment in `ds`\n",
        "    \"\"\"\n",
        " \n",
        "    n_conditions = μ_true.shape[0]\n",
        "    #indices = np.linspace(0,len(d_exhaustive)-1, J).astype(int)  # taking a sample at J evenly spaced points\n",
        "    indices = rng.integers(len(d_exhaustive), size=J)\n",
        "    d_j = np.array([d_exhaustive[index,:] for index in indices])\n",
        "\n",
        "    σμ = .08  # std between multiple microexperiments run at the same point in the design space\n",
        "    σσ = .08  # average scale of noise of each microexperiment\n",
        "    \n",
        "    μ_j = np.array([μ_true[:,index] + rng.normal(scale=σμ, size=n_conditions) for index in indices]) \n",
        "    σ_j = rng.gamma(shape=2, scale=σσ, size=J)\n",
        "\n",
        "    ds = np.unique(d_j, axis=0)  # list of different locations in D-space where we have micro-experiments\n",
        "    d_index = np.array([np.argwhere(np.all(ds==d, axis=1))[0,0] for d in d_j])  # index of jth microexperiment in ds\n",
        "    \n",
        "    assert (all(d_j == ds[d_index]))  # check that we got the arrays right\n",
        "    return d_j, μ_j, σ_j, ds, d_index\n",
        "\n",
        "\n",
        "J=19\n",
        "d_j, μ_j, σ_j, ds, d_index = choose_js(d_exhaustive, μ_true, J)\n",
        "\n",
        "# plot\n",
        "\n",
        "# todo: use largest double point\n",
        "if np.argwhere(d_j == np.max(d_j)).shape[0]>1:\n",
        "    j_plot = [np.argmin(d_j), np.argwhere(d_j == np.max(d_j))[0,0], np.argwhere(d_j == np.max(d_j))[1,0]]\n",
        "else:\n",
        "    print(\"\")\n",
        "\n",
        "ax = plt.subplot(111)\n",
        "plt.plot(d_exhaustive, μ_true[0,:], color='grey', label=\"Condition 1\")\n",
        "plt.plot(d_exhaustive, μ_true[1,:], color='navy', label=\"Condition 2\")\n",
        "plt.legend(loc=\"upper left\")\n",
        "plt.errorbar(d_j, μ_j[:,0], σ_j, color='grey', fmt='.', ms=4)\n",
        "plt.errorbar(d_j, μ_j[:,1], σ_j, color='navy', fmt='.', ms=4)\n",
        "\n",
        "ax.set_ylim(-1.1, 1.1)\n",
        "ax.set_yticks([-1,0,1])\n",
        "ax.set_xticks([0,.5,1])\n",
        "ax.set_xticklabels([0,\"Design space\",1])\n",
        "# ax.set_xticks([0,1])\n",
        "ax.set_xlim(-.02, 1.02)\n",
        "# plt.xlabel(\"Design space (d)\")\n",
        "plt.ylabel(\"Outcome (y)\")\n",
        "\n",
        "for i in range(len(d_j)):\n",
        "    c = 'r' if i in j_plot else 'dimgrey'\n",
        "    di = d_j[i]\n",
        "    matches = np.where(di==d_j)[0]  # other microexperiments in this location\n",
        "    if np.all(matches <= i):  # last one\n",
        "        va=\"top\"\n",
        "    else:\n",
        "        va=\"bottom\"\n",
        "\n",
        "    plt.annotate(i, (di, μ_j[i,0]), ha=\"left\", va=va, color=c)  \n",
        "    plt.annotate(i, (di, μ_j[i,1]), ha=\"left\", va=va, color=c)"
      ],
      "id": "suited-hepatitis",
      "execution_count": 4,
      "outputs": [
        {
          "output_type": "display_data",
          "data": {
            "image/png": "[encoded data removed]",
            "text/plain": [
              "<Figure size 432x288 with 1 Axes>"
            ]
          },
          "metadata": {
            "needs_background": "light"
          }
        }
      ]
    },
    {
      "cell_type": "code",
      "metadata": {
        "id": "passing-oracle"
      },
      "source": [
        "def generate_random_sample_points(J, d_j, n_conditions, n):\n",
        "    \"\"\"\n",
        "    Choose some random points and conditions\n",
        "    \n",
        "    Parameters\n",
        "    ----------\n",
        "    J: integer >=1 \n",
        "        number of microexperiments available\n",
        "        \n",
        "    d_j: np.array(J, n_facets)\n",
        "        Design-space locations of each micro-experiment available\n",
        "        \n",
        "    n_conditions: int >= 1\n",
        "        number of different treatment conditions available\n",
        "        \n",
        "    n: int >= 1\n",
        "        number of sample points to generate\n",
        "        \n",
        "    Returns\n",
        "    -------\n",
        "    j: np.array(n)\n",
        "        indices of the microexperiments from which each sample is taken\n",
        "        \n",
        "    d: np.array(n, n_facets)\n",
        "        design space locations of each sample\n",
        "        \n",
        "    X: np.array(n)\n",
        "        indices of treatment conditions for each sample\n",
        "    \n",
        "    \"\"\"\n",
        "    j = rng.integers(J, size=n)  # group of the ith sample\n",
        "    d = d_j[j]  # design space location of the ith sample\n",
        "    X = rng.integers(n_conditions, size=n)\n",
        "    return j, d, X\n",
        "\n",
        "n=60\n",
        "j, d, X = generate_random_sample_points(J, d_j, n_conditions, n)"
      ],
      "id": "passing-oracle",
      "execution_count": 5,
      "outputs": []
    },
    {
      "cell_type": "code",
      "metadata": {
        "colab": {
          "base_uri": "https://localhost:8080/",
          "height": 265
        },
        "id": "elementary-magazine",
        "outputId": "041bf612-7179-49b1-c116-834d3f5c8acc"
      },
      "source": [
        "def make_sampler(μ_j, σ_j):\n",
        "    \"\"\"\n",
        "    Create a function returning samples from micro-experiments\n",
        "    \n",
        "    Parameters\n",
        "    ----------\n",
        "    μ_j: np.array(J, n_conditions)\n",
        "        Expected value of each condition for each micro-experiment\n",
        "        These are sampled from μ_true with noise\n",
        "        \n",
        "    σ_j: np.array(J)\n",
        "        Noise with which each micro-experiment is sampled\n",
        "    \n",
        "    Returns\n",
        "    -------\n",
        "    sample(j, X): function\n",
        "    \n",
        "    \"\"\"\n",
        "    def sample(j, X):\n",
        "        \"\"\"\n",
        "        Take a sample from the 'real world'\n",
        "        \n",
        "        Parameters\n",
        "        ----------\n",
        "        j: np.array(n)\n",
        "            indices of the microexperiments from which each sample is taken\n",
        "            \n",
        "        X: np.array(n)\n",
        "            indices of treatment conditions for each sample\n",
        "        \n",
        "        \"\"\"\n",
        "        y = [μ_j[ji][Xi] + rng.normal(scale=σ_j[ji]) for ji, Xi in zip(j, X)]\n",
        "        return  y\n",
        "    return sample\n",
        "        \n",
        "take_samples = make_sampler(μ_j, σ_j)\n",
        "    \n",
        "y = take_samples(j, X)\n",
        "\n",
        "plot_design_space(n_facets, d_exhaustive, μ_true)\n",
        "plt.scatter(d,y, c=['k' if Xi==0 else 'b' for Xi in X], marker='.');\n"
      ],
      "id": "elementary-magazine",
      "execution_count": 6,
      "outputs": [
        {
          "output_type": "display_data",
          "data": {
            "image/png": "[encoded data removed]",
            "text/plain": [
              "<Figure size 432x288 with 1 Axes>"
            ]
          },
          "metadata": {
            "needs_background": "light"
          }
        }
      ]
    },
    {
      "cell_type": "markdown",
      "metadata": {
        "id": "sized-drinking"
      },
      "source": [
        "# Space-covering statistical models"
      ],
      "id": "sized-drinking"
    },
    {
      "cell_type": "markdown",
      "metadata": {
        "id": "blocked-freight"
      },
      "source": [
        "### Completely pooled model\n",
        "\n",
        "Perform a single regression using all datapoints, regardless of their location in the design space.\n",
        "\n",
        "$\n",
        "\\begin{aligned}\n",
        "    y_{i}  &\\sim \\mathcal{N}(\\mu_{X[i]},\\,\\sigma)  & \\text{for $i=0 \\ldots n-1$}\\\\\n",
        "    \\mu_{X} &= \\mathcal{N}(0,\\,1) & \\text{for } X \\in \\left\\{0\\text{: individuals}, 1\\text{: groups} \\right\\}\\\\\n",
        "    \\sigma &\\sim \\mathcal{\\Gamma}(2,0.5) \\\\\n",
        "    \\Delta \\mu &= \\mu_{X=1} - \\mu_{X=0}\n",
        "\\end{aligned}\n",
        "$"
      ],
      "id": "blocked-freight"
    },
    {
      "cell_type": "code",
      "metadata": {
        "id": "japanese-pattern",
        "colab": {
          "base_uri": "https://localhost:8080/",
          "height": 368
        },
        "outputId": "5a0a5272-42a1-47ac-db42-339a2f059dc4"
      },
      "source": [
        "def build_pooled_model(J, n_conditions, j, X, y):\n",
        "    \n",
        "    with pm.Model() as model:\n",
        "        # Prior for mean\n",
        "        μ_ = pm.Normal(\"μ\", mu=0, sigma=1, shape=n_conditions)\n",
        "        \n",
        "        # Prior for noise\n",
        "        σ_ = pm.Gamma(\"σ\", alpha=2, beta=0.5)\n",
        "\n",
        "        # assume that observations are sampled with gaussian noise\n",
        "        y_ = pm.Normal(\"y\", mu=μ_[X], sd=σ_, observed=y)\n",
        "        \n",
        "    return model\n",
        "\n",
        "complete_pooling = build_pooled_model(J, n_conditions, j, X, y)\n",
        "pm.model_to_graphviz(complete_pooling)"
      ],
      "id": "japanese-pattern",
      "execution_count": 7,
      "outputs": [
        {
          "output_type": "execute_result",
          "data": {
            "text/plain": [
              "<graphviz.dot.Digraph at 0x7fe4f06cc890>"
            ],
            "image/svg+xml": "<?xml version=\"1.0\" encoding=\"UTF-8\" standalone=\"no\"?>\n<!DOCTYPE svg PUBLIC \"-//W3C//DTD SVG 1.1//EN\"\n \"http://www.w3.org/Graphics/SVG/1.1/DTD/svg11.dtd\">\n<!-- Generated by graphviz version 2.40.1 (20161225.0304)\n -->\n<!-- Title: %3 Pages: 1 -->\n<svg width=\"214pt\" height=\"260pt\"\n viewBox=\"0.00 0.00 213.84 259.91\" xmlns=\"http://www.w3.org/2000/svg\" xmlns:xlink=\"http://www.w3.org/1999/xlink\">\n<g id=\"graph0\" class=\"graph\" transform=\"scale(1 1) rotate(0) translate(4 255.9066)\">\n<title>%3</title>\n<polygon fill=\"#ffffff\" stroke=\"transparent\" points=\"-4,4 -4,-255.9066 209.8406,-255.9066 209.8406,4 -4,4\"/>\n<g id=\"clust2\" class=\"cluster\">\n<title>cluster60</title>\n<path fill=\"none\" stroke=\"#000000\" d=\"M72,-8C72,-8 148,-8 148,-8 154,-8 160,-14 160,-20 160,-20 160,-109.9533 160,-109.9533 160,-115.9533 154,-121.9533 148,-121.9533 148,-121.9533 72,-121.9533 72,-121.9533 66,-121.9533 60,-115.9533 60,-109.9533 60,-109.9533 60,-20 60,-20 60,-14 66,-8 72,-8\"/>\n<text text-anchor=\"middle\" x=\"144\" y=\"-15.8\" font-family=\"Times,serif\" font-size=\"14.00\" fill=\"#000000\">60</text>\n</g>\n<g id=\"clust1\" class=\"cluster\">\n<title>cluster2</title>\n<path fill=\"none\" stroke=\"#000000\" d=\"M20,-129.9533C20,-129.9533 96,-129.9533 96,-129.9533 102,-129.9533 108,-135.9533 108,-141.9533 108,-141.9533 108,-231.9066 108,-231.9066 108,-237.9066 102,-243.9066 96,-243.9066 96,-243.9066 20,-243.9066 20,-243.9066 14,-243.9066 8,-237.9066 8,-231.9066 8,-231.9066 8,-141.9533 8,-141.9533 8,-135.9533 14,-129.9533 20,-129.9533\"/>\n<text text-anchor=\"middle\" x=\"96\" y=\"-137.7533\" font-family=\"Times,serif\" font-size=\"14.00\" fill=\"#000000\">2</text>\n</g>\n<!-- μ -->\n<g id=\"node1\" class=\"node\">\n<title>μ</title>\n<ellipse fill=\"none\" stroke=\"#000000\" cx=\"58\" cy=\"-198.43\" rx=\"42.3529\" ry=\"37.4533\"/>\n<text text-anchor=\"middle\" x=\"58\" y=\"-209.73\" font-family=\"Times,serif\" font-size=\"14.00\" fill=\"#000000\">μ</text>\n<text text-anchor=\"middle\" x=\"58\" y=\"-194.73\" font-family=\"Times,serif\" font-size=\"14.00\" fill=\"#000000\">~</text>\n<text text-anchor=\"middle\" x=\"58\" y=\"-179.73\" font-family=\"Times,serif\" font-size=\"14.00\" fill=\"#000000\">Normal</text>\n</g>\n<!-- y -->\n<g id=\"node3\" class=\"node\">\n<title>y</title>\n<ellipse fill=\"#d3d3d3\" stroke=\"#000000\" cx=\"110\" cy=\"-76.4767\" rx=\"42.3529\" ry=\"37.4533\"/>\n<text text-anchor=\"middle\" x=\"110\" y=\"-87.7767\" font-family=\"Times,serif\" font-size=\"14.00\" fill=\"#000000\">y</text>\n<text text-anchor=\"middle\" x=\"110\" y=\"-72.7767\" font-family=\"Times,serif\" font-size=\"14.00\" fill=\"#000000\">~</text>\n<text text-anchor=\"middle\" x=\"110\" y=\"-57.7767\" font-family=\"Times,serif\" font-size=\"14.00\" fill=\"#000000\">Normal</text>\n</g>\n<!-- μ&#45;&gt;y -->\n<g id=\"edge2\" class=\"edge\">\n<title>μ&#45;&gt;y</title>\n<path fill=\"none\" stroke=\"#000000\" d=\"M73.0406,-163.156C78.6459,-150.01 85.0831,-134.9131 90.9982,-121.0407\"/>\n<polygon fill=\"#000000\" stroke=\"#000000\" points=\"94.2905,-122.2428 94.9932,-111.6713 87.8514,-119.4972 94.2905,-122.2428\"/>\n</g>\n<!-- σ -->\n<g id=\"node2\" class=\"node\">\n<title>σ</title>\n<ellipse fill=\"none\" stroke=\"#000000\" cx=\"162\" cy=\"-198.43\" rx=\"43.6818\" ry=\"37.4533\"/>\n<text text-anchor=\"middle\" x=\"162\" y=\"-209.73\" font-family=\"Times,serif\" font-size=\"14.00\" fill=\"#000000\">σ</text>\n<text text-anchor=\"middle\" x=\"162\" y=\"-194.73\" font-family=\"Times,serif\" font-size=\"14.00\" fill=\"#000000\">~</text>\n<text text-anchor=\"middle\" x=\"162\" y=\"-179.73\" font-family=\"Times,serif\" font-size=\"14.00\" fill=\"#000000\">Gamma</text>\n</g>\n<!-- σ&#45;&gt;y -->\n<g id=\"edge1\" class=\"edge\">\n<title>σ&#45;&gt;y</title>\n<path fill=\"none\" stroke=\"#000000\" d=\"M146.9594,-163.156C141.3541,-150.01 134.9169,-134.9131 129.0018,-121.0407\"/>\n<polygon fill=\"#000000\" stroke=\"#000000\" points=\"132.1486,-119.4972 125.0068,-111.6713 125.7095,-122.2428 132.1486,-119.4972\"/>\n</g>\n</g>\n</svg>\n"
          },
          "metadata": {},
          "execution_count": 7
        }
      ]
    },
    {
      "cell_type": "code",
      "metadata": {
        "id": "mature-adjustment",
        "colab": {
          "base_uri": "https://localhost:8080/",
          "height": 199
        },
        "outputId": "bd5deb79-8d89-42a9-9115-3447c23a5a93"
      },
      "source": [
        "with complete_pooling:\n",
        "    complete_pooling_trace = pm.sample()"
      ],
      "id": "mature-adjustment",
      "execution_count": 8,
      "outputs": [
        {
          "output_type": "stream",
          "name": "stderr",
          "text": [
            "/usr/local/lib/python3.7/dist-packages/ipykernel_launcher.py:2: FutureWarning: In v4.0, pm.sample will return an `arviz.InferenceData` object instead of a `MultiTrace` by default. You can pass return_inferencedata=True or return_inferencedata=False to be safe and silence this warning.\n",
            "  \n",
            "Auto-assigning NUTS sampler...\n",
            "Initializing NUTS using jitter+adapt_diag...\n",
            "Sequential sampling (2 chains in 1 job)\n",
            "NUTS: [σ, μ]\n"
          ]
        },
        {
          "output_type": "display_data",
          "data": {
            "text/html": [
              "\n",
              "    <div>\n",
              "        <style>\n",
              "            /* Turns off some styling */\n",
              "            progress {\n",
              "                /* gets rid of default border in Firefox and Opera. */\n",
              "                border: none;\n",
              "                /* Needs to be in here for Safari polyfill so background images work as expected. */\n",
              "                background-size: auto;\n",
              "            }\n",
              "            .progress-bar-interrupted, .progress-bar-interrupted::-webkit-progress-bar {\n",
              "                background: #F44336;\n",
              "            }\n",
              "        </style>\n",
              "      <progress value='2000' class='' max='2000' style='width:300px; height:20px; vertical-align: middle;'></progress>\n",
              "      100.00% [2000/2000 00:01<00:00 Sampling chain 0, 0 divergences]\n",
              "    </div>\n",
              "    "
            ],
            "text/plain": [
              "<IPython.core.display.HTML object>"
            ]
          },
          "metadata": {}
        },
        {
          "output_type": "display_data",
          "data": {
            "text/html": [
              "\n",
              "    <div>\n",
              "        <style>\n",
              "            /* Turns off some styling */\n",
              "            progress {\n",
              "                /* gets rid of default border in Firefox and Opera. */\n",
              "                border: none;\n",
              "                /* Needs to be in here for Safari polyfill so background images work as expected. */\n",
              "                background-size: auto;\n",
              "            }\n",
              "            .progress-bar-interrupted, .progress-bar-interrupted::-webkit-progress-bar {\n",
              "                background: #F44336;\n",
              "            }\n",
              "        </style>\n",
              "      <progress value='2000' class='' max='2000' style='width:300px; height:20px; vertical-align: middle;'></progress>\n",
              "      100.00% [2000/2000 00:01<00:00 Sampling chain 1, 0 divergences]\n",
              "    </div>\n",
              "    "
            ],
            "text/plain": [
              "<IPython.core.display.HTML object>"
            ]
          },
          "metadata": {}
        },
        {
          "output_type": "stream",
          "name": "stderr",
          "text": [
            "Sampling 2 chains for 1_000 tune and 1_000 draw iterations (2_000 + 2_000 draws total) took 3 seconds.\n"
          ]
        }
      ]
    },
    {
      "cell_type": "markdown",
      "metadata": {
        "id": "durable-riverside"
      },
      "source": [
        "### Unpooled model\n",
        "\n",
        "Perform a separate regression for each of $J$ microexperiments.\n",
        "\n",
        "\n",
        "$\\newcommand{\\highlight}{\\color{red}}$\n",
        "$\n",
        "\\begin{aligned}\n",
        "    y_{i}  &\\sim \\mathcal{N}(\\mu_{{\\highlight{j[i]}X[i]}},\\,\\sigma_{\\highlight{j[i]}})  & \\text{for } i=0 \\ldots n-1\\\\\n",
        "    \\mu_{{\\highlight{j}}X} &= \\mathcal{N}(0,\\,1) & \\text{for } X \\in \\left\\{0, 1\\right\\},{\\highlight{~j=0 \\ldots J-1}}\\\\\n",
        "    \\sigma_{\\highlight{j}} &\\sim \\mathcal{\\Gamma}(2,0.5) &\\highlight{\\text{for } j=0 \\ldots J-1}\\\\\n",
        "    \\Delta \\mu_{\\highlight{j}} &= \\mu_{{\\highlight{j}}X=1} - \\mu_{{\\highlight {j}}X=0} &\\highlight{\\text{for } j=0 \\ldots J-1}\n",
        "\\end{aligned}\n",
        "$\n",
        "\n"
      ],
      "id": "durable-riverside"
    },
    {
      "cell_type": "code",
      "metadata": {
        "id": "banner-gravity",
        "colab": {
          "base_uri": "https://localhost:8080/",
          "height": 368
        },
        "outputId": "ea6f5aef-a7e6-48e4-9ee7-50cddbf81511"
      },
      "source": [
        "def build_unpooled_model(J, n_conditions, j, X, y):\n",
        "    \"\"\"\n",
        "    A factory method to encapsulate creation of unpooled regression models. \n",
        "    Allows us to create multiple instances of the same model with different paramterizations, \n",
        "    without the risk that model-local variable names will conflict with other models.\n",
        "    \"\"\"\n",
        "    with pm.Model() as model:\n",
        "        μ_ = pm.Normal(\"μ\", mu=0, sigma=1, shape=(J, n_conditions))\n",
        "        σ_ = pm.Gamma(\"σ\", alpha=2, beta=0.5, shape=J)\n",
        "        \n",
        "        # Observations sampled with gaussian noise\n",
        "        y_ = pm.Normal(\"y\", mu=μ_[j,X], sd=σ_[j], observed=y)\n",
        "        \n",
        "    return model\n",
        "\n",
        "no_pooling = build_unpooled_model(J, n_conditions, j, X, y)\n",
        "pm.model_to_graphviz(no_pooling)"
      ],
      "id": "banner-gravity",
      "execution_count": 9,
      "outputs": [
        {
          "output_type": "execute_result",
          "data": {
            "text/plain": [
              "<graphviz.dot.Digraph at 0x7fe4e46cc290>"
            ],
            "image/svg+xml": "<?xml version=\"1.0\" encoding=\"UTF-8\" standalone=\"no\"?>\n<!DOCTYPE svg PUBLIC \"-//W3C//DTD SVG 1.1//EN\"\n \"http://www.w3.org/Graphics/SVG/1.1/DTD/svg11.dtd\">\n<!-- Generated by graphviz version 2.40.1 (20161225.0304)\n -->\n<!-- Title: %3 Pages: 1 -->\n<svg width=\"236pt\" height=\"260pt\"\n viewBox=\"0.00 0.00 236.00 259.91\" xmlns=\"http://www.w3.org/2000/svg\" xmlns:xlink=\"http://www.w3.org/1999/xlink\">\n<g id=\"graph0\" class=\"graph\" transform=\"scale(1 1) rotate(0) translate(4 255.9066)\">\n<title>%3</title>\n<polygon fill=\"#ffffff\" stroke=\"transparent\" points=\"-4,4 -4,-255.9066 232,-255.9066 232,4 -4,4\"/>\n<g id=\"clust1\" class=\"cluster\">\n<title>cluster19 x 2</title>\n<path fill=\"none\" stroke=\"#000000\" d=\"M20,-129.9533C20,-129.9533 96,-129.9533 96,-129.9533 102,-129.9533 108,-135.9533 108,-141.9533 108,-141.9533 108,-231.9066 108,-231.9066 108,-237.9066 102,-243.9066 96,-243.9066 96,-243.9066 20,-243.9066 20,-243.9066 14,-243.9066 8,-237.9066 8,-231.9066 8,-231.9066 8,-141.9533 8,-141.9533 8,-135.9533 14,-129.9533 20,-129.9533\"/>\n<text text-anchor=\"middle\" x=\"81\" y=\"-137.7533\" font-family=\"Times,serif\" font-size=\"14.00\" fill=\"#000000\">19 x 2</text>\n</g>\n<g id=\"clust2\" class=\"cluster\">\n<title>cluster19</title>\n<path fill=\"none\" stroke=\"#000000\" d=\"M128,-129.9533C128,-129.9533 208,-129.9533 208,-129.9533 214,-129.9533 220,-135.9533 220,-141.9533 220,-141.9533 220,-231.9066 220,-231.9066 220,-237.9066 214,-243.9066 208,-243.9066 208,-243.9066 128,-243.9066 128,-243.9066 122,-243.9066 116,-237.9066 116,-231.9066 116,-231.9066 116,-141.9533 116,-141.9533 116,-135.9533 122,-129.9533 128,-129.9533\"/>\n<text text-anchor=\"middle\" x=\"204\" y=\"-137.7533\" font-family=\"Times,serif\" font-size=\"14.00\" fill=\"#000000\">19</text>\n</g>\n<g id=\"clust3\" class=\"cluster\">\n<title>cluster60</title>\n<path fill=\"none\" stroke=\"#000000\" d=\"M75,-8C75,-8 151,-8 151,-8 157,-8 163,-14 163,-20 163,-20 163,-109.9533 163,-109.9533 163,-115.9533 157,-121.9533 151,-121.9533 151,-121.9533 75,-121.9533 75,-121.9533 69,-121.9533 63,-115.9533 63,-109.9533 63,-109.9533 63,-20 63,-20 63,-14 69,-8 75,-8\"/>\n<text text-anchor=\"middle\" x=\"147\" y=\"-15.8\" font-family=\"Times,serif\" font-size=\"14.00\" fill=\"#000000\">60</text>\n</g>\n<!-- μ -->\n<g id=\"node1\" class=\"node\">\n<title>μ</title>\n<ellipse fill=\"none\" stroke=\"#000000\" cx=\"58\" cy=\"-198.43\" rx=\"42.3529\" ry=\"37.4533\"/>\n<text text-anchor=\"middle\" x=\"58\" y=\"-209.73\" font-family=\"Times,serif\" font-size=\"14.00\" fill=\"#000000\">μ</text>\n<text text-anchor=\"middle\" x=\"58\" y=\"-194.73\" font-family=\"Times,serif\" font-size=\"14.00\" fill=\"#000000\">~</text>\n<text text-anchor=\"middle\" x=\"58\" y=\"-179.73\" font-family=\"Times,serif\" font-size=\"14.00\" fill=\"#000000\">Normal</text>\n</g>\n<!-- y -->\n<g id=\"node3\" class=\"node\">\n<title>y</title>\n<ellipse fill=\"#d3d3d3\" stroke=\"#000000\" cx=\"113\" cy=\"-76.4767\" rx=\"42.3529\" ry=\"37.4533\"/>\n<text text-anchor=\"middle\" x=\"113\" y=\"-87.7767\" font-family=\"Times,serif\" font-size=\"14.00\" fill=\"#000000\">y</text>\n<text text-anchor=\"middle\" x=\"113\" y=\"-72.7767\" font-family=\"Times,serif\" font-size=\"14.00\" fill=\"#000000\">~</text>\n<text text-anchor=\"middle\" x=\"113\" y=\"-57.7767\" font-family=\"Times,serif\" font-size=\"14.00\" fill=\"#000000\">Normal</text>\n</g>\n<!-- μ&#45;&gt;y -->\n<g id=\"edge2\" class=\"edge\">\n<title>μ&#45;&gt;y</title>\n<path fill=\"none\" stroke=\"#000000\" d=\"M73.7608,-163.4831C79.7443,-150.2155 86.6407,-134.924 92.9667,-120.8971\"/>\n<polygon fill=\"#000000\" stroke=\"#000000\" points=\"96.3162,-121.9835 97.2369,-111.4287 89.9351,-119.1056 96.3162,-121.9835\"/>\n</g>\n<!-- σ -->\n<g id=\"node2\" class=\"node\">\n<title>σ</title>\n<ellipse fill=\"none\" stroke=\"#000000\" cx=\"168\" cy=\"-198.43\" rx=\"43.6818\" ry=\"37.4533\"/>\n<text text-anchor=\"middle\" x=\"168\" y=\"-209.73\" font-family=\"Times,serif\" font-size=\"14.00\" fill=\"#000000\">σ</text>\n<text text-anchor=\"middle\" x=\"168\" y=\"-194.73\" font-family=\"Times,serif\" font-size=\"14.00\" fill=\"#000000\">~</text>\n<text text-anchor=\"middle\" x=\"168\" y=\"-179.73\" font-family=\"Times,serif\" font-size=\"14.00\" fill=\"#000000\">Gamma</text>\n</g>\n<!-- σ&#45;&gt;y -->\n<g id=\"edge1\" class=\"edge\">\n<title>σ&#45;&gt;y</title>\n<path fill=\"none\" stroke=\"#000000\" d=\"M152.0917,-163.156C146.163,-150.01 139.3544,-134.9131 133.098,-121.0407\"/>\n<polygon fill=\"#000000\" stroke=\"#000000\" points=\"136.1743,-119.3482 128.8725,-111.6713 129.7932,-122.2261 136.1743,-119.3482\"/>\n</g>\n</g>\n</svg>\n"
          },
          "metadata": {},
          "execution_count": 9
        }
      ]
    },
    {
      "cell_type": "code",
      "metadata": {
        "id": "located-network",
        "colab": {
          "base_uri": "https://localhost:8080/",
          "height": 251
        },
        "outputId": "d56ec9c5-cf02-48de-9824-f39ce3e04f4b"
      },
      "source": [
        "with no_pooling:\n",
        "    no_pooling_trace = pm.sample()"
      ],
      "id": "located-network",
      "execution_count": 10,
      "outputs": [
        {
          "output_type": "stream",
          "name": "stderr",
          "text": [
            "/usr/local/lib/python3.7/dist-packages/ipykernel_launcher.py:2: FutureWarning: In v4.0, pm.sample will return an `arviz.InferenceData` object instead of a `MultiTrace` by default. You can pass return_inferencedata=True or return_inferencedata=False to be safe and silence this warning.\n",
            "  \n",
            "Auto-assigning NUTS sampler...\n",
            "Initializing NUTS using jitter+adapt_diag...\n",
            "Sequential sampling (2 chains in 1 job)\n",
            "NUTS: [σ, μ]\n"
          ]
        },
        {
          "output_type": "display_data",
          "data": {
            "text/html": [
              "\n",
              "    <div>\n",
              "        <style>\n",
              "            /* Turns off some styling */\n",
              "            progress {\n",
              "                /* gets rid of default border in Firefox and Opera. */\n",
              "                border: none;\n",
              "                /* Needs to be in here for Safari polyfill so background images work as expected. */\n",
              "                background-size: auto;\n",
              "            }\n",
              "            .progress-bar-interrupted, .progress-bar-interrupted::-webkit-progress-bar {\n",
              "                background: #F44336;\n",
              "            }\n",
              "        </style>\n",
              "      <progress value='2000' class='' max='2000' style='width:300px; height:20px; vertical-align: middle;'></progress>\n",
              "      100.00% [2000/2000 00:12<00:00 Sampling chain 0, 91 divergences]\n",
              "    </div>\n",
              "    "
            ],
            "text/plain": [
              "<IPython.core.display.HTML object>"
            ]
          },
          "metadata": {}
        },
        {
          "output_type": "display_data",
          "data": {
            "text/html": [
              "\n",
              "    <div>\n",
              "        <style>\n",
              "            /* Turns off some styling */\n",
              "            progress {\n",
              "                /* gets rid of default border in Firefox and Opera. */\n",
              "                border: none;\n",
              "                /* Needs to be in here for Safari polyfill so background images work as expected. */\n",
              "                background-size: auto;\n",
              "            }\n",
              "            .progress-bar-interrupted, .progress-bar-interrupted::-webkit-progress-bar {\n",
              "                background: #F44336;\n",
              "            }\n",
              "        </style>\n",
              "      <progress value='2000' class='' max='2000' style='width:300px; height:20px; vertical-align: middle;'></progress>\n",
              "      100.00% [2000/2000 00:12<00:00 Sampling chain 1, 155 divergences]\n",
              "    </div>\n",
              "    "
            ],
            "text/plain": [
              "<IPython.core.display.HTML object>"
            ]
          },
          "metadata": {}
        },
        {
          "output_type": "stream",
          "name": "stderr",
          "text": [
            "Sampling 2 chains for 1_000 tune and 1_000 draw iterations (2_000 + 2_000 draws total) took 24 seconds.\n",
            "There were 91 divergences after tuning. Increase `target_accept` or reparameterize.\n",
            "There were 246 divergences after tuning. Increase `target_accept` or reparameterize.\n",
            "The estimated number of effective samples is smaller than 200 for some parameters.\n"
          ]
        }
      ]
    },
    {
      "cell_type": "code",
      "metadata": {
        "id": "naked-shift",
        "colab": {
          "base_uri": "https://localhost:8080/",
          "height": 531
        },
        "outputId": "ea4fae13-c017-45ab-8333-d2339991c8cc"
      },
      "source": [
        "def build_partial_pooled_model(J, n_conditions, j, X, y):\n",
        "    \n",
        "    with pm.Model() as model:\n",
        "        # hyperpriors for slope, intercept, noise across design space\n",
        "        μ̄_ = pm.Normal(\"μ̄\", 0, sigma=1, shape=n_conditions)  # mean for effects prior\n",
        "        σμ_ = pm.HalfNormal(\"σ_μ\", sigma=1, shape=n_conditions)  # std for effects prior \n",
        "        μσ_ = pm.HalfNormal(\"μ_σ\", sigma=1)  # scale parameter for noise prior\n",
        "\n",
        "        # Prior for noise\n",
        "\n",
        "        μ_ = pm.Normal(\"μ\", mu=μ̄_, sigma=σμ_, shape=(J, n_conditions))\n",
        "        σ_ = pm.Gamma(\"σ\", alpha=2, beta=μσ_, shape=J)\n",
        "\n",
        "        # Observations sampled with gaussian noise\n",
        "        y_ = pm.Normal(\"y\", mu=μ_[j,X], sd=σ_[j], observed=y)\n",
        "        \n",
        "    return model\n",
        "        \n",
        "    \n",
        "partial_pooling = build_partial_pooled_model(J, n_conditions, j, X, y)\n",
        "pm.model_to_graphviz(partial_pooling)"
      ],
      "id": "naked-shift",
      "execution_count": 11,
      "outputs": [
        {
          "output_type": "execute_result",
          "data": {
            "text/plain": [
              "<graphviz.dot.Digraph at 0x7fe4ef366750>"
            ],
            "image/svg+xml": "<?xml version=\"1.0\" encoding=\"UTF-8\" standalone=\"no\"?>\n<!DOCTYPE svg PUBLIC \"-//W3C//DTD SVG 1.1//EN\"\n \"http://www.w3.org/Graphics/SVG/1.1/DTD/svg11.dtd\">\n<!-- Generated by graphviz version 2.40.1 (20161225.0304)\n -->\n<!-- Title: %3 Pages: 1 -->\n<svg width=\"385pt\" height=\"382pt\"\n viewBox=\"0.00 0.00 385.10 381.86\" xmlns=\"http://www.w3.org/2000/svg\" xmlns:xlink=\"http://www.w3.org/1999/xlink\">\n<g id=\"graph0\" class=\"graph\" transform=\"scale(1 1) rotate(0) translate(4 377.86)\">\n<title>%3</title>\n<polygon fill=\"#ffffff\" stroke=\"transparent\" points=\"-4,4 -4,-377.86 381.1041,-377.86 381.1041,4 -4,4\"/>\n<g id=\"clust2\" class=\"cluster\">\n<title>cluster19 x 2</title>\n<path fill=\"none\" stroke=\"#000000\" d=\"M141,-129.9533C141,-129.9533 217,-129.9533 217,-129.9533 223,-129.9533 229,-135.9533 229,-141.9533 229,-141.9533 229,-231.9066 229,-231.9066 229,-237.9066 223,-243.9066 217,-243.9066 217,-243.9066 141,-243.9066 141,-243.9066 135,-243.9066 129,-237.9066 129,-231.9066 129,-231.9066 129,-141.9533 129,-141.9533 129,-135.9533 135,-129.9533 141,-129.9533\"/>\n<text text-anchor=\"middle\" x=\"202\" y=\"-137.7533\" font-family=\"Times,serif\" font-size=\"14.00\" fill=\"#000000\">19 x 2</text>\n</g>\n<g id=\"clust3\" class=\"cluster\">\n<title>cluster19</title>\n<path fill=\"none\" stroke=\"#000000\" d=\"M263,-129.9533C263,-129.9533 343,-129.9533 343,-129.9533 349,-129.9533 355,-135.9533 355,-141.9533 355,-141.9533 355,-231.9066 355,-231.9066 355,-237.9066 349,-243.9066 343,-243.9066 343,-243.9066 263,-243.9066 263,-243.9066 257,-243.9066 251,-237.9066 251,-231.9066 251,-231.9066 251,-141.9533 251,-141.9533 251,-135.9533 257,-129.9533 263,-129.9533\"/>\n<text text-anchor=\"middle\" x=\"339\" y=\"-137.7533\" font-family=\"Times,serif\" font-size=\"14.00\" fill=\"#000000\">19</text>\n</g>\n<g id=\"clust4\" class=\"cluster\">\n<title>cluster60</title>\n<path fill=\"none\" stroke=\"#000000\" d=\"M196,-8C196,-8 272,-8 272,-8 278,-8 284,-14 284,-20 284,-20 284,-109.9533 284,-109.9533 284,-115.9533 278,-121.9533 272,-121.9533 272,-121.9533 196,-121.9533 196,-121.9533 190,-121.9533 184,-115.9533 184,-109.9533 184,-109.9533 184,-20 184,-20 184,-14 190,-8 196,-8\"/>\n<text text-anchor=\"middle\" x=\"268\" y=\"-15.8\" font-family=\"Times,serif\" font-size=\"14.00\" fill=\"#000000\">60</text>\n</g>\n<g id=\"clust1\" class=\"cluster\">\n<title>cluster2</title>\n<path fill=\"none\" stroke=\"#000000\" d=\"M20,-251.9066C20,-251.9066 235,-251.9066 235,-251.9066 241,-251.9066 247,-257.9066 247,-263.9066 247,-263.9066 247,-353.86 247,-353.86 247,-359.86 241,-365.86 235,-365.86 235,-365.86 20,-365.86 20,-365.86 14,-365.86 8,-359.86 8,-353.86 8,-353.86 8,-263.9066 8,-263.9066 8,-257.9066 14,-251.9066 20,-251.9066\"/>\n<text text-anchor=\"middle\" x=\"235\" y=\"-259.7066\" font-family=\"Times,serif\" font-size=\"14.00\" fill=\"#000000\">2</text>\n</g>\n<!-- σ_μ -->\n<g id=\"node1\" class=\"node\">\n<title>σ_μ</title>\n<ellipse fill=\"none\" stroke=\"#000000\" cx=\"179\" cy=\"-320.3833\" rx=\"60.2083\" ry=\"37.4533\"/>\n<text text-anchor=\"middle\" x=\"179\" y=\"-331.6833\" font-family=\"Times,serif\" font-size=\"14.00\" fill=\"#000000\">σ_μ</text>\n<text text-anchor=\"middle\" x=\"179\" y=\"-316.6833\" font-family=\"Times,serif\" font-size=\"14.00\" fill=\"#000000\">~</text>\n<text text-anchor=\"middle\" x=\"179\" y=\"-301.6833\" font-family=\"Times,serif\" font-size=\"14.00\" fill=\"#000000\">HalfNormal</text>\n</g>\n<!-- μ -->\n<g id=\"node4\" class=\"node\">\n<title>μ</title>\n<ellipse fill=\"none\" stroke=\"#000000\" cx=\"179\" cy=\"-198.43\" rx=\"42.3529\" ry=\"37.4533\"/>\n<text text-anchor=\"middle\" x=\"179\" y=\"-209.73\" font-family=\"Times,serif\" font-size=\"14.00\" fill=\"#000000\">μ</text>\n<text text-anchor=\"middle\" x=\"179\" y=\"-194.73\" font-family=\"Times,serif\" font-size=\"14.00\" fill=\"#000000\">~</text>\n<text text-anchor=\"middle\" x=\"179\" y=\"-179.73\" font-family=\"Times,serif\" font-size=\"14.00\" fill=\"#000000\">Normal</text>\n</g>\n<!-- σ_μ&#45;&gt;μ -->\n<g id=\"edge1\" class=\"edge\">\n<title>σ_μ&#45;&gt;μ</title>\n<path fill=\"none\" stroke=\"#000000\" d=\"M179,-282.7982C179,-271.2068 179,-258.2861 179,-246.1091\"/>\n<polygon fill=\"#000000\" stroke=\"#000000\" points=\"182.5001,-246.1009 179,-236.1009 175.5001,-246.101 182.5001,-246.1009\"/>\n</g>\n<!-- μ̄ -->\n<g id=\"node2\" class=\"node\">\n<title>μ̄</title>\n<ellipse fill=\"none\" stroke=\"#000000\" cx=\"58\" cy=\"-320.3833\" rx=\"42.3529\" ry=\"37.4533\"/>\n<text text-anchor=\"middle\" x=\"58\" y=\"-331.6833\" font-family=\"Times,serif\" font-size=\"14.00\" fill=\"#000000\">μ̄</text>\n<text text-anchor=\"middle\" x=\"58\" y=\"-316.6833\" font-family=\"Times,serif\" font-size=\"14.00\" fill=\"#000000\">~</text>\n<text text-anchor=\"middle\" x=\"58\" y=\"-301.6833\" font-family=\"Times,serif\" font-size=\"14.00\" fill=\"#000000\">Normal</text>\n</g>\n<!-- μ̄&#45;&gt;μ -->\n<g id=\"edge2\" class=\"edge\">\n<title>μ̄&#45;&gt;μ</title>\n<path fill=\"none\" stroke=\"#000000\" d=\"M79.9276,-287.9492C88.6508,-276.051 99.1816,-262.8321 110,-251.9066 118.3303,-243.4939 128.0015,-235.236 137.4197,-227.8218\"/>\n<polygon fill=\"#000000\" stroke=\"#000000\" points=\"139.7956,-230.41 145.591,-221.5407 135.5296,-224.8601 139.7956,-230.41\"/>\n</g>\n<!-- μ_σ -->\n<g id=\"node3\" class=\"node\">\n<title>μ_σ</title>\n<ellipse fill=\"none\" stroke=\"#000000\" cx=\"317\" cy=\"-320.3833\" rx=\"60.2083\" ry=\"37.4533\"/>\n<text text-anchor=\"middle\" x=\"317\" y=\"-331.6833\" font-family=\"Times,serif\" font-size=\"14.00\" fill=\"#000000\">μ_σ</text>\n<text text-anchor=\"middle\" x=\"317\" y=\"-316.6833\" font-family=\"Times,serif\" font-size=\"14.00\" fill=\"#000000\">~</text>\n<text text-anchor=\"middle\" x=\"317\" y=\"-301.6833\" font-family=\"Times,serif\" font-size=\"14.00\" fill=\"#000000\">HalfNormal</text>\n</g>\n<!-- σ -->\n<g id=\"node5\" class=\"node\">\n<title>σ</title>\n<ellipse fill=\"none\" stroke=\"#000000\" cx=\"303\" cy=\"-198.43\" rx=\"43.6818\" ry=\"37.4533\"/>\n<text text-anchor=\"middle\" x=\"303\" y=\"-209.73\" font-family=\"Times,serif\" font-size=\"14.00\" fill=\"#000000\">σ</text>\n<text text-anchor=\"middle\" x=\"303\" y=\"-194.73\" font-family=\"Times,serif\" font-size=\"14.00\" fill=\"#000000\">~</text>\n<text text-anchor=\"middle\" x=\"303\" y=\"-179.73\" font-family=\"Times,serif\" font-size=\"14.00\" fill=\"#000000\">Gamma</text>\n</g>\n<!-- μ_σ&#45;&gt;σ -->\n<g id=\"edge3\" class=\"edge\">\n<title>μ_σ&#45;&gt;σ</title>\n<path fill=\"none\" stroke=\"#000000\" d=\"M312.6853,-282.7982C311.3546,-271.2068 309.8714,-258.2861 308.4735,-246.1091\"/>\n<polygon fill=\"#000000\" stroke=\"#000000\" points=\"311.9423,-245.6365 307.3245,-236.1009 304.988,-246.4349 311.9423,-245.6365\"/>\n</g>\n<!-- y -->\n<g id=\"node6\" class=\"node\">\n<title>y</title>\n<ellipse fill=\"#d3d3d3\" stroke=\"#000000\" cx=\"234\" cy=\"-76.4767\" rx=\"42.3529\" ry=\"37.4533\"/>\n<text text-anchor=\"middle\" x=\"234\" y=\"-87.7767\" font-family=\"Times,serif\" font-size=\"14.00\" fill=\"#000000\">y</text>\n<text text-anchor=\"middle\" x=\"234\" y=\"-72.7767\" font-family=\"Times,serif\" font-size=\"14.00\" fill=\"#000000\">~</text>\n<text text-anchor=\"middle\" x=\"234\" y=\"-57.7767\" font-family=\"Times,serif\" font-size=\"14.00\" fill=\"#000000\">Normal</text>\n</g>\n<!-- μ&#45;&gt;y -->\n<g id=\"edge5\" class=\"edge\">\n<title>μ&#45;&gt;y</title>\n<path fill=\"none\" stroke=\"#000000\" d=\"M194.7608,-163.4831C200.7443,-150.2155 207.6407,-134.924 213.9667,-120.8971\"/>\n<polygon fill=\"#000000\" stroke=\"#000000\" points=\"217.3162,-121.9835 218.2369,-111.4287 210.9351,-119.1056 217.3162,-121.9835\"/>\n</g>\n<!-- σ&#45;&gt;y -->\n<g id=\"edge4\" class=\"edge\">\n<title>σ&#45;&gt;y</title>\n<path fill=\"none\" stroke=\"#000000\" d=\"M283.7797,-164.4592C275.8543,-150.4516 266.5808,-134.0612 258.2001,-119.2488\"/>\n<polygon fill=\"#000000\" stroke=\"#000000\" points=\"261.0879,-117.2452 253.1173,-110.2653 254.9954,-120.6923 261.0879,-117.2452\"/>\n</g>\n</g>\n</svg>\n"
          },
          "metadata": {},
          "execution_count": 11
        }
      ]
    },
    {
      "cell_type": "code",
      "metadata": {
        "id": "incorporate-thong",
        "colab": {
          "base_uri": "https://localhost:8080/",
          "height": 303
        },
        "outputId": "601b7f81-1591-4be0-cc86-96b71fe74af6"
      },
      "source": [
        "with partial_pooling:\n",
        "    partial_pooling_trace = pm.sample()"
      ],
      "id": "incorporate-thong",
      "execution_count": 12,
      "outputs": [
        {
          "output_type": "stream",
          "name": "stderr",
          "text": [
            "/usr/local/lib/python3.7/dist-packages/ipykernel_launcher.py:2: FutureWarning: In v4.0, pm.sample will return an `arviz.InferenceData` object instead of a `MultiTrace` by default. You can pass return_inferencedata=True or return_inferencedata=False to be safe and silence this warning.\n",
            "  \n",
            "Auto-assigning NUTS sampler...\n",
            "Initializing NUTS using jitter+adapt_diag...\n",
            "Sequential sampling (2 chains in 1 job)\n",
            "NUTS: [σ, μ, μ_σ, σ_μ, μ̄]\n"
          ]
        },
        {
          "output_type": "display_data",
          "data": {
            "text/html": [
              "\n",
              "    <div>\n",
              "        <style>\n",
              "            /* Turns off some styling */\n",
              "            progress {\n",
              "                /* gets rid of default border in Firefox and Opera. */\n",
              "                border: none;\n",
              "                /* Needs to be in here for Safari polyfill so background images work as expected. */\n",
              "                background-size: auto;\n",
              "            }\n",
              "            .progress-bar-interrupted, .progress-bar-interrupted::-webkit-progress-bar {\n",
              "                background: #F44336;\n",
              "            }\n",
              "        </style>\n",
              "      <progress value='2000' class='' max='2000' style='width:300px; height:20px; vertical-align: middle;'></progress>\n",
              "      100.00% [2000/2000 00:21<00:00 Sampling chain 0, 401 divergences]\n",
              "    </div>\n",
              "    "
            ],
            "text/plain": [
              "<IPython.core.display.HTML object>"
            ]
          },
          "metadata": {}
        },
        {
          "output_type": "display_data",
          "data": {
            "text/html": [
              "\n",
              "    <div>\n",
              "        <style>\n",
              "            /* Turns off some styling */\n",
              "            progress {\n",
              "                /* gets rid of default border in Firefox and Opera. */\n",
              "                border: none;\n",
              "                /* Needs to be in here for Safari polyfill so background images work as expected. */\n",
              "                background-size: auto;\n",
              "            }\n",
              "            .progress-bar-interrupted, .progress-bar-interrupted::-webkit-progress-bar {\n",
              "                background: #F44336;\n",
              "            }\n",
              "        </style>\n",
              "      <progress value='2000' class='' max='2000' style='width:300px; height:20px; vertical-align: middle;'></progress>\n",
              "      100.00% [2000/2000 00:21<00:00 Sampling chain 1, 295 divergences]\n",
              "    </div>\n",
              "    "
            ],
            "text/plain": [
              "<IPython.core.display.HTML object>"
            ]
          },
          "metadata": {}
        },
        {
          "output_type": "stream",
          "name": "stderr",
          "text": [
            "Sampling 2 chains for 1_000 tune and 1_000 draw iterations (2_000 + 2_000 draws total) took 43 seconds.\n",
            "There were 401 divergences after tuning. Increase `target_accept` or reparameterize.\n",
            "The acceptance probability does not match the target. It is 0.7039212695671084, but should be close to 0.8. Try to increase the number of tuning steps.\n",
            "There were 697 divergences after tuning. Increase `target_accept` or reparameterize.\n",
            "The acceptance probability does not match the target. It is 0.7083251232863863, but should be close to 0.8. Try to increase the number of tuning steps.\n",
            "The rhat statistic is larger than 1.05 for some parameters. This indicates slight problems during sampling.\n",
            "The estimated number of effective samples is smaller than 200 for some parameters.\n"
          ]
        }
      ]
    },
    {
      "cell_type": "code",
      "metadata": {
        "id": "external-tactics",
        "colab": {
          "base_uri": "https://localhost:8080/",
          "height": 812
        },
        "outputId": "ef23a4c6-492a-4205-e313-5baf70e7de91"
      },
      "source": [
        "def build_functional_partial_pooled_model(J, n_conditions, j, X, y, ds, n_facets, d_index):\n",
        "    \n",
        "    with pm.Model() as model:\n",
        "        \n",
        "        # hyper-hyperpriors for gaussian process\n",
        "        gp_length_scale_ = pm.Gamma(\"GP_length_Scale\", alpha=2, beta=1, shape=n_facets)  # allow a different length scale for each facet\n",
        "        \n",
        "        # hyperpriors for slope and intercept\n",
        "        cov_func = pm.gp.cov.ExpQuad(n_facets, ls=gp_length_scale_)\n",
        "        gp_μ̄_ = [pm.gp.Latent(cov_func=cov_func) for i in range(n_conditions)]  # one GP for each treatment\n",
        "        μ̄_ = pm.Deterministic(\"μ̄\", pm.math.stack([gpi.prior(\"μ̄_X%i\"%i, X=ds, shape=len(ds)) for i, gpi in enumerate(gp_μ̄_)]).T)  # mean for effects prior\n",
        "      \n",
        "        σμ_ = pm.HalfNormal(\"σ_μ\", sigma=1, shape=n_conditions)  \n",
        "        μσ_ = pm.HalfNormal(\"μ_σ\", sigma=1)  # scale parameter for noise prior\n",
        "    \n",
        "        # Prior for noise\n",
        "\n",
        "        μ_ = pm.Normal(\"μ\", mu=μ̄_[d_index,:], sigma=σμ_, shape=(J, n_conditions))\n",
        "        σ_ = pm.Gamma(\"σ\", alpha=2, beta=μσ_, shape=J)\n",
        "\n",
        "        # Observations sampled with gaussian noise\n",
        "        y_ = pm.Normal(\"y\", mu=μ_[j,X], sd=σ_[j], observed=y)\n",
        "        \n",
        "    return model\n",
        "        \n",
        "    \n",
        "functional_partial_pooling = build_functional_partial_pooled_model(J, n_conditions, j, X, y, ds, n_facets, d_index)\n",
        "pm.model_to_graphviz(functional_partial_pooling)\n",
        "\n"
      ],
      "id": "external-tactics",
      "execution_count": 13,
      "outputs": [
        {
          "output_type": "execute_result",
          "data": {
            "text/plain": [
              "<graphviz.dot.Digraph at 0x7fe4d859ed50>"
            ],
            "image/svg+xml": "<?xml version=\"1.0\" encoding=\"UTF-8\" standalone=\"no\"?>\n<!DOCTYPE svg PUBLIC \"-//W3C//DTD SVG 1.1//EN\"\n \"http://www.w3.org/Graphics/SVG/1.1/DTD/svg11.dtd\">\n<!-- Generated by graphviz version 2.40.1 (20161225.0304)\n -->\n<!-- Title: %3 Pages: 1 -->\n<svg width=\"565pt\" height=\"593pt\"\n viewBox=\"0.00 0.00 565.13 592.81\" xmlns=\"http://www.w3.org/2000/svg\" xmlns:xlink=\"http://www.w3.org/1999/xlink\">\n<g id=\"graph0\" class=\"graph\" transform=\"scale(1 1) rotate(0) translate(4 588.8133)\">\n<title>%3</title>\n<polygon fill=\"#ffffff\" stroke=\"transparent\" points=\"-4,4 -4,-588.8133 561.1285,-588.8133 561.1285,4 -4,4\"/>\n<g id=\"clust1\" class=\"cluster\">\n<title>cluster14</title>\n<path fill=\"none\" stroke=\"#000000\" d=\"M28.1041,-373.86C28.1041,-373.86 371.1041,-373.86 371.1041,-373.86 377.1041,-373.86 383.1041,-379.86 383.1041,-385.86 383.1041,-385.86 383.1041,-564.8133 383.1041,-564.8133 383.1041,-570.8133 377.1041,-576.8133 371.1041,-576.8133 371.1041,-576.8133 28.1041,-576.8133 28.1041,-576.8133 22.1041,-576.8133 16.1041,-570.8133 16.1041,-564.8133 16.1041,-564.8133 16.1041,-385.86 16.1041,-385.86 16.1041,-379.86 22.1041,-373.86 28.1041,-373.86\"/>\n<text text-anchor=\"middle\" x=\"367.1041\" y=\"-381.66\" font-family=\"Times,serif\" font-size=\"14.00\" fill=\"#000000\">14</text>\n</g>\n<g id=\"clust2\" class=\"cluster\">\n<title>cluster14 x 2</title>\n<path fill=\"none\" stroke=\"#000000\" d=\"M142.1041,-262.8833C142.1041,-262.8833 226.1041,-262.8833 226.1041,-262.8833 232.1041,-262.8833 238.1041,-268.8833 238.1041,-274.8833 238.1041,-274.8833 238.1041,-342.8833 238.1041,-342.8833 238.1041,-348.8833 232.1041,-354.8833 226.1041,-354.8833 226.1041,-354.8833 142.1041,-354.8833 142.1041,-354.8833 136.1041,-354.8833 130.1041,-348.8833 130.1041,-342.8833 130.1041,-342.8833 130.1041,-274.8833 130.1041,-274.8833 130.1041,-268.8833 136.1041,-262.8833 142.1041,-262.8833\"/>\n<text text-anchor=\"middle\" x=\"211.1041\" y=\"-270.6833\" font-family=\"Times,serif\" font-size=\"14.00\" fill=\"#000000\">14 x 2</text>\n</g>\n<g id=\"clust4\" class=\"cluster\">\n<title>cluster19 x 2</title>\n<path fill=\"none\" stroke=\"#000000\" d=\"M146.1041,-129.9533C146.1041,-129.9533 222.1041,-129.9533 222.1041,-129.9533 228.1041,-129.9533 234.1041,-135.9533 234.1041,-141.9533 234.1041,-141.9533 234.1041,-231.9066 234.1041,-231.9066 234.1041,-237.9066 228.1041,-243.9066 222.1041,-243.9066 222.1041,-243.9066 146.1041,-243.9066 146.1041,-243.9066 140.1041,-243.9066 134.1041,-237.9066 134.1041,-231.9066 134.1041,-231.9066 134.1041,-141.9533 134.1041,-141.9533 134.1041,-135.9533 140.1041,-129.9533 146.1041,-129.9533\"/>\n<text text-anchor=\"middle\" x=\"207.1041\" y=\"-137.7533\" font-family=\"Times,serif\" font-size=\"14.00\" fill=\"#000000\">19 x 2</text>\n</g>\n<g id=\"clust5\" class=\"cluster\">\n<title>cluster19</title>\n<path fill=\"none\" stroke=\"#000000\" d=\"M32.1041,-129.9533C32.1041,-129.9533 112.1041,-129.9533 112.1041,-129.9533 118.1041,-129.9533 124.1041,-135.9533 124.1041,-141.9533 124.1041,-141.9533 124.1041,-231.9066 124.1041,-231.9066 124.1041,-237.9066 118.1041,-243.9066 112.1041,-243.9066 112.1041,-243.9066 32.1041,-243.9066 32.1041,-243.9066 26.1041,-243.9066 20.1041,-237.9066 20.1041,-231.9066 20.1041,-231.9066 20.1041,-141.9533 20.1041,-141.9533 20.1041,-135.9533 26.1041,-129.9533 32.1041,-129.9533\"/>\n<text text-anchor=\"middle\" x=\"108.1041\" y=\"-137.7533\" font-family=\"Times,serif\" font-size=\"14.00\" fill=\"#000000\">19</text>\n</g>\n<g id=\"clust6\" class=\"cluster\">\n<title>cluster60</title>\n<path fill=\"none\" stroke=\"#000000\" d=\"M90.1041,-8C90.1041,-8 166.1041,-8 166.1041,-8 172.1041,-8 178.1041,-14 178.1041,-20 178.1041,-20 178.1041,-109.9533 178.1041,-109.9533 178.1041,-115.9533 172.1041,-121.9533 166.1041,-121.9533 166.1041,-121.9533 90.1041,-121.9533 90.1041,-121.9533 84.1041,-121.9533 78.1041,-115.9533 78.1041,-109.9533 78.1041,-109.9533 78.1041,-20 78.1041,-20 78.1041,-14 84.1041,-8 90.1041,-8\"/>\n<text text-anchor=\"middle\" x=\"162.1041\" y=\"-15.8\" font-family=\"Times,serif\" font-size=\"14.00\" fill=\"#000000\">60</text>\n</g>\n<g id=\"clust3\" class=\"cluster\">\n<title>cluster2</title>\n<path fill=\"none\" stroke=\"#000000\" d=\"M258.1041,-251.9066C258.1041,-251.9066 370.1041,-251.9066 370.1041,-251.9066 376.1041,-251.9066 382.1041,-257.9066 382.1041,-263.9066 382.1041,-263.9066 382.1041,-353.86 382.1041,-353.86 382.1041,-359.86 376.1041,-365.86 370.1041,-365.86 370.1041,-365.86 258.1041,-365.86 258.1041,-365.86 252.1041,-365.86 246.1041,-359.86 246.1041,-353.86 246.1041,-353.86 246.1041,-263.9066 246.1041,-263.9066 246.1041,-257.9066 252.1041,-251.9066 258.1041,-251.9066\"/>\n<text text-anchor=\"middle\" x=\"370.1041\" y=\"-259.7066\" font-family=\"Times,serif\" font-size=\"14.00\" fill=\"#000000\">2</text>\n</g>\n<!-- μ_σ -->\n<g id=\"node1\" class=\"node\">\n<title>μ_σ</title>\n<ellipse fill=\"none\" stroke=\"#000000\" cx=\"60.1041\" cy=\"-320.3833\" rx=\"60.2083\" ry=\"37.4533\"/>\n<text text-anchor=\"middle\" x=\"60.1041\" y=\"-331.6833\" font-family=\"Times,serif\" font-size=\"14.00\" fill=\"#000000\">μ_σ</text>\n<text text-anchor=\"middle\" x=\"60.1041\" y=\"-316.6833\" font-family=\"Times,serif\" font-size=\"14.00\" fill=\"#000000\">~</text>\n<text text-anchor=\"middle\" x=\"60.1041\" y=\"-301.6833\" font-family=\"Times,serif\" font-size=\"14.00\" fill=\"#000000\">HalfNormal</text>\n</g>\n<!-- σ -->\n<g id=\"node10\" class=\"node\">\n<title>σ</title>\n<ellipse fill=\"none\" stroke=\"#000000\" cx=\"72.1041\" cy=\"-198.43\" rx=\"43.6818\" ry=\"37.4533\"/>\n<text text-anchor=\"middle\" x=\"72.1041\" y=\"-209.73\" font-family=\"Times,serif\" font-size=\"14.00\" fill=\"#000000\">σ</text>\n<text text-anchor=\"middle\" x=\"72.1041\" y=\"-194.73\" font-family=\"Times,serif\" font-size=\"14.00\" fill=\"#000000\">~</text>\n<text text-anchor=\"middle\" x=\"72.1041\" y=\"-179.73\" font-family=\"Times,serif\" font-size=\"14.00\" fill=\"#000000\">Gamma</text>\n</g>\n<!-- μ_σ&#45;&gt;σ -->\n<g id=\"edge9\" class=\"edge\">\n<title>μ_σ&#45;&gt;σ</title>\n<path fill=\"none\" stroke=\"#000000\" d=\"M63.8024,-282.7982C64.943,-271.2068 66.2143,-258.2861 67.4125,-246.1091\"/>\n<polygon fill=\"#000000\" stroke=\"#000000\" points=\"70.9012,-246.3956 68.3973,-236.1009 63.9348,-245.7101 70.9012,-246.3956\"/>\n</g>\n<!-- GP_length_Scale -->\n<g id=\"node2\" class=\"node\">\n<title>GP_length_Scale</title>\n<ellipse fill=\"none\" stroke=\"#000000\" cx=\"475.1041\" cy=\"-531.3366\" rx=\"82.0488\" ry=\"37.4533\"/>\n<text text-anchor=\"middle\" x=\"475.1041\" y=\"-542.6366\" font-family=\"Times,serif\" font-size=\"14.00\" fill=\"#000000\">GP_length_Scale</text>\n<text text-anchor=\"middle\" x=\"475.1041\" y=\"-527.6366\" font-family=\"Times,serif\" font-size=\"14.00\" fill=\"#000000\">~</text>\n<text text-anchor=\"middle\" x=\"475.1041\" y=\"-512.6366\" font-family=\"Times,serif\" font-size=\"14.00\" fill=\"#000000\">Gamma</text>\n</g>\n<!-- μ̄_X1 -->\n<g id=\"node4\" class=\"node\">\n<title>μ̄_X1</title>\n<polygon fill=\"none\" stroke=\"#000000\" points=\"339.1041,-457.86 247.1041,-457.86 247.1041,-404.86 339.1041,-404.86 339.1041,-457.86\"/>\n<text text-anchor=\"middle\" x=\"293.1041\" y=\"-442.66\" font-family=\"Times,serif\" font-size=\"14.00\" fill=\"#000000\">μ̄_X1</text>\n<text text-anchor=\"middle\" x=\"293.1041\" y=\"-427.66\" font-family=\"Times,serif\" font-size=\"14.00\" fill=\"#000000\">~</text>\n<text text-anchor=\"middle\" x=\"293.1041\" y=\"-412.66\" font-family=\"Times,serif\" font-size=\"14.00\" fill=\"#000000\">Deterministic</text>\n</g>\n<!-- GP_length_Scale&#45;&gt;μ̄_X1 -->\n<g id=\"edge4\" class=\"edge\">\n<title>GP_length_Scale&#45;&gt;μ̄_X1</title>\n<path fill=\"none\" stroke=\"#000000\" d=\"M422.4621,-502.4192C399.0963,-489.5839 371.6007,-474.4799 347.9811,-461.5051\"/>\n<polygon fill=\"#000000\" stroke=\"#000000\" points=\"349.5849,-458.3929 339.1351,-456.6458 346.2146,-464.5281 349.5849,-458.3929\"/>\n</g>\n<!-- μ̄_X0 -->\n<g id=\"node6\" class=\"node\">\n<title>μ̄_X0</title>\n<polygon fill=\"none\" stroke=\"#000000\" points=\"229.1041,-457.86 137.1041,-457.86 137.1041,-404.86 229.1041,-404.86 229.1041,-457.86\"/>\n<text text-anchor=\"middle\" x=\"183.1041\" y=\"-442.66\" font-family=\"Times,serif\" font-size=\"14.00\" fill=\"#000000\">μ̄_X0</text>\n<text text-anchor=\"middle\" x=\"183.1041\" y=\"-427.66\" font-family=\"Times,serif\" font-size=\"14.00\" fill=\"#000000\">~</text>\n<text text-anchor=\"middle\" x=\"183.1041\" y=\"-412.66\" font-family=\"Times,serif\" font-size=\"14.00\" fill=\"#000000\">Deterministic</text>\n</g>\n<!-- GP_length_Scale&#45;&gt;μ̄_X0 -->\n<g id=\"edge2\" class=\"edge\">\n<title>GP_length_Scale&#45;&gt;μ̄_X0</title>\n<path fill=\"none\" stroke=\"#000000\" d=\"M416.4498,-504.7731C406.7494,-500.8396 396.7197,-497.0448 387.1041,-493.86 325.3366,-473.402 304.1644,-480.0855 238.8383,-457.8182\"/>\n<polygon fill=\"#000000\" stroke=\"#000000\" points=\"239.9134,-454.4863 229.3186,-454.4782 237.5959,-461.0915 239.9134,-454.4863\"/>\n</g>\n<!-- μ̄_X1_rotated_ -->\n<g id=\"node3\" class=\"node\">\n<title>μ̄_X1_rotated_</title>\n<ellipse fill=\"none\" stroke=\"#000000\" cx=\"292.1041\" cy=\"-531.3366\" rx=\"83.3772\" ry=\"37.4533\"/>\n<text text-anchor=\"middle\" x=\"292.1041\" y=\"-542.6366\" font-family=\"Times,serif\" font-size=\"14.00\" fill=\"#000000\">μ̄_X1_rotated_</text>\n<text text-anchor=\"middle\" x=\"292.1041\" y=\"-527.6366\" font-family=\"Times,serif\" font-size=\"14.00\" fill=\"#000000\">~</text>\n<text text-anchor=\"middle\" x=\"292.1041\" y=\"-512.6366\" font-family=\"Times,serif\" font-size=\"14.00\" fill=\"#000000\">Normal</text>\n</g>\n<!-- μ̄_X1_rotated_&#45;&gt;μ̄_X1 -->\n<g id=\"edge3\" class=\"edge\">\n<title>μ̄_X1_rotated_&#45;&gt;μ̄_X1</title>\n<path fill=\"none\" stroke=\"#000000\" d=\"M292.4793,-493.8246C292.5627,-485.4874 292.651,-476.6556 292.7342,-468.34\"/>\n<polygon fill=\"#000000\" stroke=\"#000000\" points=\"296.2357,-468.1936 292.836,-458.1591 289.2361,-468.1235 296.2357,-468.1936\"/>\n</g>\n<!-- μ̄ -->\n<g id=\"node7\" class=\"node\">\n<title>μ̄</title>\n<polygon fill=\"none\" stroke=\"#000000\" points=\"230.1041,-346.8833 138.1041,-346.8833 138.1041,-293.8833 230.1041,-293.8833 230.1041,-346.8833\"/>\n<text text-anchor=\"middle\" x=\"184.1041\" y=\"-331.6833\" font-family=\"Times,serif\" font-size=\"14.00\" fill=\"#000000\">μ̄</text>\n<text text-anchor=\"middle\" x=\"184.1041\" y=\"-316.6833\" font-family=\"Times,serif\" font-size=\"14.00\" fill=\"#000000\">~</text>\n<text text-anchor=\"middle\" x=\"184.1041\" y=\"-301.6833\" font-family=\"Times,serif\" font-size=\"14.00\" fill=\"#000000\">Deterministic</text>\n</g>\n<!-- μ̄_X1&#45;&gt;μ̄ -->\n<g id=\"edge5\" class=\"edge\">\n<title>μ̄_X1&#45;&gt;μ̄</title>\n<path fill=\"none\" stroke=\"#000000\" d=\"M267.7875,-404.592C258.5078,-394.8601 247.8838,-383.8109 238.1041,-373.86 231.8556,-367.5021 225.1441,-360.7755 218.6492,-354.3174\"/>\n<polygon fill=\"#000000\" stroke=\"#000000\" points=\"220.7307,-351.4526 211.1649,-346.8979 215.8025,-356.4238 220.7307,-351.4526\"/>\n</g>\n<!-- μ̄_X0_rotated_ -->\n<g id=\"node5\" class=\"node\">\n<title>μ̄_X0_rotated_</title>\n<ellipse fill=\"none\" stroke=\"#000000\" cx=\"107.1041\" cy=\"-531.3366\" rx=\"83.3772\" ry=\"37.4533\"/>\n<text text-anchor=\"middle\" x=\"107.1041\" y=\"-542.6366\" font-family=\"Times,serif\" font-size=\"14.00\" fill=\"#000000\">μ̄_X0_rotated_</text>\n<text text-anchor=\"middle\" x=\"107.1041\" y=\"-527.6366\" font-family=\"Times,serif\" font-size=\"14.00\" fill=\"#000000\">~</text>\n<text text-anchor=\"middle\" x=\"107.1041\" y=\"-512.6366\" font-family=\"Times,serif\" font-size=\"14.00\" fill=\"#000000\">Normal</text>\n</g>\n<!-- μ̄_X0_rotated_&#45;&gt;μ̄_X0 -->\n<g id=\"edge1\" class=\"edge\">\n<title>μ̄_X0_rotated_&#45;&gt;μ̄_X0</title>\n<path fill=\"none\" stroke=\"#000000\" d=\"M134.1128,-495.8071C141.4386,-486.1702 149.3606,-475.7489 156.6551,-466.1531\"/>\n<polygon fill=\"#000000\" stroke=\"#000000\" points=\"159.6077,-468.0525 162.8732,-457.9734 154.035,-463.8162 159.6077,-468.0525\"/>\n</g>\n<!-- μ̄_X0&#45;&gt;μ̄ -->\n<g id=\"edge6\" class=\"edge\">\n<title>μ̄_X0&#45;&gt;μ̄</title>\n<path fill=\"none\" stroke=\"#000000\" d=\"M183.3436,-404.7783C183.4713,-390.6069 183.6304,-372.9455 183.7701,-357.4472\"/>\n<polygon fill=\"#000000\" stroke=\"#000000\" points=\"187.2727,-357.1639 183.863,-347.1327 180.273,-357.1007 187.2727,-357.1639\"/>\n</g>\n<!-- μ -->\n<g id=\"node9\" class=\"node\">\n<title>μ</title>\n<ellipse fill=\"none\" stroke=\"#000000\" cx=\"184.1041\" cy=\"-198.43\" rx=\"42.3529\" ry=\"37.4533\"/>\n<text text-anchor=\"middle\" x=\"184.1041\" y=\"-209.73\" font-family=\"Times,serif\" font-size=\"14.00\" fill=\"#000000\">μ</text>\n<text text-anchor=\"middle\" x=\"184.1041\" y=\"-194.73\" font-family=\"Times,serif\" font-size=\"14.00\" fill=\"#000000\">~</text>\n<text text-anchor=\"middle\" x=\"184.1041\" y=\"-179.73\" font-family=\"Times,serif\" font-size=\"14.00\" fill=\"#000000\">Normal</text>\n</g>\n<!-- μ̄&#45;&gt;μ -->\n<g id=\"edge8\" class=\"edge\">\n<title>μ̄&#45;&gt;μ</title>\n<path fill=\"none\" stroke=\"#000000\" d=\"M184.1041,-293.6201C184.1041,-279.8162 184.1041,-262.5536 184.1041,-246.5332\"/>\n<polygon fill=\"#000000\" stroke=\"#000000\" points=\"187.6042,-246.2336 184.1041,-236.2337 180.6042,-246.2337 187.6042,-246.2336\"/>\n</g>\n<!-- σ_μ -->\n<g id=\"node8\" class=\"node\">\n<title>σ_μ</title>\n<ellipse fill=\"none\" stroke=\"#000000\" cx=\"314.1041\" cy=\"-320.3833\" rx=\"60.2083\" ry=\"37.4533\"/>\n<text text-anchor=\"middle\" x=\"314.1041\" y=\"-331.6833\" font-family=\"Times,serif\" font-size=\"14.00\" fill=\"#000000\">σ_μ</text>\n<text text-anchor=\"middle\" x=\"314.1041\" y=\"-316.6833\" font-family=\"Times,serif\" font-size=\"14.00\" fill=\"#000000\">~</text>\n<text text-anchor=\"middle\" x=\"314.1041\" y=\"-301.6833\" font-family=\"Times,serif\" font-size=\"14.00\" fill=\"#000000\">HalfNormal</text>\n</g>\n<!-- σ_μ&#45;&gt;μ -->\n<g id=\"edge7\" class=\"edge\">\n<title>σ_μ&#45;&gt;μ</title>\n<path fill=\"none\" stroke=\"#000000\" d=\"M281.2295,-288.9134C268.9865,-277.2475 254.9475,-263.9337 242.1041,-251.9066 235.3497,-245.5816 228.1206,-238.8703 221.138,-232.4173\"/>\n<polygon fill=\"#000000\" stroke=\"#000000\" points=\"223.4148,-229.7559 213.6919,-225.547 218.668,-234.9005 223.4148,-229.7559\"/>\n</g>\n<!-- y -->\n<g id=\"node11\" class=\"node\">\n<title>y</title>\n<ellipse fill=\"#d3d3d3\" stroke=\"#000000\" cx=\"128.1041\" cy=\"-76.4767\" rx=\"42.3529\" ry=\"37.4533\"/>\n<text text-anchor=\"middle\" x=\"128.1041\" y=\"-87.7767\" font-family=\"Times,serif\" font-size=\"14.00\" fill=\"#000000\">y</text>\n<text text-anchor=\"middle\" x=\"128.1041\" y=\"-72.7767\" font-family=\"Times,serif\" font-size=\"14.00\" fill=\"#000000\">~</text>\n<text text-anchor=\"middle\" x=\"128.1041\" y=\"-57.7767\" font-family=\"Times,serif\" font-size=\"14.00\" fill=\"#000000\">Normal</text>\n</g>\n<!-- μ&#45;&gt;y -->\n<g id=\"edge11\" class=\"edge\">\n<title>μ&#45;&gt;y</title>\n<path fill=\"none\" stroke=\"#000000\" d=\"M168.0567,-163.4831C161.9644,-150.2155 154.9426,-134.924 148.5016,-120.8971\"/>\n<polygon fill=\"#000000\" stroke=\"#000000\" points=\"151.5075,-119.0558 144.1538,-111.4287 145.1461,-121.977 151.5075,-119.0558\"/>\n</g>\n<!-- σ&#45;&gt;y -->\n<g id=\"edge10\" class=\"edge\">\n<title>σ&#45;&gt;y</title>\n<path fill=\"none\" stroke=\"#000000\" d=\"M88.1514,-163.4831C94.2438,-150.2155 101.2655,-134.924 107.7065,-120.8971\"/>\n<polygon fill=\"#000000\" stroke=\"#000000\" points=\"111.062,-121.977 112.0544,-111.4287 104.7006,-119.0558 111.062,-121.977\"/>\n</g>\n</g>\n</svg>\n"
          },
          "metadata": {},
          "execution_count": 13
        }
      ]
    },
    {
      "cell_type": "code",
      "metadata": {
        "id": "chief-vintage",
        "colab": {
          "base_uri": "https://localhost:8080/",
          "height": 320
        },
        "outputId": "268cf22d-d1f3-4cc3-844e-54aeb3c59626"
      },
      "source": [
        "with functional_partial_pooling:\n",
        "    functional_partial_pooling_trace = pm.sample()"
      ],
      "id": "chief-vintage",
      "execution_count": 14,
      "outputs": [
        {
          "output_type": "stream",
          "name": "stderr",
          "text": [
            "WARNING (theano.tensor.blas): We did not find a dynamic library in the library_dir of the library we use for blas. If you use ATLAS, make sure to compile it with dynamics library.\n",
            "WARNING (theano.tensor.blas): We did not find a dynamic library in the library_dir of the library we use for blas. If you use ATLAS, make sure to compile it with dynamics library.\n",
            "/usr/local/lib/python3.7/dist-packages/ipykernel_launcher.py:2: FutureWarning: In v4.0, pm.sample will return an `arviz.InferenceData` object instead of a `MultiTrace` by default. You can pass return_inferencedata=True or return_inferencedata=False to be safe and silence this warning.\n",
            "  \n",
            "Auto-assigning NUTS sampler...\n",
            "Initializing NUTS using jitter+adapt_diag...\n",
            "Sequential sampling (2 chains in 1 job)\n",
            "NUTS: [σ, μ, μ_σ, σ_μ, μ̄_X1_rotated_, μ̄_X0_rotated_, GP_length_Scale]\n"
          ]
        },
        {
          "output_type": "display_data",
          "data": {
            "text/html": [
              "\n",
              "    <div>\n",
              "        <style>\n",
              "            /* Turns off some styling */\n",
              "            progress {\n",
              "                /* gets rid of default border in Firefox and Opera. */\n",
              "                border: none;\n",
              "                /* Needs to be in here for Safari polyfill so background images work as expected. */\n",
              "                background-size: auto;\n",
              "            }\n",
              "            .progress-bar-interrupted, .progress-bar-interrupted::-webkit-progress-bar {\n",
              "                background: #F44336;\n",
              "            }\n",
              "        </style>\n",
              "      <progress value='2000' class='' max='2000' style='width:300px; height:20px; vertical-align: middle;'></progress>\n",
              "      100.00% [2000/2000 02:11<00:00 Sampling chain 0, 131 divergences]\n",
              "    </div>\n",
              "    "
            ],
            "text/plain": [
              "<IPython.core.display.HTML object>"
            ]
          },
          "metadata": {}
        },
        {
          "output_type": "display_data",
          "data": {
            "text/html": [
              "\n",
              "    <div>\n",
              "        <style>\n",
              "            /* Turns off some styling */\n",
              "            progress {\n",
              "                /* gets rid of default border in Firefox and Opera. */\n",
              "                border: none;\n",
              "                /* Needs to be in here for Safari polyfill so background images work as expected. */\n",
              "                background-size: auto;\n",
              "            }\n",
              "            .progress-bar-interrupted, .progress-bar-interrupted::-webkit-progress-bar {\n",
              "                background: #F44336;\n",
              "            }\n",
              "        </style>\n",
              "      <progress value='2000' class='' max='2000' style='width:300px; height:20px; vertical-align: middle;'></progress>\n",
              "      100.00% [2000/2000 01:39<00:00 Sampling chain 1, 354 divergences]\n",
              "    </div>\n",
              "    "
            ],
            "text/plain": [
              "<IPython.core.display.HTML object>"
            ]
          },
          "metadata": {}
        },
        {
          "output_type": "stream",
          "name": "stderr",
          "text": [
            "Sampling 2 chains for 1_000 tune and 1_000 draw iterations (2_000 + 2_000 draws total) took 231 seconds.\n",
            "There were 131 divergences after tuning. Increase `target_accept` or reparameterize.\n",
            "There were 485 divergences after tuning. Increase `target_accept` or reparameterize.\n",
            "The acceptance probability does not match the target. It is 0.6842933125577431, but should be close to 0.8. Try to increase the number of tuning steps.\n",
            "The rhat statistic is larger than 1.05 for some parameters. This indicates slight problems during sampling.\n",
            "The estimated number of effective samples is smaller than 200 for some parameters.\n"
          ]
        }
      ]
    },
    {
      "cell_type": "code",
      "metadata": {
        "id": "pWnXTjq_Ce62"
      },
      "source": [
        "try:\n",
        "    pd.to_pickle(\n",
        "        [no_pooling_trace, \n",
        "         complete_pooling_trace, \n",
        "         partial_pooling_trace, \n",
        "         functional_partial_pooling_trace\n",
        "        ],\n",
        "    \"traces.pickle\"\n",
        "    )\n",
        "except:\n",
        "    no_pooling_trace, complete_pooling_trace, partial_pooling_trace, functional_partial_pooling_trace = pd.read_pickle(\"traces.pickle\")"
      ],
      "id": "pWnXTjq_Ce62",
      "execution_count": 25,
      "outputs": []
    },
    {
      "cell_type": "markdown",
      "metadata": {
        "id": "Mr4c8gxV8oc6"
      },
      "source": [
        "## Plot results"
      ],
      "id": "Mr4c8gxV8oc6"
    },
    {
      "cell_type": "code",
      "metadata": {
        "id": "aFD1bct1Oybm"
      },
      "source": [
        "plt.rcParams.update({\n",
        "    \"figure.dpi\": 100,\n",
        "    \"figure.figsize\": (4.5, 4),  # inches\n",
        "    \"figure.facecolor\": \"white\", #\"lightyellow\",\n",
        "    \n",
        "    \"savefig.dpi\": 150,\n",
        "    \n",
        "    \"font.family\": \"sans-serif\",\n",
        "    \"font.sans-serif\": \"Helvetica\",\n",
        "    \"font.size\": 8,\n",
        "    \n",
        "    \"lines.linewidth\": 1,\n",
        "    \"lines.markersize\": 2,\n",
        "    \n",
        "    \"axes.labelsize\": 7,\n",
        "    \n",
        "    \"xtick.labelsize\": 6,\n",
        "    \"xtick.major.size\": 1,\n",
        "    \n",
        "    \"ytick.major.size\": 0,\n",
        "    \"ytick.labelsize\": 6,\n",
        "\n",
        "    \"axes.spines.left\": True,\n",
        "    \"axes.spines.right\": True,\n",
        "    \"axes.spines.top\": True,\n",
        "    'axes.edgecolor': \"silver\",\n",
        "    \"axes.linewidth\": .5,\n",
        "    \n",
        "    \"text.usetex\": False,\n",
        "    'mathtext.default': 'regular',\n",
        "\n",
        "    'legend.fontsize': 6,\n",
        "    \n",
        "})"
      ],
      "id": "aFD1bct1Oybm",
      "execution_count": 18,
      "outputs": []
    },
    {
      "cell_type": "code",
      "metadata": {
        "id": "OUPpIwWFMG5N",
        "colab": {
          "base_uri": "https://localhost:8080/",
          "height": 389
        },
        "outputId": "f7b75812-8fb6-4456-9440-522de01b3936"
      },
      "source": [
        "from scipy import stats\n",
        "def kde(data, ax=None, n_pts=50, true_val=None, color=\"grey\"):\n",
        "    density = stats.kde.gaussian_kde(data)\n",
        "    x = numpy.linspace(np.min(data), np.max(data), n_pts)\n",
        "    y = density(x)\n",
        "    if ax is None:\n",
        "        ax=plt.subplot(111)\n",
        "    ax.fill_between(x, 0, y, color=color, alpha=.4)\n",
        "    \n",
        "    if true_val is not None:\n",
        "        #plt.vlines(x=true_val, ymin=0, ymax=np.interp(true_val, x, y), color=color, linestyles='--') \n",
        "        plt.vlines(x=true_val, ymin=0, ymax=10, color=color, linestyles='--') \n",
        "\n",
        "    ax.set_xlim(-2.1,2.1)\n",
        "    ax.set_ylim(0,4)\n",
        "    ax.set_xticks([-2,0,2])\n",
        "    ax.set_xticklabels([-2,'outcome',2])\n",
        "    ax.set_yticks([])\n",
        "\n",
        "    \n",
        "kde(complete_pooling_trace['μ'][:,0])\n"
      ],
      "id": "OUPpIwWFMG5N",
      "execution_count": 16,
      "outputs": [
        {
          "output_type": "stream",
          "name": "stderr",
          "text": [
            "findfont: Font family ['sans-serif'] not found. Falling back to DejaVu Sans.\n",
            "findfont: Generic family 'sans-serif' not found because none of the following families were found: Helvetica\n"
          ]
        },
        {
          "output_type": "display_data",
          "data": {
            "image/png": "[encoded data removed]",
            "text/plain": [
              "<Figure size 450x400 with 1 Axes>"
            ]
          },
          "metadata": {}
        }
      ]
    },
    {
      "cell_type": "code",
      "metadata": {
        "id": "VePBkzXte-w_",
        "colab": {
          "base_uri": "https://localhost:8080/",
          "height": 849
        },
        "outputId": "55fe3e1e-f5be-460e-b0e4-ba4c739d3e26"
      },
      "source": [
        "#d_exhaustive#j_plot = [np.argmin(d_j), np.argwhere(d_j == np.median(d_j))[0,0], np.argmax(d_j)]\n",
        "\n",
        "# todo: use largest double point\n",
        "if np.argwhere(d_j == np.max(d_j)).shape[0]>1:\n",
        "    j_plot = [np.argmin(d_j), np.argwhere(d_j == np.max(d_j))[0,0], np.argwhere(d_j == np.max(d_j))[1,0]]\n",
        "else:\n",
        "    print(\"\")\n",
        "\n",
        "fig = plt.figure(figsize=(3.25, 6.5), dpi=100, \n",
        "                 #facecolor=\"lightyellow\", \n",
        "                 constrained_layout=True)\n",
        "\n",
        "\n",
        "# horizontal positions of subplots\n",
        "h_margin =.015\n",
        "sm_h = .03\n",
        "n_xitems = 3\n",
        "width = (1 - 2*h_margin - 2*sm_h)/n_xitems\n",
        "x_seq = [h_margin, width + sm_h, width + sm_h]\n",
        "x = np.cumsum(x_seq)\n",
        "assert len(x) == n_xitems\n",
        "x_text=0.0\n",
        "\n",
        "# vertical positions of subplots\n",
        "v_margin =.01\n",
        "lg_v = .07  # large vertical gap\n",
        "sm_v = .04\n",
        "n_yitems = 9\n",
        "height = (1 - 2*v_margin - 4*lg_v - 3*sm_h)/n_yitems\n",
        "\n",
        "y_seq = [v_margin, height+ sm_v, height + sm_v, height + lg_v, height + sm_v, height + lg_v, height + lg_v, height + lg_v]\n",
        "ypos = np.cumsum(y_seq)\n",
        "\n",
        "\n",
        "# synthdata\n",
        "plt.figtext(x_text, ypos[7]+2*height+.01, \"A. Synthetic Data\", va=\"bottom\", ha=\"left\", fontweight=\"bold\")\n",
        "\n",
        "ax = fig.add_axes([x[1]-.75*width, ypos[7],  2.5*width, height*2.1])\n",
        "plt.plot(d_exhaustive, μ_true[0,:], '--', color='grey', label=\"Ground truth at location\", alpha=.7)\n",
        "plt.plot(d_exhaustive, μ_true[1,:], '--', color='navy', alpha=.7)\n",
        "\n",
        "plt.errorbar(d_j, μ_j[:,0], σ_j, color='grey', fmt='.', ms=4, label=\"Microexperiment\")\n",
        "plt.errorbar(d_j, μ_j[:,1], σ_j, color='navy', fmt='.', ms=4)\n",
        "plt.legend(loc=(0.0, .81), ncol=2, frameon=False)\n",
        "\n",
        "ax.set_ylim(-1.1, 1.4)\n",
        "ax.set_yticks([-1,0,1])\n",
        "ax.set_xticks([0,.5,1])\n",
        "ax.set_xticklabels([0,\"Design space\",1])\n",
        "ax.set_xlim(-.02, 1.02)\n",
        "plt.ylabel(\"Outcome (y)\")\n",
        "plt.annotate(\"1, \", (.03,.74), color='grey', fontsize=6, fontweight=None, textcoords='axes fraction')\n",
        "plt.annotate(\"8\", (.06,.74), color='firebrick', fontsize=6, fontweight='bold', textcoords='axes fraction')\n",
        "plt.annotate(\": Microexperiment Index\", (.09,.74), color='k', fontsize=6, fontweight=None, textcoords='axes fraction')\n",
        "\n",
        "\n",
        "for i in range(len(d_j)):\n",
        "    c = 'firebrick' if i in j_plot else 'grey'\n",
        "    fw = \"bold\" if i in j_plot else None\n",
        "    di = d_j[i]\n",
        "    matches = np.where(di==d_j)[0]  # other microexperiments in this location\n",
        "    if np.all(matches <= i):  # last one\n",
        "        va=\"top\"\n",
        "    else:\n",
        "        va=\"bottom\"\n",
        "\n",
        "    plt.annotate(i, (di, μ_j[i,0]), ha=\"left\", va=va, color=c, fontsize=6, fontweight=fw)  \n",
        "    plt.annotate(i, (di, μ_j[i,1]), ha=\"left\", va=va, color=c, fontsize=6, fontweight=fw)\n",
        "\n",
        "\n",
        "\n",
        "# complete pooling\n",
        "plt.figtext(x_text, ypos[6]+height+.01, \"B. Complete Pooling\", va=\"bottom\", ha=\"left\", fontweight=\"bold\")\n",
        "\n",
        "for i, ji in enumerate(j_plot):\n",
        "    ax = fig.add_axes([x[i], ypos[6],  width, height])\n",
        "    kde(complete_pooling_trace['μ'][:,0], ax=ax, color='grey', true_val=μ_j[ji][0])\n",
        "    kde(complete_pooling_trace['μ'][:,1], ax=ax, color='navy', true_val=μ_j[ji][1])\n",
        "    ax.text(.02,.98, r'$\\mu$', va=\"top\", weight=\"bold\", transform=ax.transAxes)\n",
        "    ax.text(.98,.98, r'$j=%i$'%ji, va=\"top\", ha=\"right\", color=\"firebrick\", weight=\"bold\", fontsize=6, transform=ax.transAxes)\n",
        "\n",
        "\n",
        "\n",
        "# no pooling\n",
        "plt.figtext(x_text, ypos[5]+height+.01, \"C. No Pooling\", va=\"bottom\", ha=\"left\", fontweight=\"bold\")\n",
        "\n",
        "for i, ji in enumerate(j_plot):\n",
        "    ax = fig.add_axes([x[i], ypos[5],  width, height])\n",
        "    kde(no_pooling_trace['μ'][:,ji,0], ax=ax, color='grey', true_val=μ_j[ji][0])\n",
        "    kde(no_pooling_trace['μ'][:,ji,1], ax=ax, color='navy', true_val=μ_j[ji][1])\n",
        "    ax.text(.02,.98, r'$\\mu_{j=%i}$'%ji, va=\"top\", weight=\"bold\", transform=ax.transAxes)\n",
        "    ax.text(.98,.98, r'$j=%i$'%ji, va=\"top\", ha=\"right\", color=\"firebrick\", weight=\"bold\", fontsize=6, transform=ax.transAxes)\n",
        "\n",
        "# partial pooling\n",
        "plt.figtext(x_text, ypos[4]+height+.01 , \"D. Partial Pooling\", va=\"bottom\", ha=\"left\", fontweight=\"bold\")\n",
        "ax = fig.add_axes([x[1]-.5*width, ypos[4],  2*width, height])\n",
        "kde(partial_pooling_trace['μ̄'][:,0], ax=ax, color='grey')\n",
        "kde(partial_pooling_trace['μ̄'][:,1], ax=ax, color='navy')\n",
        "ax.text(.02,.98, r'$\\bar{\\mu}$', va=\"top\", weight=\"bold\", transform=ax.transAxes)\n",
        "ax_mubar = ax\n",
        "\n",
        "for i, ji in enumerate(j_plot):\n",
        "    ax = fig.add_axes([x[i], ypos[3],  width, height])\n",
        "    kde(partial_pooling_trace['μ'][:,ji,0], ax=ax, color='grey', true_val=μ_j[ji][0])\n",
        "    kde(partial_pooling_trace['μ'][:,ji,1], ax=ax, color='navy', true_val=μ_j[ji][1])\n",
        "    ax.text(.02,.98, r'$\\mu_{j=%i}$'%ji, va=\"top\", weight=\"bold\", transform=ax.transAxes)\n",
        "    ax_mubar.annotate(\"\", xy=(.5,0), xytext=(0.5,1), \n",
        "                   xycoords=ax_mubar.transAxes,\n",
        "                   textcoords=ax.transAxes, \n",
        "                   arrowprops=dict(facecolor='black', arrowstyle='<-', clip_on=False))\n",
        "    ax.text(.98,.98, r'$j=%i$'%ji, va=\"top\", ha=\"right\", color=\"firebrick\", weight=\"bold\", fontsize=6, transform=ax.transAxes)\n",
        "\n",
        "\n",
        "\n",
        "\n",
        "# functional pooling\n",
        "plt.figtext(x_text, ypos[2]+height+.01 , \"E. Functional Partial Pooling\", va=\"bottom\", ha=\"left\", fontweight=\"bold\")\n",
        "ax = fig.add_axes([x[1]-.75*width, ypos[2],  2.5*width, height])\n",
        "for p in range(0,50,5):\n",
        "    ax.fill_between(ds.flatten(), *np.percentile(functional_partial_pooling_trace['μ̄'][:,:,0], (p, 100-p), axis=0), color='grey', alpha=.07, linewidth=0)\n",
        "    ax.fill_between(ds.flatten(), *np.percentile(functional_partial_pooling_trace['μ̄'][:,:,1], (p, 100-p), axis=0), color='navy', alpha=.07, linewidth=0)\n",
        "ax.set_xticks([0,.5,1])\n",
        "ax.set_xticklabels([0,\"Design space\",1])\n",
        "ax.plot(d_exhaustive.flatten(), μ_true[0], '--', color='grey')\n",
        "ax.plot(d_exhaustive.flatten(), μ_true[1], '--', color='navy')\n",
        "ax.set_ylim(-1.1, 1.1)\n",
        "ax.set_yticks([-1,1])\n",
        "ax.set_yticklabels([-1, 1])\n",
        "\n",
        "ax.set_xlim(-.02, 1.02)\n",
        "ax.text(.03,.98, r'$\\bar{\\mu}$', va=\"top\", weight=\"bold\", transform=ax.transAxes)\n",
        "ax.set_ylabel(\"outcome\", labelpad=0)\n",
        "plt.vlines([0,1], -1, 1, 'k', linewidth=1.5)\n",
        "ax_fmubar = ax\n",
        "\n",
        "ax = fig.add_axes([x[0], ypos[1],  width, height])\n",
        "kde(functional_partial_pooling_trace['μ̄'][:,d_index[j_plot[0]],0], ax=ax, color='grey')\n",
        "kde(functional_partial_pooling_trace['μ̄'][:,d_index[j_plot[0]],1], ax=ax, color='navy')\n",
        "ax.text(.02,.98, r'$\\bar{\\mu}_{d=0}$', va=\"top\", weight=\"bold\", transform=ax.transAxes)\n",
        "ax_fmu0 = ax\n",
        "\n",
        "ax = fig.add_axes([x[1]+(width+sm_h)/4, ypos[1],  width*1.5, height])\n",
        "kde(functional_partial_pooling_trace['μ̄'][:,d_index[j_plot[1]],0], ax=ax, color='grey')\n",
        "kde(functional_partial_pooling_trace['μ̄'][:,d_index[j_plot[1]],1], ax=ax, color='navy')\n",
        "ax.text(.02,.98, r'$\\bar{\\mu}_{d=1}$', va=\"top\", weight=\"bold\", transform=ax.transAxes)\n",
        "ax_fmu1 = ax\n",
        "\n",
        "ax_fmubar.annotate(\"\", xy=(0,-1), xytext=(0.5,1), \n",
        "                   xycoords=ax_fmubar.transData,\n",
        "                   textcoords=ax_fmu0.transAxes, \n",
        "                   arrowprops=dict(facecolor='black', arrowstyle='<-', clip_on=False))\n",
        "\n",
        "ax_fmubar.annotate(\"\", xy=(1,-1), xytext=(0.5,1), \n",
        "                   xycoords=ax_fmubar.transData,\n",
        "                   textcoords=ax_fmu1.transAxes, \n",
        "                   arrowprops=dict(facecolor='black', arrowstyle='<-', clip_on=False))\n",
        "\n",
        "\n",
        "ax_fmuj = []\n",
        "for i, ji in enumerate(j_plot):\n",
        "    ax = fig.add_axes([x[i], ypos[0],  width, height])\n",
        "    kde(functional_partial_pooling_trace['μ'][:,ji,0], ax=ax, color='grey', true_val=μ_j[ji][0])\n",
        "    kde(functional_partial_pooling_trace['μ'][:,ji,1], ax=ax, color='navy', true_val=μ_j[ji][1])\n",
        "    ax.text(.02,.98, r'$\\mu_{j=%i}$'%ji, va=\"top\", weight=\"bold\", transform=ax.transAxes)\n",
        "    ax_fmuj.append(ax) \n",
        "    ax.text(.98,.98, r'$j=%i$'%ji, va=\"top\", ha=\"right\", color=\"firebrick\", weight=\"bold\", fontsize=6, transform=ax.transAxes)\n",
        "\n",
        "\n",
        "ax_fmu0.annotate(\"\", xy=(.5,0), xytext=(0.5,1), \n",
        "                   xycoords=ax_fmu0.transAxes,\n",
        "                   textcoords=ax_fmuj[0].transAxes, \n",
        "                   arrowprops=dict(facecolor='black', arrowstyle='<-', clip_on=False))\n",
        "\n",
        "ax_fmu1.annotate(\"\", xy=(.5,0), xytext=(0.5,1), \n",
        "                   xycoords=ax_fmu1.transAxes,\n",
        "                   textcoords=ax_fmuj[1].transAxes, \n",
        "                   arrowprops=dict(facecolor='black', arrowstyle='<-', clip_on=False))\n",
        "\n",
        "ax_fmu1.annotate(\"\", xy=(.5,0), xytext=(0.5,1), \n",
        "                   xycoords=ax_fmu1.transAxes,\n",
        "                   textcoords=ax_fmuj[2].transAxes, \n",
        "                   arrowprops=dict(facecolor='black', arrowstyle='<-', clip_on=False))\n",
        "\n",
        "plt.savefig(\"fig1_model.png\", dpi=200)\n"
      ],
      "id": "VePBkzXte-w_",
      "execution_count": 23,
      "outputs": [
        {
          "output_type": "stream",
          "name": "stderr",
          "text": [
            "/usr/local/lib/python3.7/dist-packages/ipykernel_launcher.py:52: UserWarning: You have used the `textcoords` kwarg, but not the `xytext` kwarg.  This can lead to surprising results.\n",
            "/usr/local/lib/python3.7/dist-packages/ipykernel_launcher.py:53: UserWarning: You have used the `textcoords` kwarg, but not the `xytext` kwarg.  This can lead to surprising results.\n",
            "/usr/local/lib/python3.7/dist-packages/ipykernel_launcher.py:54: UserWarning: You have used the `textcoords` kwarg, but not the `xytext` kwarg.  This can lead to surprising results.\n",
            "/usr/local/lib/python3.7/dist-packages/ipykernel_launcher.py:184: UserWarning: There are no gridspecs with layoutgrids. Possibly did not call parent GridSpec with the \"figure\" keyword\n",
            "/usr/local/lib/python3.7/dist-packages/IPython/core/pylabtools.py:125: UserWarning: There are no gridspecs with layoutgrids. Possibly did not call parent GridSpec with the \"figure\" keyword\n",
            "  fig.canvas.print_figure(bytes_io, **kw)\n"
          ]
        },
        {
          "output_type": "display_data",
          "data": {
            "image/png": "[encoded data removed]",
            "text/plain": [
              "<Figure size 325x650 with 17 Axes>"
            ]
          },
          "metadata": {}
        }
      ]
    },
    {
      "cell_type": "code",
      "metadata": {
        "id": "ZEKitLRPJrTa"
      },
      "source": [
        ""
      ],
      "id": "ZEKitLRPJrTa",
      "execution_count": null,
      "outputs": []
    }
  ]
}